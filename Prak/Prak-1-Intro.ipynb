{
 "cells": [
  {
   "cell_type": "code",
   "execution_count": 1,
   "id": "51957b60",
   "metadata": {
    "scrolled": true
   },
   "outputs": [
    {
     "name": "stdout",
     "output_type": "stream",
     "text": [
      "Requirement already satisfied: psycopg2 in e:\\program\\anaconda\\lib\\site-packages (2.9.1)\n",
      "Requirement already satisfied: pandas in e:\\program\\anaconda\\lib\\site-packages (1.2.4)\n",
      "Requirement already satisfied: numpy>=1.16.5 in e:\\program\\anaconda\\lib\\site-packages (from pandas) (1.20.1)\n",
      "Requirement already satisfied: pytz>=2017.3 in e:\\program\\anaconda\\lib\\site-packages (from pandas) (2021.1)\n",
      "Requirement already satisfied: python-dateutil>=2.7.3 in e:\\program\\anaconda\\lib\\site-packages (from pandas) (2.8.1)\n",
      "Requirement already satisfied: six>=1.5 in e:\\program\\anaconda\\lib\\site-packages (from python-dateutil>=2.7.3->pandas) (1.15.0)\n"
     ]
    }
   ],
   "source": [
    "import sys\n",
    "!{sys.executable} -m pip install psycopg2\n",
    "!{sys.executable} -m pip install pandas\n",
    "import psycopg2\n",
    "import pandas as pd"
   ]
  },
  {
   "cell_type": "code",
   "execution_count": 2,
   "id": "4b3dc6b5",
   "metadata": {},
   "outputs": [],
   "source": [
    "conn = psycopg2.connect(host=\"localhost\", port=5432, database=\"dsda\", user=\"postgres\", password=\"12345\")\n",
    "conn.set_session(autocommit = True)"
   ]
  },
  {
   "cell_type": "code",
   "execution_count": 3,
   "id": "f830d5a5",
   "metadata": {},
   "outputs": [],
   "source": [
    "cur = conn.cursor()"
   ]
  },
  {
   "cell_type": "code",
   "execution_count": 7,
   "id": "189fcdce",
   "metadata": {},
   "outputs": [],
   "source": [
    "sql = \"SELECT * FROM orders\"\n",
    "cur.execute(sql)\n",
    "baris = cur.fetchall()"
   ]
  },
  {
   "cell_type": "code",
   "execution_count": 9,
   "id": "9c8bc62b",
   "metadata": {},
   "outputs": [
    {
     "data": {
      "text/html": [
       "<div>\n",
       "<style scoped>\n",
       "    .dataframe tbody tr th:only-of-type {\n",
       "        vertical-align: middle;\n",
       "    }\n",
       "\n",
       "    .dataframe tbody tr th {\n",
       "        vertical-align: top;\n",
       "    }\n",
       "\n",
       "    .dataframe thead th {\n",
       "        text-align: right;\n",
       "    }\n",
       "</style>\n",
       "<table border=\"1\" class=\"dataframe\">\n",
       "  <thead>\n",
       "    <tr style=\"text-align: right;\">\n",
       "      <th></th>\n",
       "      <th>order_id</th>\n",
       "      <th>customer_id</th>\n",
       "      <th>campaign_id</th>\n",
       "      <th>order_date</th>\n",
       "      <th>city</th>\n",
       "      <th>state</th>\n",
       "      <th>zipcode</th>\n",
       "      <th>payment_type</th>\n",
       "      <th>total_price</th>\n",
       "      <th>num_order</th>\n",
       "      <th>num_units</th>\n",
       "    </tr>\n",
       "  </thead>\n",
       "  <tbody>\n",
       "    <tr>\n",
       "      <th>0</th>\n",
       "      <td>1002854</td>\n",
       "      <td>45978</td>\n",
       "      <td>2141</td>\n",
       "      <td>2009-10-13</td>\n",
       "      <td>NEWTON</td>\n",
       "      <td>MA</td>\n",
       "      <td>2459</td>\n",
       "      <td>VI</td>\n",
       "      <td>190.00</td>\n",
       "      <td>3</td>\n",
       "      <td>3</td>\n",
       "    </tr>\n",
       "    <tr>\n",
       "      <th>1</th>\n",
       "      <td>1002855</td>\n",
       "      <td>125381</td>\n",
       "      <td>2173</td>\n",
       "      <td>2009-10-13</td>\n",
       "      <td>NEW ROCHELLE</td>\n",
       "      <td>NY</td>\n",
       "      <td>10804</td>\n",
       "      <td>VI</td>\n",
       "      <td>10.00</td>\n",
       "      <td>1</td>\n",
       "      <td>1</td>\n",
       "    </tr>\n",
       "    <tr>\n",
       "      <th>2</th>\n",
       "      <td>1002856</td>\n",
       "      <td>103122</td>\n",
       "      <td>2141</td>\n",
       "      <td>2011-06-02</td>\n",
       "      <td>MIAMI</td>\n",
       "      <td>FL</td>\n",
       "      <td>33137</td>\n",
       "      <td>AE</td>\n",
       "      <td>35.22</td>\n",
       "      <td>2</td>\n",
       "      <td>2</td>\n",
       "    </tr>\n",
       "    <tr>\n",
       "      <th>3</th>\n",
       "      <td>1002857</td>\n",
       "      <td>130980</td>\n",
       "      <td>2173</td>\n",
       "      <td>2009-10-14</td>\n",
       "      <td>E RUTHERFORD</td>\n",
       "      <td>NJ</td>\n",
       "      <td>7073</td>\n",
       "      <td>AE</td>\n",
       "      <td>10.00</td>\n",
       "      <td>1</td>\n",
       "      <td>1</td>\n",
       "    </tr>\n",
       "  </tbody>\n",
       "</table>\n",
       "</div>"
      ],
      "text/plain": [
       "  order_id customer_id campaign_id order_date          city state zipcode  \\\n",
       "0  1002854       45978        2141 2009-10-13        NEWTON    MA    2459   \n",
       "1  1002855      125381        2173 2009-10-13  NEW ROCHELLE    NY   10804   \n",
       "2  1002856      103122        2141 2011-06-02         MIAMI    FL   33137   \n",
       "3  1002857      130980        2173 2009-10-14  E RUTHERFORD    NJ    7073   \n",
       "\n",
       "  payment_type  total_price num_order num_units  \n",
       "0           VI       190.00         3         3  \n",
       "1           VI        10.00         1         1  \n",
       "2           AE        35.22         2         2  \n",
       "3           AE        10.00         1         1  "
      ]
     },
     "execution_count": 9,
     "metadata": {},
     "output_type": "execute_result"
    }
   ],
   "source": [
    "order = pd.DataFrame([[ij for ij in i]for i in baris])\n",
    "order.rename(columns={0:'order_id',1:'customer_id',2:'campaign_id',3:'order_date',4:'city',5:'state',6:'zipcode',7:'payment_type',8:'total_price',9:'num_order',10:'num_units'},inplace=True)\n",
    "order.head(4)"
   ]
  },
  {
   "cell_type": "code",
   "execution_count": 12,
   "id": "682f8302",
   "metadata": {},
   "outputs": [
    {
     "data": {
      "text/html": [
       "<div>\n",
       "<style scoped>\n",
       "    .dataframe tbody tr th:only-of-type {\n",
       "        vertical-align: middle;\n",
       "    }\n",
       "\n",
       "    .dataframe tbody tr th {\n",
       "        vertical-align: top;\n",
       "    }\n",
       "\n",
       "    .dataframe thead th {\n",
       "        text-align: right;\n",
       "    }\n",
       "</style>\n",
       "<table border=\"1\" class=\"dataframe\">\n",
       "  <thead>\n",
       "    <tr style=\"text-align: right;\">\n",
       "      <th></th>\n",
       "      <th>total_price</th>\n",
       "    </tr>\n",
       "  </thead>\n",
       "  <tbody>\n",
       "    <tr>\n",
       "      <th>count</th>\n",
       "      <td>192797.000000</td>\n",
       "    </tr>\n",
       "    <tr>\n",
       "      <th>mean</th>\n",
       "      <td>71.035418</td>\n",
       "    </tr>\n",
       "    <tr>\n",
       "      <th>std</th>\n",
       "      <td>183.546002</td>\n",
       "    </tr>\n",
       "    <tr>\n",
       "      <th>min</th>\n",
       "      <td>0.000000</td>\n",
       "    </tr>\n",
       "    <tr>\n",
       "      <th>25%</th>\n",
       "      <td>16.000000</td>\n",
       "    </tr>\n",
       "    <tr>\n",
       "      <th>50%</th>\n",
       "      <td>25.950000</td>\n",
       "    </tr>\n",
       "    <tr>\n",
       "      <th>75%</th>\n",
       "      <td>46.850000</td>\n",
       "    </tr>\n",
       "    <tr>\n",
       "      <th>max</th>\n",
       "      <td>9848.960000</td>\n",
       "    </tr>\n",
       "  </tbody>\n",
       "</table>\n",
       "</div>"
      ],
      "text/plain": [
       "         total_price\n",
       "count  192797.000000\n",
       "mean       71.035418\n",
       "std       183.546002\n",
       "min         0.000000\n",
       "25%        16.000000\n",
       "50%        25.950000\n",
       "75%        46.850000\n",
       "max      9848.960000"
      ]
     },
     "execution_count": 12,
     "metadata": {},
     "output_type": "execute_result"
    }
   ],
   "source": [
    "order.describe()"
   ]
  },
  {
   "cell_type": "code",
   "execution_count": 13,
   "id": "555555f5",
   "metadata": {},
   "outputs": [
    {
     "data": {
      "text/plain": [
       "(192983, 11)"
      ]
     },
     "execution_count": 13,
     "metadata": {},
     "output_type": "execute_result"
    }
   ],
   "source": [
    "order.shape"
   ]
  },
  {
   "cell_type": "code",
   "execution_count": 14,
   "id": "feb6ed16",
   "metadata": {},
   "outputs": [
    {
     "data": {
      "text/plain": [
       "71.03541756351173"
      ]
     },
     "execution_count": 14,
     "metadata": {},
     "output_type": "execute_result"
    }
   ],
   "source": [
    "order['total_price'].mean()"
   ]
  },
  {
   "cell_type": "code",
   "execution_count": 15,
   "id": "125e779e",
   "metadata": {},
   "outputs": [
    {
     "data": {
      "text/plain": [
       "order_date\n",
       "2009-10-04    18.489282\n",
       "2009-10-05    16.907114\n",
       "2009-10-06    31.735349\n",
       "2009-10-07    22.062759\n",
       "2009-10-08    33.134118\n",
       "                ...    \n",
       "2016-09-16    54.217333\n",
       "2016-09-17    34.912500\n",
       "2016-09-18    47.739091\n",
       "2016-09-19    46.532273\n",
       "2016-09-20    47.200000\n",
       "Name: total_price, Length: 2541, dtype: float64"
      ]
     },
     "execution_count": 15,
     "metadata": {},
     "output_type": "execute_result"
    }
   ],
   "source": [
    "order.groupby('order_date')['total_price'].mean()"
   ]
  },
  {
   "cell_type": "code",
   "execution_count": 17,
   "id": "1287e136",
   "metadata": {},
   "outputs": [
    {
     "data": {
      "text/plain": [
       "183.54600223413962"
      ]
     },
     "execution_count": 17,
     "metadata": {},
     "output_type": "execute_result"
    }
   ],
   "source": [
    "order['total_price'].std()"
   ]
  },
  {
   "cell_type": "code",
   "execution_count": 18,
   "id": "fd0afa11",
   "metadata": {},
   "outputs": [
    {
     "data": {
      "text/plain": [
       "order_date\n",
       "2009-10-04    20.436475\n",
       "2009-10-05    10.895262\n",
       "2009-10-06    71.229757\n",
       "2009-10-07    30.588732\n",
       "2009-10-08    74.703053\n",
       "                ...    \n",
       "2016-09-16    50.183828\n",
       "2016-09-17    41.822191\n",
       "2016-09-18    41.695064\n",
       "2016-09-19    53.153625\n",
       "2016-09-20     3.181981\n",
       "Name: total_price, Length: 2541, dtype: float64"
      ]
     },
     "execution_count": 18,
     "metadata": {},
     "output_type": "execute_result"
    }
   ],
   "source": [
    "order.groupby('order_date')['total_price'].std()"
   ]
  },
  {
   "cell_type": "code",
   "execution_count": 19,
   "id": "ba39ce99",
   "metadata": {},
   "outputs": [
    {
     "data": {
      "text/plain": [
       "campaign_id\n",
       "2001      7.950000\n",
       "2002     66.283956\n",
       "2003     16.971377\n",
       "2004     15.966667\n",
       "2005    107.076400\n",
       "           ...    \n",
       "2235     14.032077\n",
       "2236     89.446841\n",
       "2237     57.610957\n",
       "2238    255.000000\n",
       "2239     13.945000\n",
       "Name: total_price, Length: 239, dtype: float64"
      ]
     },
     "execution_count": 19,
     "metadata": {},
     "output_type": "execute_result"
    }
   ],
   "source": [
    "order.groupby('campaign_id')['total_price'].mean()"
   ]
  },
  {
   "cell_type": "code",
   "execution_count": 20,
   "id": "8ac8beb5",
   "metadata": {},
   "outputs": [
    {
     "data": {
      "text/plain": [
       "city\n",
       "#07-01 FONTANA HGTS     20.000000\n",
       "#36 NYE                 14.975000\n",
       ".EASTHAM                34.100000\n",
       "0201 OSLO               32.000000\n",
       "05446-030               14.000000\n",
       "                          ...    \n",
       "ZIONSDILLE              12.975000\n",
       "ZIONSVILLE              39.143636\n",
       "ZIONSVIOLE              67.500000\n",
       "ZOLLIKERBERG           109.975000\n",
       "ZURICH                  80.750000\n",
       "Name: total_price, Length: 12706, dtype: float64"
      ]
     },
     "execution_count": 20,
     "metadata": {},
     "output_type": "execute_result"
    }
   ],
   "source": [
    "order.groupby('city')['total_price'].mean()"
   ]
  },
  {
   "cell_type": "code",
   "execution_count": 21,
   "id": "e05e861f",
   "metadata": {},
   "outputs": [
    {
     "data": {
      "text/plain": [
       "payment_type\n",
       "??     3.783291\n",
       "AE    98.262373\n",
       "DB    36.983881\n",
       "MC    69.801520\n",
       "OC    32.218595\n",
       "VI    65.094609\n",
       "Name: total_price, dtype: float64"
      ]
     },
     "execution_count": 21,
     "metadata": {},
     "output_type": "execute_result"
    }
   ],
   "source": [
    "order.groupby('payment_type')['total_price'].mean()"
   ]
  },
  {
   "cell_type": "code",
   "execution_count": 22,
   "id": "0b3ce356",
   "metadata": {},
   "outputs": [
    {
     "data": {
      "text/plain": [
       "campaign_id\n",
       "2001      0.000000\n",
       "2002    113.462786\n",
       "2003     13.052963\n",
       "2004      1.703183\n",
       "2005    145.842314\n",
       "           ...    \n",
       "2235     16.650776\n",
       "2236    220.009815\n",
       "2237    362.825503\n",
       "2238           NaN\n",
       "2239      8.538780\n",
       "Name: total_price, Length: 239, dtype: float64"
      ]
     },
     "execution_count": 22,
     "metadata": {},
     "output_type": "execute_result"
    }
   ],
   "source": [
    "order.groupby('campaign_id')['total_price'].std()"
   ]
  },
  {
   "cell_type": "code",
   "execution_count": 23,
   "id": "537390fd",
   "metadata": {},
   "outputs": [
    {
     "data": {
      "text/plain": [
       "city\n",
       "#07-01 FONTANA HGTS           NaN\n",
       "#36 NYE                 21.177848\n",
       ".EASTHAM                12.940054\n",
       "0201 OSLO                     NaN\n",
       "05446-030                     NaN\n",
       "                          ...    \n",
       "ZIONSDILLE              18.349421\n",
       "ZIONSVILLE              39.850142\n",
       "ZIONSVIOLE                    NaN\n",
       "ZOLLIKERBERG           120.243508\n",
       "ZURICH                  71.516615\n",
       "Name: total_price, Length: 12706, dtype: float64"
      ]
     },
     "execution_count": 23,
     "metadata": {},
     "output_type": "execute_result"
    }
   ],
   "source": [
    "order.groupby('city')['total_price'].std()"
   ]
  },
  {
   "cell_type": "code",
   "execution_count": 24,
   "id": "1c168585",
   "metadata": {},
   "outputs": [
    {
     "data": {
      "text/plain": [
       "payment_type\n",
       "??     24.770624\n",
       "AE    250.757043\n",
       "DB    167.841758\n",
       "MC    162.737338\n",
       "OC     93.359234\n",
       "VI    151.690033\n",
       "Name: total_price, dtype: float64"
      ]
     },
     "execution_count": 24,
     "metadata": {},
     "output_type": "execute_result"
    }
   ],
   "source": [
    "order.groupby('payment_type')['total_price'].std()"
   ]
  },
  {
   "cell_type": "code",
   "execution_count": null,
   "id": "0636214d",
   "metadata": {},
   "outputs": [],
   "source": []
  }
 ],
 "metadata": {
  "kernelspec": {
   "display_name": "Python 3",
   "language": "python",
   "name": "python3"
  },
  "language_info": {
   "codemirror_mode": {
    "name": "ipython",
    "version": 3
   },
   "file_extension": ".py",
   "mimetype": "text/x-python",
   "name": "python",
   "nbconvert_exporter": "python",
   "pygments_lexer": "ipython3",
   "version": "3.8.8"
  }
 },
 "nbformat": 4,
 "nbformat_minor": 5
}
