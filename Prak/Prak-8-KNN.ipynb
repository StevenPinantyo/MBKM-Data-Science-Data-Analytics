{
  "cells": [
    {
      "cell_type": "markdown",
      "id": "a169b379",
      "metadata": {
        "id": "a169b379"
      },
      "source": [
        "Klasifikasi Sederhana"
      ]
    },
    {
      "cell_type": "code",
      "execution_count": null,
      "id": "1f050a76",
      "metadata": {
        "id": "1f050a76"
      },
      "outputs": [],
      "source": [
        "import pandas as pd\n",
        "import numpy as np\n",
        "from sklearn.neighbors import KNeighborsClassifier"
      ]
    },
    {
      "cell_type": "code",
      "execution_count": null,
      "id": "55f68894",
      "metadata": {
        "id": "55f68894"
      },
      "outputs": [],
      "source": [
        "dataset = pd.read_csv('C:/Users/asus/Desktop/Semester 5/DSDA/Prak/Prak 8/Menu_Ohkaeri.csv',sep=\";\") #Sesuaikan dengan directory file masing-masing\n",
        "data = dataset[['Pelanggan', 'Karyawan', 'Stakeholder', 'Kelas']]\n",
        "data=data.dropna()"
      ]
    },
    {
      "cell_type": "code",
      "execution_count": null,
      "id": "22f13d24",
      "metadata": {
        "id": "22f13d24"
      },
      "outputs": [],
      "source": [
        "#Memisahkan antara data yang dilatih dan data label\n",
        "train_data=data[['Pelanggan', 'Karyawan','Stakeholder']]\n",
        "train_label=data[['Kelas']]"
      ]
    },
    {
      "cell_type": "code",
      "execution_count": null,
      "id": "decae92f",
      "metadata": {
        "id": "decae92f"
      },
      "outputs": [],
      "source": [
        "#Menggunakan Fungsi KNN Klasifikasi\n",
        "kNN=KNeighborsClassifier(n_neighbors=3, weights='distance')"
      ]
    },
    {
      "cell_type": "code",
      "execution_count": null,
      "id": "f96ce301",
      "metadata": {
        "id": "f96ce301"
      },
      "outputs": [],
      "source": [
        "#Prediksi dengan menambah data baru\n",
        "# Menambah data uji baru dengan value:\n",
        "# Pelanggan: 6\n",
        "# Karyawan: 4\n",
        "# Stakeholder: 7\n",
        "test_data=[[6, 8, 2],[8,8,9],[8,2,4],[1,4,7]]\n",
        "kNN.fit(train_data, np.ravel(train_label))\n",
        "class_result=kNN.predict(test_data)"
      ]
    },
    {
      "cell_type": "code",
      "execution_count": null,
      "id": "9717d1dc",
      "metadata": {
        "id": "9717d1dc",
        "outputId": "6db11207-efcf-442b-861f-bb7bb8fc42b4"
      },
      "outputs": [
        {
          "name": "stdout",
          "output_type": "stream",
          "text": [
            "Hasil klasifikasi =  ['Sedang' 'Sedang' 'Sedang' 'Rendah']\n"
          ]
        }
      ],
      "source": [
        "print('Hasil klasifikasi = ', class_result)"
      ]
    },
    {
      "cell_type": "markdown",
      "id": "0edc6ee0",
      "metadata": {
        "id": "0edc6ee0"
      },
      "source": [
        "Klasifikasi dengan validasi"
      ]
    },
    {
      "cell_type": "code",
      "execution_count": null,
      "id": "3e79f0e8",
      "metadata": {
        "id": "3e79f0e8"
      },
      "outputs": [],
      "source": [
        "import pandas as pd\n",
        "from sklearn.model_selection import train_test_split\n",
        "import numpy as np\n",
        "from sklearn.neighbors import KNeighborsClassifier"
      ]
    },
    {
      "cell_type": "code",
      "execution_count": null,
      "id": "88fb52c2",
      "metadata": {
        "id": "88fb52c2"
      },
      "outputs": [],
      "source": [
        "dataset = pd.read_csv('C:/Users/asus/Desktop/Semester 5/DSDA/Prak/Prak 8/Menu_Ohkaeri.csv',sep=\";\") #Sesuaikan dengan directory file masing-masing\n",
        "data = dataset[['Pelanggan', 'Karyawan', 'Stakeholder', 'Kelas']]"
      ]
    },
    {
      "cell_type": "code",
      "execution_count": null,
      "id": "eca3ef39",
      "metadata": {
        "id": "eca3ef39"
      },
      "outputs": [],
      "source": [
        "#Memisahkan data yang diuji dan data yang dilatih\n",
        "train, test = train_test_split(data, test_size=0.2)"
      ]
    },
    {
      "cell_type": "code",
      "execution_count": null,
      "id": "71535d39",
      "metadata": {
        "id": "71535d39"
      },
      "outputs": [],
      "source": [
        "train_data=train[['Pelanggan','Karyawan','Stakeholder']]\n",
        "train_label=train[['Kelas']]\n",
        "test_data=test[['Pelanggan','Karyawan','Stakeholder']]\n",
        "test_label=test[['Kelas']]"
      ]
    },
    {
      "cell_type": "code",
      "execution_count": null,
      "id": "20f559d7",
      "metadata": {
        "id": "20f559d7"
      },
      "outputs": [],
      "source": [
        "#Just in case jika hasil data yang dilatih terdapat nilai null maka harus dibuang\n",
        "pos_null = train_data.index[train_data.isnull().any(axis=1)].tolist()\n",
        "train_data = train_data.drop(pos_null)\n",
        "train_label = train_label.drop(pos_null)"
      ]
    },
    {
      "cell_type": "code",
      "execution_count": null,
      "id": "fc65e5b3",
      "metadata": {
        "id": "fc65e5b3"
      },
      "outputs": [],
      "source": [
        "pos_null = test_data.index[test_data.isnull().any(axis=1)].tolist()\n",
        "test_data = test_data.drop(pos_null)\n",
        "test_label = test_label.drop(pos_null)"
      ]
    },
    {
      "cell_type": "code",
      "execution_count": null,
      "id": "70944e95",
      "metadata": {
        "id": "70944e95"
      },
      "outputs": [],
      "source": [
        "#Menentukan nilai minimum dan maximum data yang dilatih\n",
        "newmin=0\n",
        "newmax=1\n",
        "mindata=train_data.min()\n",
        "maxdata=train_data.max()\n",
        "train_data = ((train_data-mindata) * (newmax-newmin) / (maxdata-mindata)) + newmin\n",
        "test_data = ((test_data-mindata) * (newmax-newmin) / (maxdata-mindata)) + newmin"
      ]
    },
    {
      "cell_type": "code",
      "execution_count": null,
      "id": "a3991725",
      "metadata": {
        "id": "a3991725"
      },
      "outputs": [],
      "source": [
        "#Menggunakan Fungsi KNN Klasifikasi\n",
        "kNN=KNeighborsClassifier(n_neighbors=3, weights='distance')\n",
        "kNN.fit(train_data, np.ravel(train_label))\n",
        "class_result=kNN.predict(test_data)"
      ]
    },
    {
      "cell_type": "code",
      "execution_count": null,
      "id": "9f8dcb22",
      "metadata": {
        "id": "9f8dcb22",
        "outputId": "66b7600d-59c6-45bd-b867-3b9adb722778"
      },
      "outputs": [
        {
          "name": "stdout",
          "output_type": "stream",
          "text": [
            "Hasil klasifikasi\n",
            " ['Sedang' 'Sedang']\n"
          ]
        }
      ],
      "source": [
        "print('Hasil klasifikasi\\n', class_result)"
      ]
    },
    {
      "cell_type": "code",
      "execution_count": null,
      "id": "c8fd1b75",
      "metadata": {
        "id": "c8fd1b75"
      },
      "outputs": [],
      "source": [
        "#Mendeteksi data error yang diuji\n",
        "error=test_label.loc[:]\n",
        "error['Class_Result']=class_result\n",
        "error['Output']=(error['Kelas'] == error['Class_Result'])"
      ]
    },
    {
      "cell_type": "code",
      "execution_count": null,
      "id": "4c78ea79",
      "metadata": {
        "id": "4c78ea79",
        "outputId": "a00686a9-f732-42ba-ef78-048d6b7481d6"
      },
      "outputs": [
        {
          "name": "stdout",
          "output_type": "stream",
          "text": [
            "\n",
            "\n",
            "Perbandingan dengan class label asli:\n",
            "      Kelas Class_Result  Output\n",
            "68  Rendah       Sedang   False\n",
            "64  Tinggi       Sedang   False\n"
          ]
        }
      ],
      "source": [
        "print('\\n\\nPerbandingan dengan class label asli:\\n', error)"
      ]
    },
    {
      "cell_type": "code",
      "execution_count": null,
      "id": "ae0d5c77",
      "metadata": {
        "id": "ae0d5c77"
      },
      "outputs": [],
      "source": [
        "precision_ratio=kNN.score(test_data, test_label)\n",
        "error_ratio=1-precision_ratio"
      ]
    },
    {
      "cell_type": "code",
      "execution_count": null,
      "id": "29263f6a",
      "metadata": {
        "id": "29263f6a",
        "outputId": "e0f0a684-cf17-469a-9c96-6f13311c41f5"
      },
      "outputs": [
        {
          "name": "stdout",
          "output_type": "stream",
          "text": [
            "\n",
            "\n",
            "Error ratio =  1.0\n"
          ]
        }
      ],
      "source": [
        "print('\\n\\nError ratio = ', error_ratio)"
      ]
    },
    {
      "cell_type": "code",
      "execution_count": null,
      "id": "6f1fa7e2",
      "metadata": {
        "id": "6f1fa7e2"
      },
      "outputs": [],
      "source": [
        "import pandas as pd\n",
        "import numpy as np\n",
        "from sklearn.model_selection import train_test_split\n",
        "from sklearn.neighbors import KNeighborsClassifier\n",
        "from sklearn import tree\n",
        "from sklearn.tree import DecisionTreeClassifier"
      ]
    },
    {
      "cell_type": "code",
      "execution_count": null,
      "id": "c70bdc05",
      "metadata": {
        "id": "c70bdc05"
      },
      "outputs": [],
      "source": [
        "dataset = pd.read_csv('C:/Users/asus/Desktop/Semester 5/DSDA/Prak/Prak 8/Menu_Ohkaeri.csv',sep=\";\") #Sesuaikan dengan directory file masing-masing\n",
        "data = dataset[['Pelanggan', 'Karyawan', 'Stakeholder', 'Kelas']]"
      ]
    },
    {
      "cell_type": "code",
      "execution_count": null,
      "id": "2f644f68",
      "metadata": {
        "id": "2f644f68"
      },
      "outputs": [],
      "source": [
        "#Memisahkan data yang diuji dan data yang dilatih\n",
        "train, test = train_test_split(data, test_size=0.2)"
      ]
    },
    {
      "cell_type": "code",
      "execution_count": null,
      "id": "be009b09",
      "metadata": {
        "id": "be009b09"
      },
      "outputs": [],
      "source": [
        "train_data=train[['Pelanggan','Karyawan','Stakeholder']]\n",
        "train_label=train[['Kelas']]\n",
        "test_data=test[['Pelanggan','Karyawan','Stakeholder']]\n",
        "test_label=test[['Kelas']]"
      ]
    },
    {
      "cell_type": "code",
      "execution_count": null,
      "id": "272900b2",
      "metadata": {
        "id": "272900b2"
      },
      "outputs": [],
      "source": [
        "#Just in case jika hasil data yang dilatih terdapat nilai null maka harus dibuang\n",
        "pos_null = train_data.index[train_data.isnull().any(axis=1)].tolist()\n",
        "train_data = train_data.drop(pos_null)\n",
        "train_label = train_label.drop(pos_null)"
      ]
    },
    {
      "cell_type": "code",
      "execution_count": null,
      "id": "2668ff64",
      "metadata": {
        "id": "2668ff64"
      },
      "outputs": [],
      "source": [
        "pos_null = test_data.index[test_data.isnull().any(axis=1)].tolist()\n",
        "test_data = test_data.drop(pos_null)\n",
        "test_label = test_label.drop(pos_null)"
      ]
    },
    {
      "cell_type": "code",
      "execution_count": null,
      "id": "b1e8560e",
      "metadata": {
        "id": "b1e8560e",
        "outputId": "4b0e9b19-1fd0-4765-f066-83041492960d"
      },
      "outputs": [
        {
          "name": "stdout",
          "output_type": "stream",
          "text": [
            "\n",
            "Test Data:\n",
            "     Pelanggan  Karyawan  Stakeholder\n",
            "48          6       4.0          5.0\n",
            "0          10       7.0          8.0\n",
            "76          1       2.0          5.0\n"
          ]
        }
      ],
      "source": [
        "print('\\nTest Data:\\n', test_data)"
      ]
    },
    {
      "cell_type": "code",
      "execution_count": null,
      "id": "1901c639",
      "metadata": {
        "id": "1901c639",
        "outputId": "364cb564-4ccc-4b89-dd05-2e67ef8c5964"
      },
      "outputs": [
        {
          "data": {
            "text/plain": [
              "DecisionTreeClassifier(criterion='entropy', max_depth=3)"
            ]
          },
          "execution_count": 27,
          "metadata": {},
          "output_type": "execute_result"
        }
      ],
      "source": [
        "#Menggunakan Fungsi Decision Tree\n",
        "dtc=DecisionTreeClassifier(criterion='entropy', max_depth=3)\n",
        "dtc.fit(train_data, train_label)"
      ]
    },
    {
      "cell_type": "code",
      "execution_count": null,
      "id": "d9731b43",
      "metadata": {
        "id": "d9731b43",
        "outputId": "8ec71527-148c-4389-c3e6-02e4d958cf1e"
      },
      "outputs": [
        {
          "name": "stdout",
          "output_type": "stream",
          "text": [
            "\n",
            "Class = \n",
            " ['Sedang' 'Sedang' 'Rendah']\n"
          ]
        }
      ],
      "source": [
        "#Melakukan prediksi dari data test\n",
        "class_result=dtc.predict(test_data)\n",
        "print('\\nClass = \\n', class_result)"
      ]
    },
    {
      "cell_type": "code",
      "execution_count": null,
      "id": "5b3ebbed",
      "metadata": {
        "id": "5b3ebbed",
        "outputId": "59aa56d3-72ff-4dcc-eca7-1db9ee6cc18d"
      },
      "outputs": [
        {
          "name": "stdout",
          "output_type": "stream",
          "text": [
            "\n",
            "Error ratio =  66.67 %\n"
          ]
        }
      ],
      "source": [
        "acc=dtc.score(test_data, test_label)\n",
        "err=round((1-acc)*100, 2)\n",
        "print('\\nError ratio = ', err, '%')"
      ]
    }
  ],
  "metadata": {
    "kernelspec": {
      "display_name": "Python 3",
      "language": "python",
      "name": "python3"
    },
    "language_info": {
      "codemirror_mode": {
        "name": "ipython",
        "version": 3
      },
      "file_extension": ".py",
      "mimetype": "text/x-python",
      "name": "python",
      "nbconvert_exporter": "python",
      "pygments_lexer": "ipython3",
      "version": "3.8.8"
    },
    "colab": {
      "name": "Prak-8-064092100002-Steven.ipynb",
      "provenance": []
    }
  },
  "nbformat": 4,
  "nbformat_minor": 5
}