{
  "cells": [
    {
      "cell_type": "code",
      "execution_count": null,
      "id": "6e06c3c3",
      "metadata": {
        "id": "6e06c3c3",
        "outputId": "256e0e06-537d-41f4-b57b-d2026d79eb98"
      },
      "outputs": [
        {
          "name": "stdout",
          "output_type": "stream",
          "text": [
            "Requirement already satisfied: bs4 in e:\\program\\anaconda\\lib\\site-packages (0.0.1)\n",
            "Requirement already satisfied: beautifulsoup4 in e:\\program\\anaconda\\lib\\site-packages (from bs4) (4.9.3)\n",
            "Requirement already satisfied: soupsieve>1.2 in e:\\program\\anaconda\\lib\\site-packages (from beautifulsoup4->bs4) (2.2.1)\n"
          ]
        }
      ],
      "source": [
        "#import beautiful soup\n",
        "import sys\n",
        "!{sys.executable} -m pip install bs4"
      ]
    },
    {
      "cell_type": "code",
      "execution_count": null,
      "id": "a678e3ec",
      "metadata": {
        "id": "a678e3ec",
        "outputId": "f8492ce9-e437-42e5-b25b-9014d81a3d66"
      },
      "outputs": [
        {
          "name": "stdout",
          "output_type": "stream",
          "text": [
            "        Date     Price      Open      High       Low   Vol. Change %\n",
            "0  12-Oct-21  57,561.0  57,468.0  57,633.0  56,443.0  6.46K    0.16%\n",
            "1  11-Oct-21  57,468.0  54,701.0  57,802.5  54,430.0  7.51K    5.06%\n",
            "2  10-Oct-21  54,701.0  54,978.0  56,414.0  54,173.0  5.84K   -0.50%\n"
          ]
        }
      ],
      "source": [
        "#Jalankan source code web scrap\n",
        "import requests\n",
        "from bs4 import BeautifulSoup\n",
        "import pandas as pd\n",
        "import csv\n",
        "from datetime import date\n",
        "import datetime\n",
        "import numpy as np\n",
        "from matplotlib import pyplot as plt\n",
        "from sklearn.linear_model import LinearRegression\n",
        "from sklearn.metrics import mean_squared_error\n",
        "import statsmodels.stats.api\n",
        "import statsmodels.formula.api\n",
        "\n",
        "today = date.today()\n",
        "today=date.strftime(today,'%d/%m/%Y')\n",
        "urlheader = {\n",
        "    \"User-Agent\": \"Mozilla/5.0 (Windows NT 10.0; Win64; x64; rv:91.0) Gecko/20100101 Firefox/91.0\",\n",
        "    \"X-Requested-With\": \"XMLHttpRequest\"\n",
        "}\n",
        "filename=['E:\\\\BTC_USD Bitfinex Historical Data.csv'] #Pastikan sesuai dengan tempat Directory penyimpanan file yang sudah kalian download\n",
        "url = \"https://www.investing.com/instruments/HistoricalDataAjax\"\n",
        "\n",
        "\n",
        "for each in filename:\n",
        "    with open(each, 'r') as readFile:\n",
        "        reader = csv.reader(readFile)\n",
        "        lines = list(reader)\n",
        "    startdate=lines[1][0]\n",
        "    startdate=datetime.datetime.strptime(startdate,'%d-%b-%y')\n",
        "    startdate += datetime.timedelta(days=1)\n",
        "    startdate=startdate.strftime('%d/%m/%Y')\n",
        "    readFile.close()\n",
        "    if (each == 'E:\\\\BTC_USD Bitfinex Historical Data.csv'): #Pastikan sesuai dengan tempat Directory penyimpanan file yang sudah kalian download \n",
        "        header=\"BTC/USD Bitfinex Historical Data\"\n",
        "        curr_id=\"945629\"\n",
        "        smlID= \"145284\"\n",
        "        column_name='BTC Price'\n",
        " \n",
        "    payload = {'header': header, \n",
        "               'st_date': startdate, 'end_date': today, \n",
        "               'sort_col': 'date', 'action': 'historical_data', \n",
        "               'smlID': smlID, 'sort_ord': 'DESC', 'interval_sec': 'Daily', 'curr_id': curr_id}\n",
        "\n",
        "    req = requests.post(url, headers=urlheader, data=payload)\n",
        "    soup = BeautifulSoup(req.content, \"lxml\")\n",
        "    table = soup.find('table', id=\"curr_table\")\n",
        "    split_rows = table.find_all(\"tr\")\n",
        "    rows = table.findAll('tr')\n",
        "    header_text = []\n",
        "    headers = rows[0]\n",
        "    \n",
        "    for th in headers.findAll('th'):\n",
        "        header_text.append(th.text)\n",
        "        \n",
        "    del header_text[2:]\n",
        "    \n",
        "    row_text_array = []\n",
        "    for row in rows[1:]:\n",
        "        row_text = []\n",
        "        for row_element in row.findAll(['th', 'td']):\n",
        "            row_text.append(row_element.text.replace('\\n', '').strip())\n",
        "        del row_text[2:]\n",
        "        row_text_array.append(row_text)\n",
        "    \n",
        "    df = pd.read_csv(each)\n",
        "    \n",
        "    df1 = pd.DataFrame(row_text_array)\n",
        "    \n",
        "    df1.rename(columns={0:'Date',1:column_name}, inplace=True)\n",
        "    df=df.append(df1,sort=False)\n",
        "    df=df.dropna()\n",
        "    df['Date']= pd.to_datetime(df['Date'])\n",
        "    df = df.sort_values('Date',ascending=False)\n",
        "    \n",
        "    df['Date']= df['Date'].dt.strftime('%d-%b-%y')\n",
        "    print(df.head(3))\n",
        "    df.to_csv(each,index=False)"
      ]
    },
    {
      "cell_type": "code",
      "execution_count": null,
      "id": "84b529c2",
      "metadata": {
        "id": "84b529c2",
        "outputId": "358a4fe1-7287-4c67-fd29-eeb60f84713f"
      },
      "outputs": [
        {
          "data": {
            "text/html": [
              "<div>\n",
              "<style scoped>\n",
              "    .dataframe tbody tr th:only-of-type {\n",
              "        vertical-align: middle;\n",
              "    }\n",
              "\n",
              "    .dataframe tbody tr th {\n",
              "        vertical-align: top;\n",
              "    }\n",
              "\n",
              "    .dataframe thead th {\n",
              "        text-align: right;\n",
              "    }\n",
              "</style>\n",
              "<table border=\"1\" class=\"dataframe\">\n",
              "  <thead>\n",
              "    <tr style=\"text-align: right;\">\n",
              "      <th></th>\n",
              "      <th>Date</th>\n",
              "      <th>Price</th>\n",
              "      <th>Open</th>\n",
              "      <th>High</th>\n",
              "      <th>Low</th>\n",
              "      <th>Vol.</th>\n",
              "      <th>Change %</th>\n",
              "    </tr>\n",
              "  </thead>\n",
              "  <tbody>\n",
              "    <tr>\n",
              "      <th>0</th>\n",
              "      <td>12-Oct-21</td>\n",
              "      <td>57,561.0</td>\n",
              "      <td>57,468.0</td>\n",
              "      <td>57,633.0</td>\n",
              "      <td>56,443.0</td>\n",
              "      <td>6.46K</td>\n",
              "      <td>0.16%</td>\n",
              "    </tr>\n",
              "    <tr>\n",
              "      <th>1</th>\n",
              "      <td>11-Oct-21</td>\n",
              "      <td>57,468.0</td>\n",
              "      <td>54,701.0</td>\n",
              "      <td>57,802.5</td>\n",
              "      <td>54,430.0</td>\n",
              "      <td>7.51K</td>\n",
              "      <td>5.06%</td>\n",
              "    </tr>\n",
              "    <tr>\n",
              "      <th>2</th>\n",
              "      <td>10-Oct-21</td>\n",
              "      <td>54,701.0</td>\n",
              "      <td>54,978.0</td>\n",
              "      <td>56,414.0</td>\n",
              "      <td>54,173.0</td>\n",
              "      <td>5.84K</td>\n",
              "      <td>-0.50%</td>\n",
              "    </tr>\n",
              "    <tr>\n",
              "      <th>3</th>\n",
              "      <td>09-Oct-21</td>\n",
              "      <td>54,978.0</td>\n",
              "      <td>53,925.0</td>\n",
              "      <td>55,443.7</td>\n",
              "      <td>53,711.0</td>\n",
              "      <td>2.44K</td>\n",
              "      <td>1.95%</td>\n",
              "    </tr>\n",
              "  </tbody>\n",
              "</table>\n",
              "</div>"
            ],
            "text/plain": [
              "        Date     Price      Open      High       Low   Vol. Change %\n",
              "0  12-Oct-21  57,561.0  57,468.0  57,633.0  56,443.0  6.46K    0.16%\n",
              "1  11-Oct-21  57,468.0  54,701.0  57,802.5  54,430.0  7.51K    5.06%\n",
              "2  10-Oct-21  54,701.0  54,978.0  56,414.0  54,173.0  5.84K   -0.50%\n",
              "3  09-Oct-21  54,978.0  53,925.0  55,443.7  53,711.0  2.44K    1.95%"
            ]
          },
          "execution_count": 3,
          "metadata": {},
          "output_type": "execute_result"
        }
      ],
      "source": [
        "#Menampilkan n data sementara\n",
        "df.head(4)"
      ]
    },
    {
      "cell_type": "code",
      "execution_count": null,
      "id": "0ad0f38b",
      "metadata": {
        "id": "0ad0f38b",
        "outputId": "cbb3c3de-6075-4ac4-99cf-798dc7511ff0"
      },
      "outputs": [
        {
          "data": {
            "text/html": [
              "<div>\n",
              "<style scoped>\n",
              "    .dataframe tbody tr th:only-of-type {\n",
              "        vertical-align: middle;\n",
              "    }\n",
              "\n",
              "    .dataframe tbody tr th {\n",
              "        vertical-align: top;\n",
              "    }\n",
              "\n",
              "    .dataframe thead th {\n",
              "        text-align: right;\n",
              "    }\n",
              "</style>\n",
              "<table border=\"1\" class=\"dataframe\">\n",
              "  <thead>\n",
              "    <tr style=\"text-align: right;\">\n",
              "      <th></th>\n",
              "      <th>Date</th>\n",
              "      <th>Price</th>\n",
              "      <th>Open</th>\n",
              "      <th>High</th>\n",
              "      <th>Low</th>\n",
              "      <th>Vol.</th>\n",
              "      <th>Change %</th>\n",
              "    </tr>\n",
              "  </thead>\n",
              "  <tbody>\n",
              "    <tr>\n",
              "      <th>count</th>\n",
              "      <td>3537</td>\n",
              "      <td>3537</td>\n",
              "      <td>3537</td>\n",
              "      <td>3537</td>\n",
              "      <td>3537</td>\n",
              "      <td>3537</td>\n",
              "      <td>3537</td>\n",
              "    </tr>\n",
              "    <tr>\n",
              "      <th>unique</th>\n",
              "      <td>3537</td>\n",
              "      <td>3055</td>\n",
              "      <td>3044</td>\n",
              "      <td>3003</td>\n",
              "      <td>3019</td>\n",
              "      <td>1922</td>\n",
              "      <td>1323</td>\n",
              "    </tr>\n",
              "    <tr>\n",
              "      <th>top</th>\n",
              "      <td>31-Aug-17</td>\n",
              "      <td>5.1</td>\n",
              "      <td>5.1</td>\n",
              "      <td>5.1</td>\n",
              "      <td>5.1</td>\n",
              "      <td>-</td>\n",
              "      <td>0.00%</td>\n",
              "    </tr>\n",
              "    <tr>\n",
              "      <th>freq</th>\n",
              "      <td>1</td>\n",
              "      <td>26</td>\n",
              "      <td>26</td>\n",
              "      <td>26</td>\n",
              "      <td>26</td>\n",
              "      <td>660</td>\n",
              "      <td>135</td>\n",
              "    </tr>\n",
              "  </tbody>\n",
              "</table>\n",
              "</div>"
            ],
            "text/plain": [
              "             Date Price  Open  High   Low  Vol. Change %\n",
              "count        3537  3537  3537  3537  3537  3537     3537\n",
              "unique       3537  3055  3044  3003  3019  1922     1323\n",
              "top     31-Aug-17   5.1   5.1   5.1   5.1     -    0.00%\n",
              "freq            1    26    26    26    26   660      135"
            ]
          },
          "execution_count": 4,
          "metadata": {},
          "output_type": "execute_result"
        }
      ],
      "source": [
        "#Menampilkan deksripsi data frame sementara\n",
        "df.describe()"
      ]
    },
    {
      "cell_type": "code",
      "execution_count": null,
      "id": "8aeff30e",
      "metadata": {
        "id": "8aeff30e",
        "outputId": "64c5dbf9-2f8f-44f8-9cc2-e4a3a7d8052b"
      },
      "outputs": [
        {
          "data": {
            "text/plain": [
              "(3537, 7)"
            ]
          },
          "execution_count": 5,
          "metadata": {},
          "output_type": "execute_result"
        }
      ],
      "source": [
        "#Menampilkan dimensi data frame sementar\n",
        "df.shape"
      ]
    },
    {
      "cell_type": "code",
      "execution_count": null,
      "id": "9a91c3b7",
      "metadata": {
        "id": "9a91c3b7",
        "outputId": "63be5c88-510c-4c27-c5f8-3cf2d76a7027"
      },
      "outputs": [
        {
          "data": {
            "text/plain": [
              "Date        object\n",
              "Price       object\n",
              "Open        object\n",
              "High        object\n",
              "Low         object\n",
              "Vol.        object\n",
              "Change %    object\n",
              "dtype: object"
            ]
          },
          "execution_count": 6,
          "metadata": {},
          "output_type": "execute_result"
        }
      ],
      "source": [
        "#Menampilkan tipe data kolom data frame sementara\n",
        "df.dtypes"
      ]
    },
    {
      "cell_type": "code",
      "execution_count": null,
      "id": "c62e9ae6",
      "metadata": {
        "id": "c62e9ae6",
        "outputId": "87d2cd21-f0c1-4c61-da11-9c7869803874"
      },
      "outputs": [
        {
          "name": "stdout",
          "output_type": "stream",
          "text": [
            "<class 'pandas.core.frame.DataFrame'>\n",
            "Int64Index: 3537 entries, 0 to 3536\n",
            "Data columns (total 7 columns):\n",
            " #   Column    Non-Null Count  Dtype \n",
            "---  ------    --------------  ----- \n",
            " 0   Date      3537 non-null   object\n",
            " 1   Price     3537 non-null   object\n",
            " 2   Open      3537 non-null   object\n",
            " 3   High      3537 non-null   object\n",
            " 4   Low       3537 non-null   object\n",
            " 5   Vol.      3537 non-null   object\n",
            " 6   Change %  3537 non-null   object\n",
            "dtypes: object(7)\n",
            "memory usage: 221.1+ KB\n"
          ]
        }
      ],
      "source": [
        "#Menampilkan informasi kolom data frame sementara\n",
        "df.info()"
      ]
    },
    {
      "cell_type": "code",
      "execution_count": null,
      "id": "701425e8",
      "metadata": {
        "id": "701425e8"
      },
      "outputs": [],
      "source": [
        "#Ubah tipe data kolom yang diperlukan\n",
        "df['Date'] = pd.to_datetime(df['Date'])\n",
        "df['Price'] = df['Price'].str.replace(',', '').astype(float)\n",
        "df['Open'] = df['Open'].str.replace(',', '').astype(float)\n",
        "df['High'] = df['High'].str.replace(',', '').astype(float)\n",
        "df['Low'] = df['Low'].str.replace(',', '').astype(float)"
      ]
    },
    {
      "cell_type": "code",
      "execution_count": null,
      "id": "1387bb6a",
      "metadata": {
        "id": "1387bb6a",
        "outputId": "5d3df7b9-8480-4298-f83a-e4dd2d484ca0"
      },
      "outputs": [
        {
          "data": {
            "text/html": [
              "<div>\n",
              "<style scoped>\n",
              "    .dataframe tbody tr th:only-of-type {\n",
              "        vertical-align: middle;\n",
              "    }\n",
              "\n",
              "    .dataframe tbody tr th {\n",
              "        vertical-align: top;\n",
              "    }\n",
              "\n",
              "    .dataframe thead th {\n",
              "        text-align: right;\n",
              "    }\n",
              "</style>\n",
              "<table border=\"1\" class=\"dataframe\">\n",
              "  <thead>\n",
              "    <tr style=\"text-align: right;\">\n",
              "      <th></th>\n",
              "      <th>Date</th>\n",
              "      <th>Price</th>\n",
              "      <th>Open</th>\n",
              "      <th>High</th>\n",
              "      <th>Low</th>\n",
              "      <th>Vol.</th>\n",
              "      <th>Change %</th>\n",
              "    </tr>\n",
              "  </thead>\n",
              "  <tbody>\n",
              "    <tr>\n",
              "      <th>0</th>\n",
              "      <td>2021-10-12</td>\n",
              "      <td>57561.0</td>\n",
              "      <td>57468.0</td>\n",
              "      <td>57633.0</td>\n",
              "      <td>56443.0</td>\n",
              "      <td>6.46K</td>\n",
              "      <td>0.16%</td>\n",
              "    </tr>\n",
              "    <tr>\n",
              "      <th>1</th>\n",
              "      <td>2021-10-11</td>\n",
              "      <td>57468.0</td>\n",
              "      <td>54701.0</td>\n",
              "      <td>57802.5</td>\n",
              "      <td>54430.0</td>\n",
              "      <td>7.51K</td>\n",
              "      <td>5.06%</td>\n",
              "    </tr>\n",
              "    <tr>\n",
              "      <th>2</th>\n",
              "      <td>2021-10-10</td>\n",
              "      <td>54701.0</td>\n",
              "      <td>54978.0</td>\n",
              "      <td>56414.0</td>\n",
              "      <td>54173.0</td>\n",
              "      <td>5.84K</td>\n",
              "      <td>-0.50%</td>\n",
              "    </tr>\n",
              "    <tr>\n",
              "      <th>3</th>\n",
              "      <td>2021-10-09</td>\n",
              "      <td>54978.0</td>\n",
              "      <td>53925.0</td>\n",
              "      <td>55443.7</td>\n",
              "      <td>53711.0</td>\n",
              "      <td>2.44K</td>\n",
              "      <td>1.95%</td>\n",
              "    </tr>\n",
              "  </tbody>\n",
              "</table>\n",
              "</div>"
            ],
            "text/plain": [
              "        Date    Price     Open     High      Low   Vol. Change %\n",
              "0 2021-10-12  57561.0  57468.0  57633.0  56443.0  6.46K    0.16%\n",
              "1 2021-10-11  57468.0  54701.0  57802.5  54430.0  7.51K    5.06%\n",
              "2 2021-10-10  54701.0  54978.0  56414.0  54173.0  5.84K   -0.50%\n",
              "3 2021-10-09  54978.0  53925.0  55443.7  53711.0  2.44K    1.95%"
            ]
          },
          "execution_count": 9,
          "metadata": {},
          "output_type": "execute_result"
        }
      ],
      "source": [
        "#Menampilkan n data sebenarnya\n",
        "df.head(4)"
      ]
    },
    {
      "cell_type": "code",
      "execution_count": null,
      "id": "fd933bb2",
      "metadata": {
        "id": "fd933bb2",
        "outputId": "ee950b67-29a9-4c4f-e951-d6aa11c93432"
      },
      "outputs": [
        {
          "name": "stdout",
          "output_type": "stream",
          "text": [
            "<class 'pandas.core.frame.DataFrame'>\n",
            "Int64Index: 3537 entries, 0 to 3536\n",
            "Data columns (total 7 columns):\n",
            " #   Column    Non-Null Count  Dtype         \n",
            "---  ------    --------------  -----         \n",
            " 0   Date      3537 non-null   datetime64[ns]\n",
            " 1   Price     3537 non-null   float64       \n",
            " 2   Open      3537 non-null   float64       \n",
            " 3   High      3537 non-null   float64       \n",
            " 4   Low       3537 non-null   float64       \n",
            " 5   Vol.      3537 non-null   object        \n",
            " 6   Change %  3537 non-null   object        \n",
            "dtypes: datetime64[ns](1), float64(4), object(2)\n",
            "memory usage: 221.1+ KB\n"
          ]
        }
      ],
      "source": [
        "#Menampilkan informasi data frame yang sebenarnya\n",
        "df.info()"
      ]
    },
    {
      "cell_type": "code",
      "execution_count": null,
      "id": "fdd5ef26",
      "metadata": {
        "id": "fdd5ef26",
        "outputId": "f163beac-f5f5-4dc6-869f-07dfbf28159f"
      },
      "outputs": [
        {
          "data": {
            "text/html": [
              "<div>\n",
              "<style scoped>\n",
              "    .dataframe tbody tr th:only-of-type {\n",
              "        vertical-align: middle;\n",
              "    }\n",
              "\n",
              "    .dataframe tbody tr th {\n",
              "        vertical-align: top;\n",
              "    }\n",
              "\n",
              "    .dataframe thead th {\n",
              "        text-align: right;\n",
              "    }\n",
              "</style>\n",
              "<table border=\"1\" class=\"dataframe\">\n",
              "  <thead>\n",
              "    <tr style=\"text-align: right;\">\n",
              "      <th></th>\n",
              "      <th>Price</th>\n",
              "      <th>Open</th>\n",
              "      <th>High</th>\n",
              "      <th>Low</th>\n",
              "    </tr>\n",
              "  </thead>\n",
              "  <tbody>\n",
              "    <tr>\n",
              "      <th>count</th>\n",
              "      <td>3537.000000</td>\n",
              "      <td>3537.000000</td>\n",
              "      <td>3537.000000</td>\n",
              "      <td>3537.000000</td>\n",
              "    </tr>\n",
              "    <tr>\n",
              "      <th>mean</th>\n",
              "      <td>6882.912299</td>\n",
              "      <td>6867.310913</td>\n",
              "      <td>7060.137235</td>\n",
              "      <td>6666.455160</td>\n",
              "    </tr>\n",
              "    <tr>\n",
              "      <th>std</th>\n",
              "      <td>12352.348156</td>\n",
              "      <td>12323.964251</td>\n",
              "      <td>12664.826666</td>\n",
              "      <td>11974.408705</td>\n",
              "    </tr>\n",
              "    <tr>\n",
              "      <th>min</th>\n",
              "      <td>4.200000</td>\n",
              "      <td>4.200000</td>\n",
              "      <td>4.200000</td>\n",
              "      <td>4.200000</td>\n",
              "    </tr>\n",
              "    <tr>\n",
              "      <th>25%</th>\n",
              "      <td>273.300000</td>\n",
              "      <td>273.300000</td>\n",
              "      <td>279.600000</td>\n",
              "      <td>267.300000</td>\n",
              "    </tr>\n",
              "    <tr>\n",
              "      <th>50%</th>\n",
              "      <td>872.600000</td>\n",
              "      <td>871.400000</td>\n",
              "      <td>901.500000</td>\n",
              "      <td>833.700000</td>\n",
              "    </tr>\n",
              "    <tr>\n",
              "      <th>75%</th>\n",
              "      <td>8230.100000</td>\n",
              "      <td>8230.000000</td>\n",
              "      <td>8423.500000</td>\n",
              "      <td>8019.700000</td>\n",
              "    </tr>\n",
              "    <tr>\n",
              "      <th>max</th>\n",
              "      <td>63518.000000</td>\n",
              "      <td>63518.000000</td>\n",
              "      <td>64374.000000</td>\n",
              "      <td>62348.000000</td>\n",
              "    </tr>\n",
              "  </tbody>\n",
              "</table>\n",
              "</div>"
            ],
            "text/plain": [
              "              Price          Open          High           Low\n",
              "count   3537.000000   3537.000000   3537.000000   3537.000000\n",
              "mean    6882.912299   6867.310913   7060.137235   6666.455160\n",
              "std    12352.348156  12323.964251  12664.826666  11974.408705\n",
              "min        4.200000      4.200000      4.200000      4.200000\n",
              "25%      273.300000    273.300000    279.600000    267.300000\n",
              "50%      872.600000    871.400000    901.500000    833.700000\n",
              "75%     8230.100000   8230.000000   8423.500000   8019.700000\n",
              "max    63518.000000  63518.000000  64374.000000  62348.000000"
            ]
          },
          "execution_count": 11,
          "metadata": {},
          "output_type": "execute_result"
        }
      ],
      "source": [
        "#Menampilkan deskripsi data frame sebenarnya\n",
        "df.describe()"
      ]
    },
    {
      "cell_type": "code",
      "execution_count": null,
      "id": "902e8b54",
      "metadata": {
        "id": "902e8b54"
      },
      "outputs": [],
      "source": [
        "#Membuat variabel berdasarkan kelompok tanggal\n",
        "avgp = df.groupby('Date')['Price'].mean()"
      ]
    },
    {
      "cell_type": "code",
      "execution_count": null,
      "id": "1dc4584e",
      "metadata": {
        "id": "1dc4584e",
        "outputId": "bc32d32c-c53d-477b-c95c-789e16b6cc5b"
      },
      "outputs": [
        {
          "name": "stdout",
          "output_type": "stream",
          "text": [
            "(3537, 3) \n",
            " (3537,)\n"
          ]
        }
      ],
      "source": [
        "#Memecah variabel untuk menentukan index dan values yang digunakan\n",
        "x = avgp.index\n",
        "y = avgp.values\n",
        "print(x,\"\\n\" ,y)"
      ]
    },
    {
      "cell_type": "code",
      "execution_count": null,
      "id": "f7859d64",
      "metadata": {
        "scrolled": false,
        "id": "f7859d64"
      },
      "outputs": [],
      "source": [
        "#Membuat grafik pergerakan harga Bitcoin\n",
        "plt.figure(figsize=(16,8))\n",
        "plt.scatter(x,y)\n",
        "plt.plot(x,y)\n",
        "plt.xlabel('Tahun')\n",
        "plt.ylabel('Pergerakan Harga')\n",
        "plt.title('Pergerakan Harga Bitcoin')"
      ]
    },
    {
      "cell_type": "code",
      "execution_count": null,
      "id": "b59555e8",
      "metadata": {
        "id": "b59555e8",
        "outputId": "d7ae4482-7eb1-4ded-930b-58522a0bf8ca"
      },
      "outputs": [
        {
          "data": {
            "text/plain": [
              "LinearRegression()"
            ]
          },
          "execution_count": 31,
          "metadata": {},
          "output_type": "execute_result"
        }
      ],
      "source": [
        "#Mencari prediksi rata-rata harga tahun 2021 menggunakan regresi linier\n",
        "linreg = LinearRegression()\n",
        "x=np.array(x).reshape(-1,1)\n",
        "linreg.fit(x,y)"
      ]
    },
    {
      "cell_type": "code",
      "execution_count": null,
      "id": "4bc6c98f",
      "metadata": {
        "id": "4bc6c98f"
      },
      "outputs": [],
      "source": [
        "P_2021 = np.array(2021).reshape(-1,1)\n",
        "pred_P = linreg.predict(P_2021)"
      ]
    },
    {
      "cell_type": "code",
      "execution_count": null,
      "id": "8f52164a",
      "metadata": {
        "id": "8f52164a",
        "outputId": "fac8b758-6355-45c6-ba38-0d2b6f2ac455"
      },
      "outputs": [
        {
          "name": "stdout",
          "output_type": "stream",
          "text": [
            "Prediksi rata-rata harga tahun 2021 =  56676.66373788958\n"
          ]
        }
      ],
      "source": [
        "print('Prediksi rata-rata harga tahun 2021 = ', pred_P.item())"
      ]
    },
    {
      "cell_type": "code",
      "execution_count": null,
      "id": "31c82ef4",
      "metadata": {
        "id": "31c82ef4",
        "outputId": "ffc6ea10-8511-4509-dbfb-f580f47e43c0"
      },
      "outputs": [
        {
          "name": "stdout",
          "output_type": "stream",
          "text": [
            "                            OLS Regression Results                            \n",
            "==============================================================================\n",
            "Dep. Variable:                  Price   R-squared:                       0.999\n",
            "Model:                            OLS   Adj. R-squared:                  0.999\n",
            "Method:                 Least Squares   F-statistic:                 1.897e+06\n",
            "Date:                Fri, 29 Oct 2021   Prob (F-statistic):               0.00\n",
            "Time:                        07:19:30   Log-Likelihood:                -25999.\n",
            "No. Observations:                3537   AIC:                         5.200e+04\n",
            "Df Residuals:                    3534   BIC:                         5.202e+04\n",
            "Df Model:                           2                                         \n",
            "Covariance Type:            nonrobust                                         \n",
            "==============================================================================\n",
            "                 coef    std err          t      P>|t|      [0.025      0.975]\n",
            "------------------------------------------------------------------------------\n",
            "Intercept      0.4524      7.257      0.062      0.950     -13.776      14.681\n",
            "High           1.1896      0.016     74.001      0.000       1.158       1.221\n",
            "Open          -0.2208      0.017    -13.365      0.000      -0.253      -0.188\n",
            "==============================================================================\n",
            "Omnibus:                     3756.172   Durbin-Watson:                   1.685\n",
            "Prob(Omnibus):                  0.000   Jarque-Bera (JB):           504070.771\n",
            "Skew:                          -5.044   Prob(JB):                         0.00\n",
            "Kurtosis:                      60.607   Cond. No.                     2.32e+04\n",
            "==============================================================================\n",
            "\n",
            "Notes:\n",
            "[1] Standard Errors assume that the covariance matrix of the errors is correctly specified.\n",
            "[2] The condition number is large, 2.32e+04. This might indicate that there are\n",
            "strong multicollinearity or other numerical problems.\n"
          ]
        }
      ],
      "source": [
        "#Mencari ikhtisar regresi berganda dari pengaruh Harga tinggi dan Harga buka terhadap Harga\n",
        "regB = statsmodels.formula.api.ols('Price~High+Open', data = df).fit()\n",
        "print(regB.summary())"
      ]
    },
    {
      "cell_type": "code",
      "execution_count": null,
      "id": "79389729",
      "metadata": {
        "id": "79389729",
        "outputId": "ba774c66-2bac-40dc-fe39-6783674f7989"
      },
      "outputs": [
        {
          "name": "stdout",
          "output_type": "stream",
          "text": [
            "                            OLS Regression Results                            \n",
            "==============================================================================\n",
            "Dep. Variable:                  Price   R-squared:                       1.000\n",
            "Model:                            OLS   Adj. R-squared:                  1.000\n",
            "Method:                 Least Squares   F-statistic:                 3.060e+06\n",
            "Date:                Fri, 29 Oct 2021   Prob (F-statistic):               0.00\n",
            "Time:                        07:19:38   Log-Likelihood:                -24437.\n",
            "No. Observations:                3537   AIC:                         4.888e+04\n",
            "Df Residuals:                    3533   BIC:                         4.891e+04\n",
            "Df Model:                           3                                         \n",
            "Covariance Type:            nonrobust                                         \n",
            "==============================================================================\n",
            "                 coef    std err          t      P>|t|      [0.025      0.975]\n",
            "------------------------------------------------------------------------------\n",
            "Intercept      2.8319      4.666      0.607      0.544      -6.317      11.981\n",
            "High           0.9213      0.011     83.689      0.000       0.900       0.943\n",
            "Low            0.6611      0.009     70.818      0.000       0.643       0.679\n",
            "Open          -0.5871      0.012    -49.694      0.000      -0.610      -0.564\n",
            "==============================================================================\n",
            "Omnibus:                     2018.284   Durbin-Watson:                   2.090\n",
            "Prob(Omnibus):                  0.000   Jarque-Bera (JB):           250363.685\n",
            "Skew:                          -1.738   Prob(JB):                         0.00\n",
            "Kurtosis:                      44.070   Cond. No.                     2.80e+04\n",
            "==============================================================================\n",
            "\n",
            "Notes:\n",
            "[1] Standard Errors assume that the covariance matrix of the errors is correctly specified.\n",
            "[2] The condition number is large, 2.8e+04. This might indicate that there are\n",
            "strong multicollinearity or other numerical problems.\n"
          ]
        }
      ],
      "source": [
        "#Mencari ikhtisar regresi berganda dari pengaruh Harga tinggi dan Harga Rendah terhadap Harga\n",
        "regB = statsmodels.formula.api.ols('Price~High+Low', data = df).fit()\n",
        "print(regB.summary())"
      ]
    },
    {
      "cell_type": "code",
      "execution_count": null,
      "id": "040d4ca4",
      "metadata": {
        "id": "040d4ca4",
        "outputId": "921b64c6-5bc8-4d47-e893-3ccb8d8f5dd4"
      },
      "outputs": [
        {
          "name": "stdout",
          "output_type": "stream",
          "text": [
            "                            OLS Regression Results                            \n",
            "==============================================================================\n",
            "Dep. Variable:                  Price   R-squared:                       0.999\n",
            "Model:                            OLS   Adj. R-squared:                  0.999\n",
            "Method:                 Least Squares   F-statistic:                 1.538e+06\n",
            "Date:                Thu, 28 Oct 2021   Prob (F-statistic):               0.00\n",
            "Time:                        18:39:28   Log-Likelihood:                -26369.\n",
            "No. Observations:                3537   AIC:                         5.274e+04\n",
            "Df Residuals:                    3534   BIC:                         5.276e+04\n",
            "Df Model:                           2                                         \n",
            "Covariance Type:            nonrobust                                         \n",
            "==============================================================================\n",
            "                 coef    std err          t      P>|t|      [0.025      0.975]\n",
            "------------------------------------------------------------------------------\n",
            "Intercept      8.9236      8.056      1.108      0.268      -6.872      24.719\n",
            "Low            0.9300      0.015     61.446      0.000       0.900       0.960\n",
            "Open           0.0981      0.015      6.673      0.000       0.069       0.127\n",
            "==============================================================================\n",
            "Omnibus:                     3250.913   Durbin-Watson:                   1.905\n",
            "Prob(Omnibus):                  0.000   Jarque-Bera (JB):           314808.349\n",
            "Skew:                           4.015   Prob(JB):                         0.00\n",
            "Kurtosis:                      48.515   Cond. No.                     2.25e+04\n",
            "==============================================================================\n",
            "\n",
            "Notes:\n",
            "[1] Standard Errors assume that the covariance matrix of the errors is correctly specified.\n",
            "[2] The condition number is large, 2.25e+04. This might indicate that there are\n",
            "strong multicollinearity or other numerical problems.\n"
          ]
        }
      ],
      "source": [
        "#Mencari ikhtisar regresi berganda dari pengaruh Harga rendah dan Harga Buka terhadap Harga\n",
        "regB = statsmodels.formula.api.ols('Price~Low+Open', data = df).fit()\n",
        "print(regB.summary())"
      ]
    },
    {
      "cell_type": "code",
      "execution_count": null,
      "id": "fe31d819",
      "metadata": {
        "id": "fe31d819",
        "outputId": "36ee14fd-5390-4534-c24b-f41900ddf33e"
      },
      "outputs": [
        {
          "name": "stdout",
          "output_type": "stream",
          "text": [
            "                            OLS Regression Results                            \n",
            "==============================================================================\n",
            "Dep. Variable:                   Open   R-squared:                       0.999\n",
            "Model:                            OLS   Adj. R-squared:                  0.999\n",
            "Method:                 Least Squares   F-statistic:                 1.913e+06\n",
            "Date:                Thu, 28 Oct 2021   Prob (F-statistic):               0.00\n",
            "Time:                        18:39:28   Log-Likelihood:                -25976.\n",
            "No. Observations:                3537   AIC:                         5.196e+04\n",
            "Df Residuals:                    3534   BIC:                         5.198e+04\n",
            "Df Model:                           2                                         \n",
            "Covariance Type:            nonrobust                                         \n",
            "==============================================================================\n",
            "                 coef    std err          t      P>|t|      [0.025      0.975]\n",
            "------------------------------------------------------------------------------\n",
            "Intercept      0.5957      7.210      0.083      0.934     -13.540      14.731\n",
            "High           1.1850      0.016     74.521      0.000       1.154       1.216\n",
            "Price         -0.2179      0.016    -13.365      0.000      -0.250      -0.186\n",
            "==============================================================================\n",
            "Omnibus:                     3414.365   Durbin-Watson:                   1.980\n",
            "Prob(Omnibus):                  0.000   Jarque-Bera (JB):           363945.660\n",
            "Skew:                          -4.336   Prob(JB):                         0.00\n",
            "Kurtosis:                      51.932   Cond. No.                     2.32e+04\n",
            "==============================================================================\n",
            "\n",
            "Notes:\n",
            "[1] Standard Errors assume that the covariance matrix of the errors is correctly specified.\n",
            "[2] The condition number is large, 2.32e+04. This might indicate that there are\n",
            "strong multicollinearity or other numerical problems.\n"
          ]
        }
      ],
      "source": [
        "#Mencari ikhtisar regresi berganda dari pengaruh Harga tinggi dan Harga terhadap Harga Buka\n",
        "regB = statsmodels.formula.api.ols('Open~High+Price', data = df).fit()\n",
        "print(regB.summary())"
      ]
    },
    {
      "cell_type": "code",
      "execution_count": null,
      "id": "c613f087",
      "metadata": {
        "id": "c613f087",
        "outputId": "7f4942af-f985-4b7b-9a1d-91e0336409ce"
      },
      "outputs": [
        {
          "name": "stdout",
          "output_type": "stream",
          "text": [
            "                            OLS Regression Results                            \n",
            "==============================================================================\n",
            "Dep. Variable:                   Open   R-squared:                       0.999\n",
            "Model:                            OLS   Adj. R-squared:                  0.999\n",
            "Method:                 Least Squares   F-statistic:                 1.185e+06\n",
            "Date:                Thu, 28 Oct 2021   Prob (F-statistic):               0.00\n",
            "Time:                        18:39:29   Log-Likelihood:                -26822.\n",
            "No. Observations:                3537   AIC:                         5.365e+04\n",
            "Df Residuals:                    3534   BIC:                         5.367e+04\n",
            "Df Model:                           2                                         \n",
            "Covariance Type:            nonrobust                                         \n",
            "==============================================================================\n",
            "                 coef    std err          t      P>|t|      [0.025      0.975]\n",
            "------------------------------------------------------------------------------\n",
            "Intercept     10.1511      9.158      1.108      0.268      -7.804      28.106\n",
            "Low            0.8977      0.020     45.798      0.000       0.859       0.936\n",
            "Price          0.1268      0.019      6.673      0.000       0.090       0.164\n",
            "==============================================================================\n",
            "Omnibus:                     4417.184   Durbin-Watson:                   1.702\n",
            "Prob(Omnibus):                  0.000   Jarque-Bera (JB):          1032305.189\n",
            "Skew:                           6.567   Prob(JB):                         0.00\n",
            "Kurtosis:                      85.657   Cond. No.                     2.25e+04\n",
            "==============================================================================\n",
            "\n",
            "Notes:\n",
            "[1] Standard Errors assume that the covariance matrix of the errors is correctly specified.\n",
            "[2] The condition number is large, 2.25e+04. This might indicate that there are\n",
            "strong multicollinearity or other numerical problems.\n"
          ]
        }
      ],
      "source": [
        "#Mencari ikhtisar regresi berganda dari pengaruh Harga Rendah dan Harga terhadap Harga Buka\n",
        "regB = statsmodels.formula.api.ols('Open~Low+Price', data = df).fit()\n",
        "print(regB.summary())"
      ]
    }
  ],
  "metadata": {
    "kernelspec": {
      "display_name": "Python 3",
      "language": "python",
      "name": "python3"
    },
    "language_info": {
      "codemirror_mode": {
        "name": "ipython",
        "version": 3
      },
      "file_extension": ".py",
      "mimetype": "text/x-python",
      "name": "python",
      "nbconvert_exporter": "python",
      "pygments_lexer": "ipython3",
      "version": "3.8.8"
    },
    "colab": {
      "name": "Prak-4-064092100002-Steven Christ Pinantyo Arwidarasto.ipynb",
      "provenance": []
    }
  },
  "nbformat": 4,
  "nbformat_minor": 5
}