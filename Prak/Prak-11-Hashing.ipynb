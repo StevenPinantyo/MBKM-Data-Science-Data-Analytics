{
 "cells": [
  {
   "cell_type": "markdown",
   "id": "2f8c0330",
   "metadata": {},
   "source": [
    "# Image Hashing\n",
    "Image Hashing adalah teknik yang digunakan untuk mengkonversi gambar ke string alfanumerik. Image Hashing memiliki dua kegunaan utama: memungkinkan mendeteksi gambar yang identik atau serupa secara visual, dan memungkinkan menyimpan sidik jari gambar sehingga Anda tidak perlu memuat ulang setiap gambar untuk memeriksanya.\n",
    "\n",
    "# Cara Kerja Image Hashing\n",
    "Hashing mengubah gambar menjadi string alfanumerik pendek yang mewakili keunikan gambar. Karena hash adalah string kecil dan berbasis teks, seperti e7643c330f0f0f0f, hash dapat disimpan tanpa menghabiskan banyak ruang dan dapat dicari serta dibandingkan dengan cepat."
   ]
  },
  {
   "cell_type": "code",
   "execution_count": 2,
   "id": "e1525ccd",
   "metadata": {},
   "outputs": [
    {
     "name": "stdout",
     "output_type": "stream",
     "text": [
      "Requirement already satisfied: imagehash in e:\\program\\anaconda\\lib\\site-packages (4.2.1)\n",
      "Requirement already satisfied: pillow in e:\\program\\anaconda\\lib\\site-packages (from imagehash) (8.2.0)\n",
      "Requirement already satisfied: scipy in e:\\program\\anaconda\\lib\\site-packages (from imagehash) (1.6.2)\n",
      "Requirement already satisfied: six in e:\\program\\anaconda\\lib\\site-packages (from imagehash) (1.15.0)\n",
      "Requirement already satisfied: numpy in e:\\program\\anaconda\\lib\\site-packages (from imagehash) (1.20.1)\n",
      "Requirement already satisfied: PyWavelets in e:\\program\\anaconda\\lib\\site-packages (from imagehash) (1.1.1)\n"
     ]
    }
   ],
   "source": [
    "# Install Library\n",
    "import sys\n",
    "!{sys.executable} -m pip install imagehash"
   ]
  },
  {
   "cell_type": "markdown",
   "id": "6cc4ef8b",
   "metadata": {},
   "source": [
    "# Average Hashing"
   ]
  },
  {
   "cell_type": "code",
   "execution_count": 3,
   "id": "9b2fe4ab",
   "metadata": {},
   "outputs": [
    {
     "name": "stdout",
     "output_type": "stream",
     "text": [
      "Hash Gambar 1: fffffbefff0f0000\n",
      "Hash Gambar 2: ffffdff7fff00000\n",
      "Gambar berbeda, perbedaan hash: 12\n"
     ]
    }
   ],
   "source": [
    "#Import Library\n",
    "from PIL import Image\n",
    "import imagehash\n",
    "\n",
    "#Membuat Objek hash gambar 1\n",
    "HashGambar1 = imagehash.average_hash(Image.open('C:/Users/asus/Desktop/Semester 5/DSDA/Prak/Prak 11/Whale.jpg')) #Sesuaikan dengan directory\n",
    "print('Hash Gambar 1: ' + str(HashGambar1))\n",
    "\n",
    "#Membuat Objek hash gambar 2\n",
    "HashGambar2 = imagehash.average_hash(Image.open('C:/Users/asus/Desktop/Semester 5/DSDA/Prak/Prak 11/Whalee.jpg')) #Sesuaikan dengan directory\n",
    "print('Hash Gambar 2: ' + str(HashGambar2))\n",
    "\n",
    "#Membandingkan Objek Hash\n",
    "if(HashGambar1 == HashGambar2):\n",
    "    print(\"Gambar mirip!\")\n",
    "else:\n",
    "    print(\"Gambar berbeda, perbedaan hash: \" + str(HashGambar1 - HashGambar2))"
   ]
  },
  {
   "cell_type": "code",
   "execution_count": 4,
   "id": "4904f028",
   "metadata": {},
   "outputs": [
    {
     "name": "stdout",
     "output_type": "stream",
     "text": [
      "Hash Gambar 1: fffffbefff0f0000\n",
      "Hash Gambar 2: fffffbefff0f0000\n",
      "Gambar mirip!\n"
     ]
    }
   ],
   "source": [
    "#Import Library\n",
    "from PIL import Image\n",
    "import imagehash\n",
    "\n",
    "#Membuat Objek hash gambar 1\n",
    "HashGambar1 = imagehash.average_hash(Image.open('C:/Users/asus/Desktop/Semester 5/DSDA/Prak/Prak 11/Whale.jpg'))\n",
    "print('Hash Gambar 1: ' + str(HashGambar1))\n",
    "\n",
    "#Membuat Objek hash gambar 2\n",
    "HashGambar2 = imagehash.average_hash(Image.open('C:/Users/asus/Desktop/Semester 5/DSDA/Prak/Prak 11/Whale.jpg'))\n",
    "print('Hash Gambar 2: ' + str(HashGambar2))\n",
    "\n",
    "#Membandingkan Objek Hash\n",
    "if(HashGambar1 == HashGambar2):\n",
    "    print(\"Gambar mirip!\")\n",
    "else:\n",
    "    print(\"Gambar berbeda, perbedaan hash: \" + str(HashGambar1 - HashGambar2))"
   ]
  },
  {
   "cell_type": "markdown",
   "id": "015d31b5",
   "metadata": {},
   "source": [
    "# Perception Hashing"
   ]
  },
  {
   "cell_type": "code",
   "execution_count": 5,
   "id": "a34a8999",
   "metadata": {},
   "outputs": [
    {
     "name": "stdout",
     "output_type": "stream",
     "text": [
      "Hash Gambar 1: 81cf6e90d1370dce\n",
      "Hash Gambar 2: d49a3bc5a462d89b\n",
      "Gambar berbeda, perbedaan hash: 34\n"
     ]
    }
   ],
   "source": [
    "#Import Library\n",
    "from PIL import Image\n",
    "import imagehash\n",
    "\n",
    "#Membuat Objek hash gambar 1\n",
    "HashGambar1 = imagehash.phash(Image.open('C:/Users/asus/Desktop/Semester 5/DSDA/Prak/Prak 11/Whale.jpg'))\n",
    "print('Hash Gambar 1: ' + str(HashGambar1))\n",
    "\n",
    "#Membuat Objek hash gambar 2\n",
    "HashGambar2 = imagehash.phash(Image.open('C:/Users/asus/Desktop/Semester 5/DSDA/Prak/Prak 11/Whalee.jpg'))\n",
    "print('Hash Gambar 2: ' + str(HashGambar2))\n",
    "\n",
    "#Membandingkan Objek Hash\n",
    "if(HashGambar1 == HashGambar2):\n",
    "    print(\"Gambar mirip!\")\n",
    "else:\n",
    "    print(\"Gambar berbeda, perbedaan hash: \" + str(HashGambar1 - HashGambar2))"
   ]
  },
  {
   "cell_type": "code",
   "execution_count": 6,
   "id": "52187e7b",
   "metadata": {},
   "outputs": [
    {
     "name": "stdout",
     "output_type": "stream",
     "text": [
      "Hash Gambar 1: 81cf6e90d1370dce\n",
      "Hash Gambar 2: 81cf6e90d1370dce\n",
      "Gambar mirip!\n"
     ]
    }
   ],
   "source": [
    "#Import Library\n",
    "from PIL import Image\n",
    "import imagehash\n",
    "\n",
    "#Membuat Objek hash gambar 1\n",
    "HashGambar1 = imagehash.phash(Image.open('C:/Users/asus/Desktop/Semester 5/DSDA/Prak/Prak 11/Whale.jpg'))\n",
    "print('Hash Gambar 1: ' + str(HashGambar1))\n",
    "\n",
    "#Membuat Objek hash gambar 2\n",
    "HashGambar2 = imagehash.phash(Image.open('C:/Users/asus/Desktop/Semester 5/DSDA/Prak/Prak 11/Whale.jpg'))\n",
    "print('Hash Gambar 2: ' + str(HashGambar2))\n",
    "\n",
    "#Membandingkan Objek Hash\n",
    "if(HashGambar1 == HashGambar2):\n",
    "    print(\"Gambar mirip!\")\n",
    "else:\n",
    "    print(\"Gambar berbeda, perbedaan hash: \" + str(HashGambar1 - HashGambar2))"
   ]
  },
  {
   "cell_type": "markdown",
   "id": "42c0f1b7",
   "metadata": {},
   "source": [
    "# Difference Hashing"
   ]
  },
  {
   "cell_type": "code",
   "execution_count": 7,
   "id": "65c2e2ea",
   "metadata": {},
   "outputs": [
    {
     "name": "stdout",
     "output_type": "stream",
     "text": [
      "Hash Gambar 1: e0f1631ef0fc1fc0\n",
      "Hash Gambar 2: f0703987f0c007f4\n",
      "Gambar berbeda, perbedaan hash: 20\n"
     ]
    }
   ],
   "source": [
    "#Import Library\n",
    "from PIL import Image\n",
    "import imagehash\n",
    "\n",
    "#Membuat Objek hash gambar 1\n",
    "HashGambar1 = imagehash.dhash(Image.open('C:/Users/asus/Desktop/Semester 5/DSDA/Prak/Prak 11/Whale.jpg'))\n",
    "print('Hash Gambar 1: ' + str(HashGambar1))\n",
    "\n",
    "#Membuat Objek hash gambar 2\n",
    "HashGambar2 = imagehash.dhash(Image.open('C:/Users/asus/Desktop/Semester 5/DSDA/Prak/Prak 11/Whalee.jpg'))\n",
    "print('Hash Gambar 2: ' + str(HashGambar2))\n",
    "\n",
    "#Membandingkan Objek Hash\n",
    "if(HashGambar1 == HashGambar2):\n",
    "    print(\"Gambar mirip!\")\n",
    "else:\n",
    "    print(\"Gambar berbeda, perbedaan hash: \" + str(HashGambar1 - HashGambar2))"
   ]
  },
  {
   "cell_type": "code",
   "execution_count": 8,
   "id": "4e44917f",
   "metadata": {},
   "outputs": [
    {
     "name": "stdout",
     "output_type": "stream",
     "text": [
      "Hash Gambar 1: e0f1631ef0fc1fc0\n",
      "Hash Gambar 2: e0f1631ef0fc1fc0\n",
      "Gambar mirip!\n"
     ]
    }
   ],
   "source": [
    "#Import Library\n",
    "from PIL import Image\n",
    "import imagehash\n",
    "\n",
    "#Membuat Objek hash gambar 1\n",
    "HashGambar1 = imagehash.dhash(Image.open('C:/Users/asus/Desktop/Semester 5/DSDA/Prak/Prak 11/Whale.jpg'))\n",
    "print('Hash Gambar 1: ' + str(HashGambar1))\n",
    "\n",
    "#Membuat Objek hash gambar 2\n",
    "HashGambar2 = imagehash.dhash(Image.open('C:/Users/asus/Desktop/Semester 5/DSDA/Prak/Prak 11/Whale.jpg'))\n",
    "print('Hash Gambar 2: ' + str(HashGambar2))\n",
    "\n",
    "#Membandingkan Objek Hash\n",
    "if(HashGambar1 == HashGambar2):\n",
    "    print(\"Gambar mirip!\")\n",
    "else:\n",
    "    print(\"Gambar berbeda, perbedaan hash: \" + str(HashGambar1 - HashGambar2))"
   ]
  },
  {
   "cell_type": "markdown",
   "id": "8da23fea",
   "metadata": {},
   "source": [
    "# Wavelet Hashing"
   ]
  },
  {
   "cell_type": "code",
   "execution_count": 9,
   "id": "97fdc48a",
   "metadata": {},
   "outputs": [
    {
     "name": "stdout",
     "output_type": "stream",
     "text": [
      "Hash Gambar 1: 10fef1efff0f0000\n",
      "Hash Gambar 2: 087f8ff7fff00000\n",
      "Gambar berbeda, perbedaan hash: 20\n"
     ]
    }
   ],
   "source": [
    "#Import Library\n",
    "from PIL import Image\n",
    "import imagehash\n",
    "\n",
    "#Membuat Objek hash gambar 1\n",
    "HashGambar1 = imagehash.whash(Image.open('C:/Users/asus/Desktop/Semester 5/DSDA/Prak/Prak 11/Whale.jpg'))\n",
    "print('Hash Gambar 1: ' + str(HashGambar1))\n",
    "\n",
    "#Membuat Objek hash gambar 2\n",
    "HashGambar2 = imagehash.whash(Image.open('C:/Users/asus/Desktop/Semester 5/DSDA/Prak/Prak 11/Whalee.jpg'))\n",
    "print('Hash Gambar 2: ' + str(HashGambar2))\n",
    "\n",
    "#Membandingkan Objek Hash\n",
    "if(HashGambar1 == HashGambar2):\n",
    "    print(\"Gambar mirip!\")\n",
    "else:\n",
    "    print(\"Gambar berbeda, perbedaan hash: \" + str(HashGambar1 - HashGambar2))"
   ]
  },
  {
   "cell_type": "code",
   "execution_count": 10,
   "id": "a64284f8",
   "metadata": {},
   "outputs": [
    {
     "name": "stdout",
     "output_type": "stream",
     "text": [
      "Hash Gambar 1: 10fef1efff0f0000\n",
      "Hash Gambar 2: 10fef1efff0f0000\n",
      "Gambar mirip!\n"
     ]
    }
   ],
   "source": [
    "#Import Library\n",
    "from PIL import Image\n",
    "import imagehash\n",
    "\n",
    "#Membuat Objek hash gambar 1\n",
    "HashGambar1 = imagehash.whash(Image.open('C:/Users/asus/Desktop/Semester 5/DSDA/Prak/Prak 11/Whale.jpg'))\n",
    "print('Hash Gambar 1: ' + str(HashGambar1))\n",
    "\n",
    "#Membuat Objek hash gambar 2\n",
    "HashGambar2 = imagehash.whash(Image.open('C:/Users/asus/Desktop/Semester 5/DSDA/Prak/Prak 11/Whale.jpg'))\n",
    "print('Hash Gambar 2: ' + str(HashGambar2))\n",
    "\n",
    "#Membandingkan Objek Hash\n",
    "if(HashGambar1 == HashGambar2):\n",
    "    print(\"Gambar mirip!\")\n",
    "else:\n",
    "    print(\"Gambar berbeda, perbedaan hash: \" + str(HashGambar1 - HashGambar2))"
   ]
  }
 ],
 "metadata": {
  "kernelspec": {
   "display_name": "Python 3",
   "language": "python",
   "name": "python3"
  },
  "language_info": {
   "codemirror_mode": {
    "name": "ipython",
    "version": 3
   },
   "file_extension": ".py",
   "mimetype": "text/x-python",
   "name": "python",
   "nbconvert_exporter": "python",
   "pygments_lexer": "ipython3",
   "version": "3.8.8"
  }
 },
 "nbformat": 4,
 "nbformat_minor": 5
}
