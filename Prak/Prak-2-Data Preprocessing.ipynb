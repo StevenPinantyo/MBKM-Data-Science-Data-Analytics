{
 "cells": [
  {
   "cell_type": "code",
   "execution_count": 2,
   "id": "538707e3",
   "metadata": {},
   "outputs": [],
   "source": [
    "#Memasang library yang dibutuhkan\n",
    "import sys\n",
    "import psycopg2\n",
    "import pandas as pd"
   ]
  },
  {
   "cell_type": "code",
   "execution_count": 3,
   "id": "5c4b84ac",
   "metadata": {},
   "outputs": [],
   "source": [
    "#Koneksikan ke database\n",
    "conn = psycopg2.connect(host=\"localhost\", port=5432, database=\"dsda\", user=\"postgres\", password=\"12345\")\n",
    "conn.set_session(autocommit = True)\n",
    "cur = conn.cursor()\n",
    "sql = \"SELECT * FROM orders\"\n",
    "cur.execute(sql)\n",
    "baris = cur.fetchall()"
   ]
  },
  {
   "cell_type": "code",
   "execution_count": 4,
   "id": "04892f86",
   "metadata": {},
   "outputs": [
    {
     "data": {
      "text/html": [
       "<div>\n",
       "<style scoped>\n",
       "    .dataframe tbody tr th:only-of-type {\n",
       "        vertical-align: middle;\n",
       "    }\n",
       "\n",
       "    .dataframe tbody tr th {\n",
       "        vertical-align: top;\n",
       "    }\n",
       "\n",
       "    .dataframe thead th {\n",
       "        text-align: right;\n",
       "    }\n",
       "</style>\n",
       "<table border=\"1\" class=\"dataframe\">\n",
       "  <thead>\n",
       "    <tr style=\"text-align: right;\">\n",
       "      <th></th>\n",
       "      <th>order_id</th>\n",
       "      <th>customer_id</th>\n",
       "      <th>campaign_id</th>\n",
       "      <th>order_date</th>\n",
       "      <th>city</th>\n",
       "      <th>state</th>\n",
       "      <th>zipcode</th>\n",
       "      <th>payment_type</th>\n",
       "      <th>total_price</th>\n",
       "      <th>num_order</th>\n",
       "      <th>num_units</th>\n",
       "    </tr>\n",
       "  </thead>\n",
       "  <tbody>\n",
       "    <tr>\n",
       "      <th>0</th>\n",
       "      <td>1002854</td>\n",
       "      <td>45978</td>\n",
       "      <td>2141</td>\n",
       "      <td>2009-10-13</td>\n",
       "      <td>NEWTON</td>\n",
       "      <td>MA</td>\n",
       "      <td>2459</td>\n",
       "      <td>VI</td>\n",
       "      <td>190.00</td>\n",
       "      <td>3</td>\n",
       "      <td>3</td>\n",
       "    </tr>\n",
       "    <tr>\n",
       "      <th>1</th>\n",
       "      <td>1002855</td>\n",
       "      <td>125381</td>\n",
       "      <td>2173</td>\n",
       "      <td>2009-10-13</td>\n",
       "      <td>NEW ROCHELLE</td>\n",
       "      <td>NY</td>\n",
       "      <td>10804</td>\n",
       "      <td>VI</td>\n",
       "      <td>10.00</td>\n",
       "      <td>1</td>\n",
       "      <td>1</td>\n",
       "    </tr>\n",
       "    <tr>\n",
       "      <th>2</th>\n",
       "      <td>1002856</td>\n",
       "      <td>103122</td>\n",
       "      <td>2141</td>\n",
       "      <td>2011-06-02</td>\n",
       "      <td>MIAMI</td>\n",
       "      <td>FL</td>\n",
       "      <td>33137</td>\n",
       "      <td>AE</td>\n",
       "      <td>35.22</td>\n",
       "      <td>2</td>\n",
       "      <td>2</td>\n",
       "    </tr>\n",
       "    <tr>\n",
       "      <th>3</th>\n",
       "      <td>1002857</td>\n",
       "      <td>130980</td>\n",
       "      <td>2173</td>\n",
       "      <td>2009-10-14</td>\n",
       "      <td>E RUTHERFORD</td>\n",
       "      <td>NJ</td>\n",
       "      <td>7073</td>\n",
       "      <td>AE</td>\n",
       "      <td>10.00</td>\n",
       "      <td>1</td>\n",
       "      <td>1</td>\n",
       "    </tr>\n",
       "  </tbody>\n",
       "</table>\n",
       "</div>"
      ],
      "text/plain": [
       "  order_id customer_id campaign_id order_date          city state zipcode  \\\n",
       "0  1002854       45978        2141 2009-10-13        NEWTON    MA    2459   \n",
       "1  1002855      125381        2173 2009-10-13  NEW ROCHELLE    NY   10804   \n",
       "2  1002856      103122        2141 2011-06-02         MIAMI    FL   33137   \n",
       "3  1002857      130980        2173 2009-10-14  E RUTHERFORD    NJ    7073   \n",
       "\n",
       "  payment_type  total_price num_order num_units  \n",
       "0           VI       190.00         3         3  \n",
       "1           VI        10.00         1         1  \n",
       "2           AE        35.22         2         2  \n",
       "3           AE        10.00         1         1  "
      ]
     },
     "execution_count": 4,
     "metadata": {},
     "output_type": "execute_result"
    }
   ],
   "source": [
    "#memasukkan dataset pada order dan melakukan rename kolumn. Lalu menampilkan data 4 pertama\n",
    "order = pd.DataFrame([[ij for ij in i]for i in baris])\n",
    "order.rename(columns={0:'order_id',1:'customer_id',2:'campaign_id',3:'order_date',4:'city',5:'state',6:'zipcode',7:'payment_type',8:'total_price',9:'num_order',10:'num_units'},inplace=True)\n",
    "order.head(4)"
   ]
  },
  {
   "cell_type": "code",
   "execution_count": 5,
   "id": "385094be",
   "metadata": {},
   "outputs": [
    {
     "name": "stdout",
     "output_type": "stream",
     "text": [
      "order_id           0\n",
      "customer_id        0\n",
      "campaign_id        0\n",
      "order_date         0\n",
      "city              17\n",
      "state           1274\n",
      "zipcode          320\n",
      "payment_type     186\n",
      "total_price      186\n",
      "num_order        186\n",
      "num_units        186\n",
      "dtype: int64\n"
     ]
    }
   ],
   "source": [
    "#Melakukan cek nilai null\n",
    "print(order.isnull().sum())"
   ]
  },
  {
   "cell_type": "code",
   "execution_count": 6,
   "id": "8464dbe3",
   "metadata": {},
   "outputs": [
    {
     "name": "stdout",
     "output_type": "stream",
     "text": [
      "order_id        0\n",
      "customer_id     0\n",
      "campaign_id     0\n",
      "order_date      0\n",
      "city            0\n",
      "state           0\n",
      "zipcode         0\n",
      "payment_type    0\n",
      "total_price     0\n",
      "num_order       0\n",
      "num_units       0\n",
      "dtype: int64\n"
     ]
    }
   ],
   "source": [
    "#Membetulkan data yang null dan mengecek adanya null\n",
    "cleandata = order.dropna()\n",
    "print(cleandata.isnull().sum())"
   ]
  },
  {
   "cell_type": "code",
   "execution_count": 7,
   "id": "d20fcef1",
   "metadata": {},
   "outputs": [
    {
     "data": {
      "text/plain": [
       "(192983, 11)"
      ]
     },
     "execution_count": 7,
     "metadata": {},
     "output_type": "execute_result"
    }
   ],
   "source": [
    "#Menampilkan ordo dari variable order\n",
    "order.shape"
   ]
  },
  {
   "cell_type": "code",
   "execution_count": 8,
   "id": "db83682d",
   "metadata": {},
   "outputs": [
    {
     "data": {
      "text/plain": [
       "(191693, 11)"
      ]
     },
     "execution_count": 8,
     "metadata": {},
     "output_type": "execute_result"
    }
   ],
   "source": [
    "#Menampilkan ordo dari variable cleandata\n",
    "cleandata.shape"
   ]
  },
  {
   "cell_type": "code",
   "execution_count": 9,
   "id": "6047e5b7",
   "metadata": {},
   "outputs": [
    {
     "data": {
      "text/html": [
       "<div>\n",
       "<style scoped>\n",
       "    .dataframe tbody tr th:only-of-type {\n",
       "        vertical-align: middle;\n",
       "    }\n",
       "\n",
       "    .dataframe tbody tr th {\n",
       "        vertical-align: top;\n",
       "    }\n",
       "\n",
       "    .dataframe thead th {\n",
       "        text-align: right;\n",
       "    }\n",
       "</style>\n",
       "<table border=\"1\" class=\"dataframe\">\n",
       "  <thead>\n",
       "    <tr style=\"text-align: right;\">\n",
       "      <th></th>\n",
       "      <th>order_id</th>\n",
       "      <th>customer_id</th>\n",
       "      <th>campaign_id</th>\n",
       "      <th>order_date</th>\n",
       "      <th>city</th>\n",
       "      <th>state</th>\n",
       "      <th>zipcode</th>\n",
       "      <th>payment_type</th>\n",
       "      <th>total_price</th>\n",
       "      <th>num_order</th>\n",
       "      <th>num_units</th>\n",
       "    </tr>\n",
       "  </thead>\n",
       "  <tbody>\n",
       "    <tr>\n",
       "      <th>0</th>\n",
       "      <td>1002854</td>\n",
       "      <td>45978</td>\n",
       "      <td>2141</td>\n",
       "      <td>2009-10-13</td>\n",
       "      <td>NEWTON</td>\n",
       "      <td>MA</td>\n",
       "      <td>2459</td>\n",
       "      <td>VI</td>\n",
       "      <td>190.00</td>\n",
       "      <td>3</td>\n",
       "      <td>3</td>\n",
       "    </tr>\n",
       "    <tr>\n",
       "      <th>1</th>\n",
       "      <td>1002855</td>\n",
       "      <td>125381</td>\n",
       "      <td>2173</td>\n",
       "      <td>2009-10-13</td>\n",
       "      <td>NEW ROCHELLE</td>\n",
       "      <td>NY</td>\n",
       "      <td>10804</td>\n",
       "      <td>VI</td>\n",
       "      <td>10.00</td>\n",
       "      <td>1</td>\n",
       "      <td>1</td>\n",
       "    </tr>\n",
       "    <tr>\n",
       "      <th>2</th>\n",
       "      <td>1002856</td>\n",
       "      <td>103122</td>\n",
       "      <td>2141</td>\n",
       "      <td>2011-06-02</td>\n",
       "      <td>MIAMI</td>\n",
       "      <td>FL</td>\n",
       "      <td>33137</td>\n",
       "      <td>AE</td>\n",
       "      <td>35.22</td>\n",
       "      <td>2</td>\n",
       "      <td>2</td>\n",
       "    </tr>\n",
       "    <tr>\n",
       "      <th>3</th>\n",
       "      <td>1002857</td>\n",
       "      <td>130980</td>\n",
       "      <td>2173</td>\n",
       "      <td>2009-10-14</td>\n",
       "      <td>E RUTHERFORD</td>\n",
       "      <td>NJ</td>\n",
       "      <td>7073</td>\n",
       "      <td>AE</td>\n",
       "      <td>10.00</td>\n",
       "      <td>1</td>\n",
       "      <td>1</td>\n",
       "    </tr>\n",
       "  </tbody>\n",
       "</table>\n",
       "</div>"
      ],
      "text/plain": [
       "  order_id customer_id campaign_id order_date          city state zipcode  \\\n",
       "0  1002854       45978        2141 2009-10-13        NEWTON    MA    2459   \n",
       "1  1002855      125381        2173 2009-10-13  NEW ROCHELLE    NY   10804   \n",
       "2  1002856      103122        2141 2011-06-02         MIAMI    FL   33137   \n",
       "3  1002857      130980        2173 2009-10-14  E RUTHERFORD    NJ    7073   \n",
       "\n",
       "  payment_type  total_price num_order num_units  \n",
       "0           VI       190.00         3         3  \n",
       "1           VI        10.00         1         1  \n",
       "2           AE        35.22         2         2  \n",
       "3           AE        10.00         1         1  "
      ]
     },
     "execution_count": 9,
     "metadata": {},
     "output_type": "execute_result"
    }
   ],
   "source": [
    "#menampilkan data 4 pertama\n",
    "cleandata.head(4)"
   ]
  },
  {
   "cell_type": "code",
   "execution_count": 10,
   "id": "f49f1580",
   "metadata": {},
   "outputs": [
    {
     "name": "stdout",
     "output_type": "stream",
     "text": [
      "Jumlah Customer:\n",
      " campaign_id\n",
      "2001        5\n",
      "2002       91\n",
      "2003      276\n",
      "2004        3\n",
      "2005       22\n",
      "        ...  \n",
      "2235      990\n",
      "2236    50760\n",
      "2237     1129\n",
      "2238        1\n",
      "2239        4\n",
      "Name: customer_id, Length: 239, dtype: int64\n"
     ]
    }
   ],
   "source": [
    "#memanipulasi berdasarkan grup data\n",
    "data = order[['order_id','customer_id','campaign_id','total_price']]\n",
    "idOrder = data.groupby('campaign_id')['customer_id'].nunique()\n",
    "print('Jumlah Customer:\\n',idOrder)\n"
   ]
  },
  {
   "cell_type": "code",
   "execution_count": 11,
   "id": "d5451595",
   "metadata": {},
   "outputs": [
    {
     "name": "stdout",
     "output_type": "stream",
     "text": [
      "2141    22687\n",
      "2173    11272\n",
      "2236    10606\n",
      "2010     1460\n",
      "2237     1183\n",
      "        ...  \n",
      "2029        1\n",
      "2118        1\n",
      "2132        1\n",
      "2147        1\n",
      "2098        1\n",
      "Name: campaign_id, Length: 182, dtype: int64\n"
     ]
    }
   ],
   "source": [
    "#memanipulasi berdasarkan filter data NY\n",
    "man2 = cleandata[['order_id','customer_id','campaign_id','payment_type']]\n",
    "stateNY = man2['campaign_id'].loc[cleandata['state']==\"NY\"]\n",
    "print(stateNY.value_counts())\n"
   ]
  },
  {
   "cell_type": "code",
   "execution_count": 12,
   "id": "f44d5fee",
   "metadata": {},
   "outputs": [
    {
     "name": "stdout",
     "output_type": "stream",
     "text": [
      "2141    2523\n",
      "2236    1984\n",
      "2173    1644\n",
      "2010     159\n",
      "2204     127\n",
      "        ... \n",
      "2145       1\n",
      "2234       1\n",
      "2174       1\n",
      "2113       1\n",
      "2161       1\n",
      "Name: campaign_id, Length: 99, dtype: int64\n"
     ]
    }
   ],
   "source": [
    "#Manipulasi berdasarkan filter data PA\n",
    "statePA = man2['campaign_id'].loc[cleandata['state']==\"PA\"]\n",
    "print(statePA.value_counts())\n"
   ]
  },
  {
   "cell_type": "code",
   "execution_count": 13,
   "id": "5c483340",
   "metadata": {},
   "outputs": [
    {
     "name": "stdout",
     "output_type": "stream",
     "text": [
      "Data sebelum normalisasi ZScore:\n",
      "         total_price\n",
      "0            190.00\n",
      "1             10.00\n",
      "2             35.22\n",
      "3             10.00\n",
      "4             10.00\n",
      "...             ...\n",
      "192978        23.96\n",
      "192979        20.65\n",
      "192980        16.95\n",
      "192981        22.95\n",
      "192982        49.45\n",
      "\n",
      "[191693 rows x 1 columns]\n"
     ]
    }
   ],
   "source": [
    "#Normalisasi Zscore (Sebelum)\n",
    "zdata = cleandata.loc[:,['total_price']]\n",
    "zdata['total_price'] = zdata['total_price'].fillna(cleandata.groupby('campaign_id')['total_price'].transform('mean'))\n",
    "print('Data sebelum normalisasi ZScore:\\n',zdata)\n"
   ]
  },
  {
   "cell_type": "code",
   "execution_count": 14,
   "id": "1657c9c3",
   "metadata": {},
   "outputs": [
    {
     "name": "stdout",
     "output_type": "stream",
     "text": [
      "Data setelah normalisasi ZScore:\n",
      "         total_price\n",
      "0          0.652482\n",
      "1         -0.333432\n",
      "2         -0.195294\n",
      "3         -0.333432\n",
      "4         -0.333432\n",
      "...             ...\n",
      "192978    -0.256968\n",
      "192979    -0.275098\n",
      "192980    -0.295364\n",
      "192981    -0.262501\n",
      "192982    -0.117352\n",
      "\n",
      "[191693 rows x 1 columns]\n"
     ]
    }
   ],
   "source": [
    "#Normalisasi Zscore (Sesudah)\n",
    "avgdata = zdata.mean()\n",
    "stddata = zdata.std()\n",
    "zdata = (zdata-avgdata)/stddata\n",
    "print('Data setelah normalisasi ZScore:\\n',zdata)\n"
   ]
  },
  {
   "cell_type": "code",
   "execution_count": 15,
   "id": "305b66c7",
   "metadata": {},
   "outputs": [
    {
     "name": "stdout",
     "output_type": "stream",
     "text": [
      "Data sebelum normalisasi minmax:\n",
      "         total_price\n",
      "0            190.00\n",
      "1             10.00\n",
      "2             35.22\n",
      "3             10.00\n",
      "4             10.00\n",
      "...             ...\n",
      "192978        23.96\n",
      "192979        20.65\n",
      "192980        16.95\n",
      "192981        22.95\n",
      "192982        49.45\n",
      "\n",
      "[191693 rows x 1 columns]\n"
     ]
    }
   ],
   "source": [
    "#Normalisasi Minmax (Sebelum)\n",
    "mdata = cleandata.loc[:,['total_price']]\n",
    "mdata['total_price'] = mdata['total_price'].fillna(cleandata.groupby('campaign_id')['total_price'].transform('mean'))\n",
    "print('Data sebelum normalisasi minmax:\\n',mdata)\n"
   ]
  },
  {
   "cell_type": "code",
   "execution_count": 16,
   "id": "071bc72c",
   "metadata": {},
   "outputs": [
    {
     "name": "stdout",
     "output_type": "stream",
     "text": [
      "Data setelah normalisasi minmax:\n",
      "         total_price\n",
      "0          0.019291\n",
      "1          0.001015\n",
      "2          0.003576\n",
      "3          0.001015\n",
      "4          0.001015\n",
      "...             ...\n",
      "192978     0.002433\n",
      "192979     0.002097\n",
      "192980     0.001721\n",
      "192981     0.002330\n",
      "192982     0.005021\n",
      "\n",
      "[191693 rows x 1 columns]\n"
     ]
    }
   ],
   "source": [
    "#Normalisasi Minmax (Sesudah)\n",
    "min = 0\n",
    "max = 1\n",
    "mindata = mdata.min()\n",
    "maxdata = mdata.max()\n",
    "mdata = ((mdata-mindata)*(max-min)/(maxdata-mindata))+min\n",
    "print('Data setelah normalisasi minmax:\\n',mdata)\n"
   ]
  },
  {
   "cell_type": "code",
   "execution_count": 17,
   "id": "b8cc7aa9",
   "metadata": {},
   "outputs": [
    {
     "data": {
      "text/plain": [
       "(191382, 11)"
      ]
     },
     "execution_count": 17,
     "metadata": {},
     "output_type": "execute_result"
    }
   ],
   "source": [
    "cleandata2 = cleandata[cleandata.payment_type != \"??\"]\n",
    "cleandata2.shape"
   ]
  },
  {
   "cell_type": "code",
   "execution_count": 18,
   "id": "3cc20b61",
   "metadata": {},
   "outputs": [
    {
     "name": "stdout",
     "output_type": "stream",
     "text": [
      "Jumlah Customer:\n",
      " payment_type\n",
      "AE    46678\n",
      "DB    12412\n",
      "MC    46447\n",
      "OC     8155\n",
      "VI    75042\n",
      "Name: customer_id, dtype: int64\n"
     ]
    }
   ],
   "source": [
    "data2 = cleandata2[['order_id','customer_id','campaign_id','total_price','payment_type']]\n",
    "paymentOrder = data2.groupby('payment_type')['customer_id'].nunique()\n",
    "print('Jumlah Customer:\\n',paymentOrder)\n"
   ]
  },
  {
   "cell_type": "code",
   "execution_count": 19,
   "id": "c33ceba9",
   "metadata": {},
   "outputs": [
    {
     "name": "stdout",
     "output_type": "stream",
     "text": [
      "Jumlah Customer:\n",
      " city\n",
      ".EASTHAM               2\n",
      "1083 EA  AMSTERDAM     1\n",
      "1660 MISSION           1\n",
      "1NGLEWOOD              1\n",
      "2130                   1\n",
      "                      ..\n",
      "ZIEGLERVILLE           1\n",
      "ZIONSDILLE             2\n",
      "ZIONSVILLE            22\n",
      "ZIONSVIOLE             1\n",
      "ZOLLIKERBERG           2\n",
      "Name: customer_id, Length: 12076, dtype: int64\n"
     ]
    }
   ],
   "source": [
    "data3 = cleandata2[['order_id','customer_id','campaign_id','city','total_price']]\n",
    "cityOrder = data3.groupby('city')['customer_id'].nunique()\n",
    "print('Jumlah Customer:\\n',cityOrder)"
   ]
  },
  {
   "cell_type": "code",
   "execution_count": 20,
   "id": "5ee91256",
   "metadata": {},
   "outputs": [
    {
     "name": "stdout",
     "output_type": "stream",
     "text": [
      "Banyaknya pesanan order berdasarkan unit di state TX:\n",
      " 1      4107\n",
      "2      1249\n",
      "3       532\n",
      "4       175\n",
      "5        75\n",
      "6        30\n",
      "7        24\n",
      "10       16\n",
      "8         7\n",
      "11        6\n",
      "9         3\n",
      "15        3\n",
      "13        2\n",
      "20        2\n",
      "25        1\n",
      "16        1\n",
      "101       1\n",
      "Name: num_units, dtype: int64\n"
     ]
    }
   ],
   "source": [
    "man3 = cleandata2[['order_id','customer_id','campaign_id','payment_type','num_units']]\n",
    "stateTX = man3['num_units'].loc[cleandata2['state']==\"TX\"]\n",
    "print('Banyaknya pesanan order berdasarkan unit di state TX:\\n', stateTX.value_counts())"
   ]
  },
  {
   "cell_type": "code",
   "execution_count": 21,
   "id": "47ee9fb4",
   "metadata": {},
   "outputs": [
    {
     "name": "stdout",
     "output_type": "stream",
     "text": [
      "Banyaknya order berdasarkan orderlines dari State FL:\n",
      " 1     7336\n",
      "2     1681\n",
      "3      695\n",
      "4      198\n",
      "5       99\n",
      "6       59\n",
      "7       31\n",
      "8       18\n",
      "9       15\n",
      "11       7\n",
      "10       4\n",
      "12       3\n",
      "22       2\n",
      "14       1\n",
      "20       1\n",
      "13       1\n",
      "Name: num_order, dtype: int64\n"
     ]
    }
   ],
   "source": [
    "man4 = cleandata2[['order_id','customer_id','campaign_id','payment_type','num_order']]\n",
    "stateFL = man4['num_order'].loc[cleandata2['state']==\"FL\"]\n",
    "print('Banyaknya order berdasarkan orderlines dari State FL:\\n', stateFL.value_counts())"
   ]
  },
  {
   "cell_type": "code",
   "execution_count": null,
   "id": "c3223f61",
   "metadata": {},
   "outputs": [],
   "source": []
  },
  {
   "cell_type": "code",
   "execution_count": null,
   "id": "01b22b70",
   "metadata": {},
   "outputs": [],
   "source": []
  },
  {
   "cell_type": "code",
   "execution_count": null,
   "id": "efcf9481",
   "metadata": {},
   "outputs": [],
   "source": []
  }
 ],
 "metadata": {
  "kernelspec": {
   "display_name": "Python 3",
   "language": "python",
   "name": "python3"
  },
  "language_info": {
   "codemirror_mode": {
    "name": "ipython",
    "version": 3
   },
   "file_extension": ".py",
   "mimetype": "text/x-python",
   "name": "python",
   "nbconvert_exporter": "python",
   "pygments_lexer": "ipython3",
   "version": "3.8.8"
  }
 },
 "nbformat": 4,
 "nbformat_minor": 5
}
