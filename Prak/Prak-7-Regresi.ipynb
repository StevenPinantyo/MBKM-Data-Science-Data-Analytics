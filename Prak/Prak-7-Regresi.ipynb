{
  "cells": [
    {
      "cell_type": "code",
      "execution_count": null,
      "id": "718b6904",
      "metadata": {
        "id": "718b6904"
      },
      "outputs": [],
      "source": [
        "import pandas as pd\n",
        "from sklearn.model_selection import train_test_split\n",
        "from sklearn.linear_model import LogisticRegression\n",
        "from sklearn import metrics\n",
        "import seaborn as sn\n",
        "import matplotlib.pyplot as plt"
      ]
    },
    {
      "cell_type": "code",
      "execution_count": null,
      "id": "e6b3d0ba",
      "metadata": {
        "id": "e6b3d0ba"
      },
      "outputs": [],
      "source": [
        "data = pd.read_csv(\"C:/Users/asus/Desktop/Semester 5/DSDA/Prak/Prak 7/Order_Bundle_WP.csv\", sep=\";\") #Sesuaikan dengan directory file masing-masing"
      ]
    },
    {
      "cell_type": "code",
      "execution_count": null,
      "id": "41ed2ddf",
      "metadata": {
        "id": "41ed2ddf",
        "outputId": "dc381cc4-84d1-4bc5-8414-74a14d3fb4d9"
      },
      "outputs": [
        {
          "data": {
            "text/html": [
              "<div>\n",
              "<style scoped>\n",
              "    .dataframe tbody tr th:only-of-type {\n",
              "        vertical-align: middle;\n",
              "    }\n",
              "\n",
              "    .dataframe tbody tr th {\n",
              "        vertical-align: top;\n",
              "    }\n",
              "\n",
              "    .dataframe thead th {\n",
              "        text-align: right;\n",
              "    }\n",
              "</style>\n",
              "<table border=\"1\" class=\"dataframe\">\n",
              "  <thead>\n",
              "    <tr style=\"text-align: right;\">\n",
              "      <th></th>\n",
              "      <th>Id</th>\n",
              "      <th>Penilaian_dari_pelanggan</th>\n",
              "      <th>Penilaian_dari_karyawan</th>\n",
              "      <th>Penilaian_dari_petinggi</th>\n",
              "      <th>Perlu_dipaket?</th>\n",
              "    </tr>\n",
              "  </thead>\n",
              "  <tbody>\n",
              "    <tr>\n",
              "      <th>0</th>\n",
              "      <td>1</td>\n",
              "      <td>880</td>\n",
              "      <td>3</td>\n",
              "      <td>3</td>\n",
              "      <td>1</td>\n",
              "    </tr>\n",
              "    <tr>\n",
              "      <th>1</th>\n",
              "      <td>2</td>\n",
              "      <td>750</td>\n",
              "      <td>1</td>\n",
              "      <td>3</td>\n",
              "      <td>1</td>\n",
              "    </tr>\n",
              "    <tr>\n",
              "      <th>2</th>\n",
              "      <td>3</td>\n",
              "      <td>700</td>\n",
              "      <td>1</td>\n",
              "      <td>1</td>\n",
              "      <td>1</td>\n",
              "    </tr>\n",
              "    <tr>\n",
              "      <th>3</th>\n",
              "      <td>4</td>\n",
              "      <td>751</td>\n",
              "      <td>1</td>\n",
              "      <td>2</td>\n",
              "      <td>1</td>\n",
              "    </tr>\n",
              "  </tbody>\n",
              "</table>\n",
              "</div>"
            ],
            "text/plain": [
              "   Id  Penilaian_dari_pelanggan  Penilaian_dari_karyawan  \\\n",
              "0   1                       880                        3   \n",
              "1   2                       750                        1   \n",
              "2   3                       700                        1   \n",
              "3   4                       751                        1   \n",
              "\n",
              "   Penilaian_dari_petinggi  Perlu_dipaket?  \n",
              "0                        3               1  \n",
              "1                        3               1  \n",
              "2                        1               1  \n",
              "3                        2               1  "
            ]
          },
          "execution_count": 3,
          "metadata": {},
          "output_type": "execute_result"
        }
      ],
      "source": [
        "data.head(4)"
      ]
    },
    {
      "cell_type": "code",
      "execution_count": null,
      "id": "c2d0d526",
      "metadata": {
        "id": "c2d0d526",
        "outputId": "798ca9bb-edff-4c0e-a16b-e2dea1de808e"
      },
      "outputs": [
        {
          "data": {
            "text/plain": [
              "Id                          int64\n",
              "Penilaian_dari_pelanggan    int64\n",
              "Penilaian_dari_karyawan     int64\n",
              "Penilaian_dari_petinggi     int64\n",
              "Perlu_dipaket?              int64\n",
              "dtype: object"
            ]
          },
          "execution_count": 4,
          "metadata": {},
          "output_type": "execute_result"
        }
      ],
      "source": [
        "data.dtypes"
      ]
    },
    {
      "cell_type": "code",
      "execution_count": null,
      "id": "eb4d2814",
      "metadata": {
        "id": "eb4d2814",
        "outputId": "975d7da7-7296-492a-c7f1-5996aceaea1c"
      },
      "outputs": [
        {
          "data": {
            "text/html": [
              "<div>\n",
              "<style scoped>\n",
              "    .dataframe tbody tr th:only-of-type {\n",
              "        vertical-align: middle;\n",
              "    }\n",
              "\n",
              "    .dataframe tbody tr th {\n",
              "        vertical-align: top;\n",
              "    }\n",
              "\n",
              "    .dataframe thead th {\n",
              "        text-align: right;\n",
              "    }\n",
              "</style>\n",
              "<table border=\"1\" class=\"dataframe\">\n",
              "  <thead>\n",
              "    <tr style=\"text-align: right;\">\n",
              "      <th></th>\n",
              "      <th>Id</th>\n",
              "      <th>Penilaian_dari_pelanggan</th>\n",
              "      <th>Penilaian_dari_karyawan</th>\n",
              "      <th>Penilaian_dari_petinggi</th>\n",
              "      <th>Perlu_dipaket?</th>\n",
              "    </tr>\n",
              "  </thead>\n",
              "  <tbody>\n",
              "    <tr>\n",
              "      <th>count</th>\n",
              "      <td>30.000000</td>\n",
              "      <td>30.000000</td>\n",
              "      <td>30.000000</td>\n",
              "      <td>30.000000</td>\n",
              "      <td>30.000000</td>\n",
              "    </tr>\n",
              "    <tr>\n",
              "      <th>mean</th>\n",
              "      <td>15.500000</td>\n",
              "      <td>671.400000</td>\n",
              "      <td>2.733333</td>\n",
              "      <td>2.166667</td>\n",
              "      <td>0.700000</td>\n",
              "    </tr>\n",
              "    <tr>\n",
              "      <th>std</th>\n",
              "      <td>8.803408</td>\n",
              "      <td>99.421291</td>\n",
              "      <td>1.229896</td>\n",
              "      <td>0.833908</td>\n",
              "      <td>0.466092</td>\n",
              "    </tr>\n",
              "    <tr>\n",
              "      <th>min</th>\n",
              "      <td>1.000000</td>\n",
              "      <td>504.000000</td>\n",
              "      <td>1.000000</td>\n",
              "      <td>1.000000</td>\n",
              "      <td>0.000000</td>\n",
              "    </tr>\n",
              "    <tr>\n",
              "      <th>25%</th>\n",
              "      <td>8.250000</td>\n",
              "      <td>595.000000</td>\n",
              "      <td>1.250000</td>\n",
              "      <td>1.250000</td>\n",
              "      <td>0.000000</td>\n",
              "    </tr>\n",
              "    <tr>\n",
              "      <th>50%</th>\n",
              "      <td>15.500000</td>\n",
              "      <td>691.000000</td>\n",
              "      <td>3.000000</td>\n",
              "      <td>2.000000</td>\n",
              "      <td>1.000000</td>\n",
              "    </tr>\n",
              "    <tr>\n",
              "      <th>75%</th>\n",
              "      <td>22.750000</td>\n",
              "      <td>745.500000</td>\n",
              "      <td>4.000000</td>\n",
              "      <td>3.000000</td>\n",
              "      <td>1.000000</td>\n",
              "    </tr>\n",
              "    <tr>\n",
              "      <th>max</th>\n",
              "      <td>30.000000</td>\n",
              "      <td>880.000000</td>\n",
              "      <td>4.000000</td>\n",
              "      <td>3.000000</td>\n",
              "      <td>1.000000</td>\n",
              "    </tr>\n",
              "  </tbody>\n",
              "</table>\n",
              "</div>"
            ],
            "text/plain": [
              "              Id  Penilaian_dari_pelanggan  Penilaian_dari_karyawan  \\\n",
              "count  30.000000                 30.000000                30.000000   \n",
              "mean   15.500000                671.400000                 2.733333   \n",
              "std     8.803408                 99.421291                 1.229896   \n",
              "min     1.000000                504.000000                 1.000000   \n",
              "25%     8.250000                595.000000                 1.250000   \n",
              "50%    15.500000                691.000000                 3.000000   \n",
              "75%    22.750000                745.500000                 4.000000   \n",
              "max    30.000000                880.000000                 4.000000   \n",
              "\n",
              "       Penilaian_dari_petinggi  Perlu_dipaket?  \n",
              "count                30.000000       30.000000  \n",
              "mean                  2.166667        0.700000  \n",
              "std                   0.833908        0.466092  \n",
              "min                   1.000000        0.000000  \n",
              "25%                   1.250000        0.000000  \n",
              "50%                   2.000000        1.000000  \n",
              "75%                   3.000000        1.000000  \n",
              "max                   3.000000        1.000000  "
            ]
          },
          "execution_count": 5,
          "metadata": {},
          "output_type": "execute_result"
        }
      ],
      "source": [
        "data.describe()"
      ]
    },
    {
      "cell_type": "code",
      "execution_count": null,
      "id": "fb3b6c13",
      "metadata": {
        "id": "fb3b6c13"
      },
      "outputs": [],
      "source": [
        "#Menentukan variabel independen dan dependen\n",
        "X = data[['Penilaian_dari_pelanggan','Penilaian_dari_karyawan','Penilaian_dari_petinggi']]\n",
        "y = data['Perlu_dipaket?']"
      ]
    },
    {
      "cell_type": "code",
      "execution_count": null,
      "id": "073b8ffa",
      "metadata": {
        "id": "073b8ffa"
      },
      "outputs": [],
      "source": [
        "#Membagi data untuk training dan testing\n",
        "X_train, X_test, y_train, y_test = train_test_split(X, y, test_size = 0.6, random_state = 0)"
      ]
    },
    {
      "cell_type": "code",
      "execution_count": null,
      "id": "9ece0a67",
      "metadata": {
        "id": "9ece0a67"
      },
      "outputs": [],
      "source": [
        "#Penerapan regresi logistik\n",
        "logistic_regression = LogisticRegression()\n",
        "logistic_regression.fit(X_train, y_train)\n",
        "y_pred = logistic_regression.predict(X_test)"
      ]
    },
    {
      "cell_type": "code",
      "execution_count": null,
      "id": "2169b7fd",
      "metadata": {
        "id": "2169b7fd",
        "outputId": "b735181f-7179-4846-a09f-4658204a0486"
      },
      "outputs": [
        {
          "data": {
            "text/plain": [
              "array([1, 1, 1, 1, 1, 1, 1, 1, 0, 0, 0, 1, 1, 1, 1, 0, 1, 0], dtype=int64)"
            ]
          },
          "execution_count": 9,
          "metadata": {},
          "output_type": "execute_result"
        }
      ],
      "source": [
        "y_pred"
      ]
    },
    {
      "cell_type": "code",
      "execution_count": null,
      "id": "50df3f25",
      "metadata": {
        "id": "50df3f25",
        "outputId": "c073608f-6d8e-4728-87ac-0f23c9bf81b9"
      },
      "outputs": [
        {
          "data": {
            "text/plain": [
              "<AxesSubplot:xlabel='Predicted', ylabel='Actual'>"
            ]
          },
          "execution_count": 10,
          "metadata": {},
          "output_type": "execute_result"
        },
        {
          "data": {
            "image/png": "[encoded data removed]",
            "text/plain": [
              "<Figure size 432x288 with 2 Axes>"
            ]
          },
          "metadata": {
            "needs_background": "light"
          },
          "output_type": "display_data"
        }
      ],
      "source": [
        "#Menampilkan confusion matrix\n",
        "confusion_matrix = pd.crosstab(y_test, y_pred, rownames=['Actual'], colnames=['Predicted'])\n",
        "sn.heatmap(confusion_matrix, annot=True)"
      ]
    },
    {
      "cell_type": "code",
      "execution_count": null,
      "id": "db2d9d48",
      "metadata": {
        "id": "db2d9d48",
        "outputId": "5cca4468-9518-45e5-ebf4-71a7bce49273"
      },
      "outputs": [
        {
          "name": "stdout",
          "output_type": "stream",
          "text": [
            "Accuracy:  0.8888888888888888\n"
          ]
        }
      ],
      "source": [
        "#Menampilkan akurasi dari prediksi\n",
        "print('Accuracy: ', metrics.accuracy_score(y_test, y_pred))\n",
        "plt.show()"
      ]
    },
    {
      "cell_type": "code",
      "execution_count": null,
      "id": "d9b46e3f",
      "metadata": {
        "id": "d9b46e3f",
        "outputId": "127a6194-423d-4f29-aacb-490adee27b01"
      },
      "outputs": [
        {
          "name": "stdout",
          "output_type": "stream",
          "text": [
            "    Penilaian_dari_pelanggan  Penilaian_dari_karyawan  Penilaian_dari_petinggi\n",
            "2                        700                        1                        1\n",
            "28                       796                        4                        2\n",
            "13                       649                        4                        3\n",
            "10                       632                        3                        1\n",
            "26                       627                        4                        1\n",
            "24                       695                        3                        3\n",
            "27                       770                        4                        2\n",
            "11                       800                        2                        1\n",
            "17                       536                        3                        3\n",
            "22                       592                        2                        3\n",
            "5                        582                        2                        1\n",
            "16                       722                        4                        2\n",
            "8                        732                        3                        3\n",
            "14                       754                        1                        3\n",
            "23                       646                        4                        2\n",
            "20                       513                        4                        3\n",
            "1                        750                        1                        3\n",
            "29                       523                        1                        2\n"
          ]
        }
      ],
      "source": [
        "#Menampilkan data testing\n",
        "print (X_test)"
      ]
    },
    {
      "cell_type": "code",
      "execution_count": null,
      "id": "34806576",
      "metadata": {
        "id": "34806576",
        "outputId": "caa9c00e-7298-4268-fa27-89d37a1fd01b"
      },
      "outputs": [
        {
          "name": "stdout",
          "output_type": "stream",
          "text": [
            "[1 1 1 1 1 1 1 1 0 0 0 1 1 1 1 0 1 0]\n"
          ]
        }
      ],
      "source": [
        "#Menampilkan data hasil testing (prediksi)\n",
        "print (y_pred)"
      ]
    },
    {
      "cell_type": "code",
      "execution_count": null,
      "id": "8e0a144a",
      "metadata": {
        "id": "8e0a144a"
      },
      "outputs": [],
      "source": [
        "#Menguji data baru\n",
        "new_predict = {'Penilaian_dari_pelanggan': [720,600],\n",
        "               'Penilaian_dari_karyawan':[2,4],\n",
        "               'Penilaian_dari_petinggi':[1,3]\n",
        "                  }\n",
        "\n",
        "df2 = pd.DataFrame(new_predict,columns= ['Penilaian_dari_pelanggan','Penilaian_dari_karyawan','Penilaian_dari_petinggi'])"
      ]
    },
    {
      "cell_type": "code",
      "execution_count": null,
      "id": "cc9b5018",
      "metadata": {
        "id": "cc9b5018"
      },
      "outputs": [],
      "source": [
        "#Penerapan regresi logistik\n",
        "y_pred=logistic_regression.predict(df2)"
      ]
    },
    {
      "cell_type": "code",
      "execution_count": null,
      "id": "a628e0f2",
      "metadata": {
        "id": "a628e0f2",
        "outputId": "d894a4b3-5c4e-4db6-84f7-617180d91f6e"
      },
      "outputs": [
        {
          "name": "stdout",
          "output_type": "stream",
          "text": [
            "   Penilaian_dari_pelanggan  Penilaian_dari_karyawan  Penilaian_dari_petinggi\n",
            "0                       720                        2                        1\n",
            "1                       600                        4                        3\n"
          ]
        }
      ],
      "source": [
        "#Menampilkan data testing\n",
        "print (df2)"
      ]
    },
    {
      "cell_type": "code",
      "execution_count": null,
      "id": "19d837bd",
      "metadata": {
        "id": "19d837bd",
        "outputId": "dbd09fca-dd9e-4124-f2d6-81c572a8e6a7"
      },
      "outputs": [
        {
          "name": "stdout",
          "output_type": "stream",
          "text": [
            "[1 1]\n"
          ]
        }
      ],
      "source": [
        "#Menampilkan prediksi dari data testing\n",
        "print (y_pred)"
      ]
    },
    {
      "cell_type": "code",
      "execution_count": null,
      "id": "7085d607",
      "metadata": {
        "id": "7085d607"
      },
      "outputs": [],
      "source": [
        "#Menguji data baru\n",
        "new_predict = {'Penilaian_dari_pelanggan': [560,660,700,600],\n",
        "               'Penilaian_dari_karyawan':[2,2,4,1],\n",
        "               'Penilaian_dari_petinggi':[1,2,2,1]\n",
        "                  }\n",
        "\n",
        "df2 = pd.DataFrame(new_predict,columns= ['Penilaian_dari_pelanggan','Penilaian_dari_karyawan','Penilaian_dari_petinggi'])"
      ]
    },
    {
      "cell_type": "code",
      "execution_count": null,
      "id": "570779a7",
      "metadata": {
        "id": "570779a7"
      },
      "outputs": [],
      "source": [
        "#Penerapan regresi logistik\n",
        "y_pred=logistic_regression.predict(df2)"
      ]
    },
    {
      "cell_type": "code",
      "execution_count": null,
      "id": "157c5f97",
      "metadata": {
        "id": "157c5f97",
        "outputId": "fe2c7503-b614-4bd3-ef3e-4b82d6b92e7f"
      },
      "outputs": [
        {
          "name": "stdout",
          "output_type": "stream",
          "text": [
            "   Penilaian_dari_pelanggan  Penilaian_dari_karyawan  Penilaian_dari_petinggi\n",
            "0                       560                        2                        1\n",
            "1                       660                        2                        2\n",
            "2                       700                        4                        2\n",
            "3                       600                        1                        1\n"
          ]
        }
      ],
      "source": [
        "#Menampilkan data testing\n",
        "print (df2)"
      ]
    },
    {
      "cell_type": "code",
      "execution_count": null,
      "id": "80e51554",
      "metadata": {
        "id": "80e51554",
        "outputId": "35433dc5-08d1-4269-f81a-63a7717a3ee4"
      },
      "outputs": [
        {
          "name": "stdout",
          "output_type": "stream",
          "text": [
            "[0 1 1 0]\n"
          ]
        }
      ],
      "source": [
        "#Menampilkan prediksi dari data testing\n",
        "print (y_pred)"
      ]
    }
  ],
  "metadata": {
    "kernelspec": {
      "display_name": "Python 3",
      "language": "python",
      "name": "python3"
    },
    "language_info": {
      "codemirror_mode": {
        "name": "ipython",
        "version": 3
      },
      "file_extension": ".py",
      "mimetype": "text/x-python",
      "name": "python",
      "nbconvert_exporter": "python",
      "pygments_lexer": "ipython3",
      "version": "3.8.8"
    },
    "colab": {
      "name": "Prak-7-064092100002-Steven.ipynb",
      "provenance": []
    }
  },
  "nbformat": 4,
  "nbformat_minor": 5
}