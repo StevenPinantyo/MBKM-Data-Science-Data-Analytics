{
  "nbformat": 4,
  "nbformat_minor": 0,
  "metadata": {
    "colab": {
      "name": "064092100002 Steven Christ Pinantyo Arwidarasto.ipynb",
      "provenance": [],
      "collapsed_sections": []
    },
    "kernelspec": {
      "name": "python3",
      "display_name": "Python 3"
    },
    "language_info": {
      "name": "python"
    }
  },
  "cells": [
    {
      "cell_type": "markdown",
      "metadata": {
        "id": "E4JQhK6oj0X0"
      },
      "source": [
        "**Nama  : Steven Christ Pinantyo Arwidarasto**\n",
        "\n",
        "**NIM   : 064092100002**\n",
        "\n",
        "**Kelas : DSDA | A **"
      ]
    },
    {
      "cell_type": "markdown",
      "metadata": {
        "id": "lAjmajTTkU7K"
      },
      "source": [
        "> 2."
      ]
    },
    {
      "cell_type": "code",
      "metadata": {
        "id": "68-fcflOw_Tv"
      },
      "source": [
        "import pandas as pd\n",
        "#Melakukan import LabelEncoder untuk preprocessing transformasi\n",
        "from sklearn import preprocessing\n",
        "#Pembentukan countplot\n",
        "import seaborn as sns\n",
        "import matplotlib.pyplot as plt\n",
        "\n",
        "import numpy as np"
      ],
      "execution_count": null,
      "outputs": []
    },
    {
      "cell_type": "code",
      "metadata": {
        "id": "VJqWXEFLkYCK"
      },
      "source": [
        "df = pd.read_csv('/content/drive/MyDrive/Universitas Pancasila/Universitas Pancasila Teknik Informatika/Semester 5/DSDA/train.csv')"
      ],
      "execution_count": null,
      "outputs": []
    },
    {
      "cell_type": "markdown",
      "metadata": {
        "id": "GZ8ZqZNMxXWo"
      },
      "source": [
        "> A. Tampilkan 10 data teratas untuk mendapatkan gambaran dari\n",
        "dataset yang tersedia."
      ]
    },
    {
      "cell_type": "code",
      "metadata": {
        "colab": {
          "base_uri": "https://localhost:8080/",
          "height": 392
        },
        "id": "h63zWu2IxeAi",
        "outputId": "a96dd6a2-67b3-41c2-d4cb-c7900f72b3f3"
      },
      "source": [
        "df.head(10)"
      ],
      "execution_count": null,
      "outputs": [
        {
          "output_type": "execute_result",
          "data": {
            "text/html": [
              "<div>\n",
              "<style scoped>\n",
              "    .dataframe tbody tr th:only-of-type {\n",
              "        vertical-align: middle;\n",
              "    }\n",
              "\n",
              "    .dataframe tbody tr th {\n",
              "        vertical-align: top;\n",
              "    }\n",
              "\n",
              "    .dataframe thead th {\n",
              "        text-align: right;\n",
              "    }\n",
              "</style>\n",
              "<table border=\"1\" class=\"dataframe\">\n",
              "  <thead>\n",
              "    <tr style=\"text-align: right;\">\n",
              "      <th></th>\n",
              "      <th>job_level</th>\n",
              "      <th>job_duration_in_current_job_level</th>\n",
              "      <th>person_level</th>\n",
              "      <th>job_duration_in_current_person_level</th>\n",
              "      <th>job_duration_in_current_branch</th>\n",
              "      <th>Employee_type</th>\n",
              "      <th>gender</th>\n",
              "      <th>age</th>\n",
              "      <th>marital_status_maried(Y/N)</th>\n",
              "      <th>number_of_dependences</th>\n",
              "      <th>Education_level</th>\n",
              "      <th>GPA</th>\n",
              "      <th>year_graduated</th>\n",
              "      <th>job_duration_from_training</th>\n",
              "      <th>branch_rotation</th>\n",
              "      <th>job_rotation</th>\n",
              "      <th>assign_of_otherposition</th>\n",
              "      <th>annual leave</th>\n",
              "      <th>sick_leaves</th>\n",
              "      <th>Last_achievement_%</th>\n",
              "      <th>Achievement_above_100%_during3quartal</th>\n",
              "      <th>Best Performance</th>\n",
              "    </tr>\n",
              "  </thead>\n",
              "  <tbody>\n",
              "    <tr>\n",
              "      <th>0</th>\n",
              "      <td>JG04</td>\n",
              "      <td>1.352775</td>\n",
              "      <td>PG03</td>\n",
              "      <td>1.352775</td>\n",
              "      <td>1.732051</td>\n",
              "      <td>RM_type_A</td>\n",
              "      <td>2</td>\n",
              "      <td>1985</td>\n",
              "      <td>Y</td>\n",
              "      <td>1</td>\n",
              "      <td>level_0</td>\n",
              "      <td>2.86</td>\n",
              "      <td>2011</td>\n",
              "      <td>4</td>\n",
              "      <td>2</td>\n",
              "      <td>3</td>\n",
              "      <td>2</td>\n",
              "      <td>3</td>\n",
              "      <td>0</td>\n",
              "      <td>46.37</td>\n",
              "      <td>0.0</td>\n",
              "      <td>0</td>\n",
              "    </tr>\n",
              "    <tr>\n",
              "      <th>1</th>\n",
              "      <td>JG04</td>\n",
              "      <td>1.292285</td>\n",
              "      <td>PG03</td>\n",
              "      <td>1.292285</td>\n",
              "      <td>1.039230</td>\n",
              "      <td>RM_type_A</td>\n",
              "      <td>2</td>\n",
              "      <td>1989</td>\n",
              "      <td>Y</td>\n",
              "      <td>0</td>\n",
              "      <td>level_1</td>\n",
              "      <td>7.28</td>\n",
              "      <td>2007</td>\n",
              "      <td>4</td>\n",
              "      <td>4</td>\n",
              "      <td>3</td>\n",
              "      <td>0</td>\n",
              "      <td>0</td>\n",
              "      <td>1</td>\n",
              "      <td>47.68</td>\n",
              "      <td>0.0</td>\n",
              "      <td>0</td>\n",
              "    </tr>\n",
              "    <tr>\n",
              "      <th>2</th>\n",
              "      <td>JG05</td>\n",
              "      <td>2.565151</td>\n",
              "      <td>PG06</td>\n",
              "      <td>2.308679</td>\n",
              "      <td>1.780449</td>\n",
              "      <td>RM_type_C</td>\n",
              "      <td>1</td>\n",
              "      <td>1970</td>\n",
              "      <td>Y</td>\n",
              "      <td>1</td>\n",
              "      <td>level_1</td>\n",
              "      <td>0.00</td>\n",
              "      <td>1989</td>\n",
              "      <td>28</td>\n",
              "      <td>10</td>\n",
              "      <td>9</td>\n",
              "      <td>6</td>\n",
              "      <td>2</td>\n",
              "      <td>1</td>\n",
              "      <td>40.73</td>\n",
              "      <td>0.0</td>\n",
              "      <td>0</td>\n",
              "    </tr>\n",
              "    <tr>\n",
              "      <th>3</th>\n",
              "      <td>JG05</td>\n",
              "      <td>2.828427</td>\n",
              "      <td>PG06</td>\n",
              "      <td>1.000000</td>\n",
              "      <td>1.385641</td>\n",
              "      <td>RM_type_A</td>\n",
              "      <td>2</td>\n",
              "      <td>1967</td>\n",
              "      <td>Y</td>\n",
              "      <td>2</td>\n",
              "      <td>level_1</td>\n",
              "      <td>0.00</td>\n",
              "      <td>1987</td>\n",
              "      <td>29</td>\n",
              "      <td>11</td>\n",
              "      <td>6</td>\n",
              "      <td>0</td>\n",
              "      <td>4</td>\n",
              "      <td>10</td>\n",
              "      <td>47.42</td>\n",
              "      <td>0.0</td>\n",
              "      <td>1</td>\n",
              "    </tr>\n",
              "    <tr>\n",
              "      <th>4</th>\n",
              "      <td>JG05</td>\n",
              "      <td>2.828427</td>\n",
              "      <td>PG06</td>\n",
              "      <td>2.828427</td>\n",
              "      <td>0.707107</td>\n",
              "      <td>RM_type_A</td>\n",
              "      <td>2</td>\n",
              "      <td>1965</td>\n",
              "      <td>Y</td>\n",
              "      <td>3</td>\n",
              "      <td>level_1</td>\n",
              "      <td>7.20</td>\n",
              "      <td>1985</td>\n",
              "      <td>30</td>\n",
              "      <td>9</td>\n",
              "      <td>8</td>\n",
              "      <td>2</td>\n",
              "      <td>3</td>\n",
              "      <td>0</td>\n",
              "      <td>47.18</td>\n",
              "      <td>0.0</td>\n",
              "      <td>0</td>\n",
              "    </tr>\n",
              "    <tr>\n",
              "      <th>5</th>\n",
              "      <td>JG05</td>\n",
              "      <td>2.828427</td>\n",
              "      <td>PG06</td>\n",
              "      <td>2.121320</td>\n",
              "      <td>1.118034</td>\n",
              "      <td>RM_type_A</td>\n",
              "      <td>1</td>\n",
              "      <td>1971</td>\n",
              "      <td>Y</td>\n",
              "      <td>3</td>\n",
              "      <td>level_1</td>\n",
              "      <td>0.00</td>\n",
              "      <td>1990</td>\n",
              "      <td>28</td>\n",
              "      <td>7</td>\n",
              "      <td>9</td>\n",
              "      <td>4</td>\n",
              "      <td>0</td>\n",
              "      <td>0</td>\n",
              "      <td>48.46</td>\n",
              "      <td>0.0</td>\n",
              "      <td>0</td>\n",
              "    </tr>\n",
              "    <tr>\n",
              "      <th>6</th>\n",
              "      <td>JG05</td>\n",
              "      <td>2.828427</td>\n",
              "      <td>PG06</td>\n",
              "      <td>2.345208</td>\n",
              "      <td>2.102380</td>\n",
              "      <td>RM_type_A</td>\n",
              "      <td>1</td>\n",
              "      <td>1969</td>\n",
              "      <td>Y</td>\n",
              "      <td>2</td>\n",
              "      <td>level_1</td>\n",
              "      <td>0.00</td>\n",
              "      <td>1988</td>\n",
              "      <td>29</td>\n",
              "      <td>8</td>\n",
              "      <td>6</td>\n",
              "      <td>2</td>\n",
              "      <td>8</td>\n",
              "      <td>0</td>\n",
              "      <td>60.38</td>\n",
              "      <td>0.0</td>\n",
              "      <td>0</td>\n",
              "    </tr>\n",
              "    <tr>\n",
              "      <th>7</th>\n",
              "      <td>JG05</td>\n",
              "      <td>2.828427</td>\n",
              "      <td>PG06</td>\n",
              "      <td>2.236068</td>\n",
              "      <td>1.581139</td>\n",
              "      <td>RM_type_C</td>\n",
              "      <td>2</td>\n",
              "      <td>1968</td>\n",
              "      <td>Y</td>\n",
              "      <td>2</td>\n",
              "      <td>level_1</td>\n",
              "      <td>0.00</td>\n",
              "      <td>1987</td>\n",
              "      <td>29</td>\n",
              "      <td>6</td>\n",
              "      <td>8</td>\n",
              "      <td>1</td>\n",
              "      <td>3</td>\n",
              "      <td>4</td>\n",
              "      <td>14.71</td>\n",
              "      <td>0.0</td>\n",
              "      <td>0</td>\n",
              "    </tr>\n",
              "    <tr>\n",
              "      <th>8</th>\n",
              "      <td>JG04</td>\n",
              "      <td>1.118034</td>\n",
              "      <td>PG03</td>\n",
              "      <td>1.118034</td>\n",
              "      <td>0.412311</td>\n",
              "      <td>RM_type_B</td>\n",
              "      <td>1</td>\n",
              "      <td>1989</td>\n",
              "      <td>Y</td>\n",
              "      <td>0</td>\n",
              "      <td>level_1</td>\n",
              "      <td>3.01</td>\n",
              "      <td>2007</td>\n",
              "      <td>3</td>\n",
              "      <td>2</td>\n",
              "      <td>2</td>\n",
              "      <td>0</td>\n",
              "      <td>9</td>\n",
              "      <td>0</td>\n",
              "      <td>26.76</td>\n",
              "      <td>0.0</td>\n",
              "      <td>0</td>\n",
              "    </tr>\n",
              "    <tr>\n",
              "      <th>9</th>\n",
              "      <td>JG04</td>\n",
              "      <td>1.118034</td>\n",
              "      <td>PG03</td>\n",
              "      <td>1.118034</td>\n",
              "      <td>0.412311</td>\n",
              "      <td>RM_type_B</td>\n",
              "      <td>2</td>\n",
              "      <td>1991</td>\n",
              "      <td>N</td>\n",
              "      <td>0</td>\n",
              "      <td>level_1</td>\n",
              "      <td>4.19</td>\n",
              "      <td>2009</td>\n",
              "      <td>3</td>\n",
              "      <td>2</td>\n",
              "      <td>2</td>\n",
              "      <td>0</td>\n",
              "      <td>3</td>\n",
              "      <td>0</td>\n",
              "      <td>41.45</td>\n",
              "      <td>0.0</td>\n",
              "      <td>1</td>\n",
              "    </tr>\n",
              "  </tbody>\n",
              "</table>\n",
              "</div>"
            ],
            "text/plain": [
              "  job_level  ...  Best Performance\n",
              "0      JG04  ...                 0\n",
              "1      JG04  ...                 0\n",
              "2      JG05  ...                 0\n",
              "3      JG05  ...                 1\n",
              "4      JG05  ...                 0\n",
              "5      JG05  ...                 0\n",
              "6      JG05  ...                 0\n",
              "7      JG05  ...                 0\n",
              "8      JG04  ...                 0\n",
              "9      JG04  ...                 1\n",
              "\n",
              "[10 rows x 22 columns]"
            ]
          },
          "metadata": {},
          "execution_count": 72
        }
      ]
    },
    {
      "cell_type": "markdown",
      "metadata": {
        "id": "0PEpa5MWxk_y"
      },
      "source": [
        "> B. Berapa jumlah baris dan kolomnya, sebutkan nama kolomnya dan\n",
        "tipe data pada masing-masing kolom, apakah anda melihat\n",
        "beberapa kondisi yang membutuhkan penanganan sehingga data\n",
        "siap untuk tahap berikutnya?"
      ]
    },
    {
      "cell_type": "code",
      "metadata": {
        "colab": {
          "base_uri": "https://localhost:8080/"
        },
        "id": "JZZR5_6yxmKL",
        "outputId": "fee84230-6ce7-4035-b184-1e53fd568de2"
      },
      "source": [
        "df.info()"
      ],
      "execution_count": null,
      "outputs": [
        {
          "output_type": "stream",
          "name": "stdout",
          "text": [
            "<class 'pandas.core.frame.DataFrame'>\n",
            "RangeIndex: 11153 entries, 0 to 11152\n",
            "Data columns (total 22 columns):\n",
            " #   Column                                 Non-Null Count  Dtype  \n",
            "---  ------                                 --------------  -----  \n",
            " 0   job_level                              11153 non-null  object \n",
            " 1   job_duration_in_current_job_level      11153 non-null  float64\n",
            " 2   person_level                           11153 non-null  object \n",
            " 3   job_duration_in_current_person_level   11153 non-null  float64\n",
            " 4   job_duration_in_current_branch         11153 non-null  float64\n",
            " 5   Employee_type                          11153 non-null  object \n",
            " 6   gender                                 11153 non-null  int64  \n",
            " 7   age                                    11153 non-null  int64  \n",
            " 8   marital_status_maried(Y/N)             11153 non-null  object \n",
            " 9   number_of_dependences                  11153 non-null  int64  \n",
            " 10  Education_level                        11153 non-null  object \n",
            " 11  GPA                                    11153 non-null  float64\n",
            " 12  year_graduated                         11153 non-null  int64  \n",
            " 13  job_duration_from_training             11153 non-null  int64  \n",
            " 14  branch_rotation                        11153 non-null  int64  \n",
            " 15  job_rotation                           11153 non-null  int64  \n",
            " 16  assign_of_otherposition                11153 non-null  int64  \n",
            " 17  annual leave                           11153 non-null  int64  \n",
            " 18  sick_leaves                            11153 non-null  int64  \n",
            " 19  Last_achievement_%                     11152 non-null  float64\n",
            " 20  Achievement_above_100%_during3quartal  11152 non-null  float64\n",
            " 21  Best Performance                       11153 non-null  int64  \n",
            "dtypes: float64(6), int64(11), object(5)\n",
            "memory usage: 1.9+ MB\n"
          ]
        }
      ]
    },
    {
      "cell_type": "markdown",
      "metadata": {
        "id": "lt9zgBCbxqRU"
      },
      "source": [
        "> Jawaban: Dari data diatas maka tipe data yang ada pada dataframe tersebut adalah float, nt dan object. Selain itu dibutuhkan penanganan data cleaning. Hal ini dikarenakan jumlah total rekord data merupakan 11153 data dan untuk nilai non-null dari field last_achievement dan achievement_above_100 adalah sebesar 11152 yang berarti ada 1 rekord dari masing-masing field adalah null.\n",
        "Untuk jumlah kolumnnya maka terdapat total 22 kolom"
      ]
    },
    {
      "cell_type": "markdown",
      "metadata": {
        "id": "YHHHZGGOyRCQ"
      },
      "source": [
        "> C. Bagaimana deskripsi datasetnya (jumlah item datanya, nilai mean,\n",
        "median, max, min, dan nilai kuartilnya) ?"
      ]
    },
    {
      "cell_type": "code",
      "metadata": {
        "colab": {
          "base_uri": "https://localhost:8080/",
          "height": 331
        },
        "id": "JWjvfOeEyPdV",
        "outputId": "54fb8bfe-e5d3-4838-e0b0-dc66e515216c"
      },
      "source": [
        "df.describe()"
      ],
      "execution_count": null,
      "outputs": [
        {
          "output_type": "execute_result",
          "data": {
            "text/html": [
              "<div>\n",
              "<style scoped>\n",
              "    .dataframe tbody tr th:only-of-type {\n",
              "        vertical-align: middle;\n",
              "    }\n",
              "\n",
              "    .dataframe tbody tr th {\n",
              "        vertical-align: top;\n",
              "    }\n",
              "\n",
              "    .dataframe thead th {\n",
              "        text-align: right;\n",
              "    }\n",
              "</style>\n",
              "<table border=\"1\" class=\"dataframe\">\n",
              "  <thead>\n",
              "    <tr style=\"text-align: right;\">\n",
              "      <th></th>\n",
              "      <th>job_duration_in_current_job_level</th>\n",
              "      <th>job_duration_in_current_person_level</th>\n",
              "      <th>job_duration_in_current_branch</th>\n",
              "      <th>gender</th>\n",
              "      <th>age</th>\n",
              "      <th>number_of_dependences</th>\n",
              "      <th>GPA</th>\n",
              "      <th>year_graduated</th>\n",
              "      <th>job_duration_from_training</th>\n",
              "      <th>branch_rotation</th>\n",
              "      <th>job_rotation</th>\n",
              "      <th>assign_of_otherposition</th>\n",
              "      <th>annual leave</th>\n",
              "      <th>sick_leaves</th>\n",
              "      <th>Last_achievement_%</th>\n",
              "      <th>Achievement_above_100%_during3quartal</th>\n",
              "      <th>Best Performance</th>\n",
              "    </tr>\n",
              "  </thead>\n",
              "  <tbody>\n",
              "    <tr>\n",
              "      <th>count</th>\n",
              "      <td>11153.000000</td>\n",
              "      <td>11153.000000</td>\n",
              "      <td>11153.000000</td>\n",
              "      <td>11153.000000</td>\n",
              "      <td>11153.000000</td>\n",
              "      <td>11153.000000</td>\n",
              "      <td>11153.000000</td>\n",
              "      <td>11153.000000</td>\n",
              "      <td>11153.000000</td>\n",
              "      <td>11153.000000</td>\n",
              "      <td>11153.000000</td>\n",
              "      <td>11153.000000</td>\n",
              "      <td>11153.000000</td>\n",
              "      <td>11153.000000</td>\n",
              "      <td>11152.000000</td>\n",
              "      <td>11152.000000</td>\n",
              "      <td>11153.000000</td>\n",
              "    </tr>\n",
              "    <tr>\n",
              "      <th>mean</th>\n",
              "      <td>1.433208</td>\n",
              "      <td>1.349218</td>\n",
              "      <td>1.034646</td>\n",
              "      <td>1.735587</td>\n",
              "      <td>1985.837084</td>\n",
              "      <td>0.995517</td>\n",
              "      <td>3.176195</td>\n",
              "      <td>2009.174124</td>\n",
              "      <td>6.277952</td>\n",
              "      <td>3.720165</td>\n",
              "      <td>3.505694</td>\n",
              "      <td>1.202726</td>\n",
              "      <td>3.664216</td>\n",
              "      <td>1.100152</td>\n",
              "      <td>72.234902</td>\n",
              "      <td>0.679071</td>\n",
              "      <td>0.146777</td>\n",
              "    </tr>\n",
              "    <tr>\n",
              "      <th>std</th>\n",
              "      <td>0.431086</td>\n",
              "      <td>0.324660</td>\n",
              "      <td>0.416723</td>\n",
              "      <td>0.441040</td>\n",
              "      <td>4.632214</td>\n",
              "      <td>0.881103</td>\n",
              "      <td>13.321687</td>\n",
              "      <td>4.117162</td>\n",
              "      <td>5.033553</td>\n",
              "      <td>2.399068</td>\n",
              "      <td>1.818028</td>\n",
              "      <td>2.575138</td>\n",
              "      <td>2.652648</td>\n",
              "      <td>2.714525</td>\n",
              "      <td>23.030421</td>\n",
              "      <td>1.107381</td>\n",
              "      <td>0.353899</td>\n",
              "    </tr>\n",
              "    <tr>\n",
              "      <th>min</th>\n",
              "      <td>0.000000</td>\n",
              "      <td>0.000000</td>\n",
              "      <td>0.000000</td>\n",
              "      <td>1.000000</td>\n",
              "      <td>1963.000000</td>\n",
              "      <td>0.000000</td>\n",
              "      <td>0.000000</td>\n",
              "      <td>1982.000000</td>\n",
              "      <td>2.000000</td>\n",
              "      <td>1.000000</td>\n",
              "      <td>1.000000</td>\n",
              "      <td>0.000000</td>\n",
              "      <td>0.000000</td>\n",
              "      <td>0.000000</td>\n",
              "      <td>4.510000</td>\n",
              "      <td>0.000000</td>\n",
              "      <td>0.000000</td>\n",
              "    </tr>\n",
              "    <tr>\n",
              "      <th>25%</th>\n",
              "      <td>1.224745</td>\n",
              "      <td>1.224745</td>\n",
              "      <td>0.707107</td>\n",
              "      <td>1.000000</td>\n",
              "      <td>1985.000000</td>\n",
              "      <td>0.000000</td>\n",
              "      <td>2.820000</td>\n",
              "      <td>2008.000000</td>\n",
              "      <td>4.000000</td>\n",
              "      <td>2.000000</td>\n",
              "      <td>2.000000</td>\n",
              "      <td>0.000000</td>\n",
              "      <td>2.000000</td>\n",
              "      <td>0.000000</td>\n",
              "      <td>56.650000</td>\n",
              "      <td>0.000000</td>\n",
              "      <td>0.000000</td>\n",
              "    </tr>\n",
              "    <tr>\n",
              "      <th>50%</th>\n",
              "      <td>1.352775</td>\n",
              "      <td>1.352775</td>\n",
              "      <td>1.118034</td>\n",
              "      <td>2.000000</td>\n",
              "      <td>1987.000000</td>\n",
              "      <td>1.000000</td>\n",
              "      <td>3.070000</td>\n",
              "      <td>2010.000000</td>\n",
              "      <td>5.000000</td>\n",
              "      <td>3.000000</td>\n",
              "      <td>3.000000</td>\n",
              "      <td>0.000000</td>\n",
              "      <td>3.000000</td>\n",
              "      <td>0.000000</td>\n",
              "      <td>71.675000</td>\n",
              "      <td>0.000000</td>\n",
              "      <td>0.000000</td>\n",
              "    </tr>\n",
              "    <tr>\n",
              "      <th>75%</th>\n",
              "      <td>1.414214</td>\n",
              "      <td>1.385641</td>\n",
              "      <td>1.224745</td>\n",
              "      <td>2.000000</td>\n",
              "      <td>1989.000000</td>\n",
              "      <td>2.000000</td>\n",
              "      <td>3.270000</td>\n",
              "      <td>2012.000000</td>\n",
              "      <td>6.000000</td>\n",
              "      <td>4.000000</td>\n",
              "      <td>4.000000</td>\n",
              "      <td>1.000000</td>\n",
              "      <td>5.000000</td>\n",
              "      <td>1.000000</td>\n",
              "      <td>88.172500</td>\n",
              "      <td>1.000000</td>\n",
              "      <td>0.000000</td>\n",
              "    </tr>\n",
              "    <tr>\n",
              "      <th>max</th>\n",
              "      <td>2.958040</td>\n",
              "      <td>2.828427</td>\n",
              "      <td>2.677686</td>\n",
              "      <td>2.000000</td>\n",
              "      <td>1997.000000</td>\n",
              "      <td>7.000000</td>\n",
              "      <td>378.000000</td>\n",
              "      <td>2019.000000</td>\n",
              "      <td>36.000000</td>\n",
              "      <td>22.000000</td>\n",
              "      <td>15.000000</td>\n",
              "      <td>29.000000</td>\n",
              "      <td>21.000000</td>\n",
              "      <td>77.000000</td>\n",
              "      <td>130.000000</td>\n",
              "      <td>3.000000</td>\n",
              "      <td>1.000000</td>\n",
              "    </tr>\n",
              "  </tbody>\n",
              "</table>\n",
              "</div>"
            ],
            "text/plain": [
              "       job_duration_in_current_job_level  ...  Best Performance\n",
              "count                       11153.000000  ...      11153.000000\n",
              "mean                            1.433208  ...          0.146777\n",
              "std                             0.431086  ...          0.353899\n",
              "min                             0.000000  ...          0.000000\n",
              "25%                             1.224745  ...          0.000000\n",
              "50%                             1.352775  ...          0.000000\n",
              "75%                             1.414214  ...          0.000000\n",
              "max                             2.958040  ...          1.000000\n",
              "\n",
              "[8 rows x 17 columns]"
            ]
          },
          "metadata": {},
          "execution_count": 74
        }
      ]
    },
    {
      "cell_type": "markdown",
      "metadata": {
        "id": "Lf5qIJLRyWJH"
      },
      "source": [
        "> Jawaban: Sesuai fungsi .describe() penulis menemukan nilai data mean, median, max, min dan nilai kuartil dari beberapa field. Salah satu contohnya adalah last_achievement yaitu total item data 11152 data dengan mean 72,2, min sebesar 4,5, kuartil 50% sebesar 71.7 dan nilai max sebesar 130"
      ]
    },
    {
      "cell_type": "markdown",
      "metadata": {
        "id": "ZsUp9Z9vyxV5"
      },
      "source": [
        "> D. Identifikasi setiap nilai unik dari kolom berikut: job_level,\n",
        "person_level, Employee_type, achievement_target_1."
      ]
    },
    {
      "cell_type": "code",
      "metadata": {
        "colab": {
          "base_uri": "https://localhost:8080/"
        },
        "id": "1sdLff5Fy0_X",
        "outputId": "01e6e1a2-f75b-4b85-da59-b4065388b34b"
      },
      "source": [
        "print(\"Nilai unique dari job_level adalah = {}\".format(df['job_level'].unique()))\n",
        "print(\"Nilai unique dari person_level adalah = {}\".format(df['person_level'].unique()))\n",
        "print(\"Nilai unique dari Employee_type adalah = {}\".format(df['Employee_type'].unique()))\n",
        "print(\"Nilai unique dari achievement_target_1 adalah = {}\".format(df['Achievement_above_100%_during3quartal'].unique()))"
      ],
      "execution_count": null,
      "outputs": [
        {
          "output_type": "stream",
          "name": "stdout",
          "text": [
            "Nilai unique dari job_level adalah = ['JG04' 'JG05' 'JG03']\n",
            "Nilai unique dari person_level adalah = ['PG03' 'PG06' 'PG05' 'PG04' 'PG07' 'PG02' 'PG01' 'PG08']\n",
            "Nilai unique dari Employee_type adalah = ['RM_type_A' 'RM_type_C' 'RM_type_B']\n",
            "Nilai unique dari achievement_target_1 adalah = [ 0.  1.  2.  3. nan]\n"
          ]
        }
      ]
    },
    {
      "cell_type": "markdown",
      "metadata": {
        "id": "cfBOkTz0zfPJ"
      },
      "source": [
        "> Jawab : Untuk mendapatkan nilai uniquenya maka penulis menggunakan fungsi .unique(). Salah satu contohnya adalah nilai unique dari job_level adalah JG04, JG05, JG03"
      ]
    },
    {
      "cell_type": "markdown",
      "metadata": {
        "id": "N72qbnYrz_hm"
      },
      "source": [
        "> E. Ubah tipe data pada kolom job_level dan person_level menjadi\n",
        "data bertipe kategori"
      ]
    },
    {
      "cell_type": "code",
      "metadata": {
        "colab": {
          "base_uri": "https://localhost:8080/"
        },
        "id": "jDpSrvjk1naa",
        "outputId": "a4478233-9c1c-4a65-9dd2-855fe0076cb2"
      },
      "source": [
        "df['person_level'].str.replace('PG','').astype('int')\n",
        "df['job_level'].str.replace('JG','').astype('int')"
      ],
      "execution_count": null,
      "outputs": [
        {
          "output_type": "execute_result",
          "data": {
            "text/plain": [
              "0        4\n",
              "1        4\n",
              "2        5\n",
              "3        5\n",
              "4        5\n",
              "        ..\n",
              "11148    4\n",
              "11149    4\n",
              "11150    4\n",
              "11151    4\n",
              "11152    4\n",
              "Name: job_level, Length: 11153, dtype: int64"
            ]
          },
          "metadata": {},
          "execution_count": 76
        }
      ]
    },
    {
      "cell_type": "markdown",
      "metadata": {
        "id": "ho84SEVY7vpO"
      },
      "source": [
        "> Jawaban: Disini saya melakukan penggantian string PG untuk person level dan JG untuk job level dengan whitespace atau spasi. Lalu saya ubah tipe data dengan menggunakan astype('tipe data') menjadi integer."
      ]
    },
    {
      "cell_type": "markdown",
      "metadata": {
        "id": "qbw2P1uG0IiD"
      },
      "source": [
        "> F. Lakukan preprocessing pada kolom Education_level dan GPA.\n",
        "Berapa prosentase SDM pada setiap level pada kolom\n",
        "Education_level? Apa yang harus diperbaiki dari kolom GPA?\n"
      ]
    },
    {
      "cell_type": "code",
      "metadata": {
        "colab": {
          "base_uri": "https://localhost:8080/"
        },
        "id": "6mBn3bZa13D5",
        "outputId": "079e0080-2adb-4bfb-d805-c806bc354af6"
      },
      "source": [
        "#Disini saya inisialisasi LabelEncoder untuk mengganti nilai string menjadi nilai integer yang dimulai dari nilai 0\n",
        "label = preprocessing.LabelEncoder()\n",
        "\n",
        "#Tranformasi nilai Education_level dan GPA menjadi numerik\n",
        "df['Education_level'] = label.fit_transform(df['Education_level'])\n",
        "df['Education_level'].describe()"
      ],
      "execution_count": null,
      "outputs": [
        {
          "output_type": "execute_result",
          "data": {
            "text/plain": [
              "count    11153.000000\n",
              "mean         3.808841\n",
              "std          0.489346\n",
              "min          0.000000\n",
              "25%          4.000000\n",
              "50%          4.000000\n",
              "75%          4.000000\n",
              "max          5.000000\n",
              "Name: Education_level, dtype: float64"
            ]
          },
          "metadata": {},
          "execution_count": 77
        }
      ]
    },
    {
      "cell_type": "code",
      "metadata": {
        "id": "22DvcmNE4ODm",
        "colab": {
          "base_uri": "https://localhost:8080/"
        },
        "outputId": "bc36b671-ad21-4a53-dd4a-d8f8102a30f0"
      },
      "source": [
        "min = 0\n",
        "max = 4\n",
        "gpamin = df['GPA'].min()\n",
        "gpamax = df['GPA'].max()\n",
        "df['GPA']  = ((df['GPA']-gpamin)*(max-min)/(gpamax-gpamin))+min\n",
        "df['GPA'].describe()"
      ],
      "execution_count": null,
      "outputs": [
        {
          "output_type": "execute_result",
          "data": {
            "text/plain": [
              "count    11153.000000\n",
              "mean         0.033611\n",
              "std          0.140970\n",
              "min          0.000000\n",
              "25%          0.029841\n",
              "50%          0.032487\n",
              "75%          0.034603\n",
              "max          4.000000\n",
              "Name: GPA, dtype: float64"
            ]
          },
          "metadata": {},
          "execution_count": 100
        }
      ]
    },
    {
      "cell_type": "markdown",
      "metadata": {
        "id": "C28TLBUM3ZkG"
      },
      "source": [
        "> Jawaban : Untuk preprocessing kolom Education_level maka akan digunakan LabelEncoder untuk menganti nilai string tersebut menjadi nilai integer 0-seterusnya. Dalam halnya nilai GPA, perlunya diperbaiki range nilai tersebut. Sesuai describe(), nilai GPA berada pada interval 0-378 akan tetapi GPA berada pada interval 0-4 maka dibutuhkannya normalisasi min max"
      ]
    },
    {
      "cell_type": "markdown",
      "metadata": {
        "id": "arVKjGOy0LPn"
      },
      "source": [
        "> G. Tampilkan dalam format grafik komposisi SDM dengan Best\n",
        "Performance = 0 dan 1.(gunakan countplot)\n"
      ]
    },
    {
      "cell_type": "code",
      "metadata": {
        "colab": {
          "base_uri": "https://localhost:8080/",
          "height": 278
        },
        "id": "MAQgmPQN5GR3",
        "outputId": "40dd96a8-99cb-4cdf-a34c-322eb8673d2c"
      },
      "source": [
        "sns.countplot(x = df['Best Performance'])\n",
        "plt.show()"
      ],
      "execution_count": null,
      "outputs": [
        {
          "output_type": "display_data",
          "data": {
            "image/png": "[encoded data removed]",
            "text/plain": [
              "<Figure size 432x288 with 1 Axes>"
            ]
          },
          "metadata": {
            "needs_background": "light"
          }
        }
      ]
    },
    {
      "cell_type": "markdown",
      "metadata": {
        "id": "x7w8ACQX6trP"
      },
      "source": [
        "> Jawab : Dihasilkan pekerja dengan best performa dengan estimasi jumlah kurang dari 2000"
      ]
    },
    {
      "cell_type": "markdown",
      "metadata": {
        "id": "cVUB3eJY0NSr"
      },
      "source": [
        "> H. Tampilkan komposisi Best Performance berdasarkan tipe SDM\n",
        "pada kolom Employes_type. (gunakan countplot)"
      ]
    },
    {
      "cell_type": "code",
      "metadata": {
        "colab": {
          "base_uri": "https://localhost:8080/",
          "height": 278
        },
        "id": "MX-lqk7Q0B6_",
        "outputId": "0a5f3c13-c551-423c-919a-2c218e117a30"
      },
      "source": [
        "sns.countplot(x = df['Best Performance'], hue=df['Employee_type'])\n",
        "plt.show()"
      ],
      "execution_count": null,
      "outputs": [
        {
          "output_type": "display_data",
          "data": {
            "image/png": "[encoded data removed]",
            "text/plain": [
              "<Figure size 432x288 with 1 Axes>"
            ]
          },
          "metadata": {
            "needs_background": "light"
          }
        }
      ]
    }
  ]
}