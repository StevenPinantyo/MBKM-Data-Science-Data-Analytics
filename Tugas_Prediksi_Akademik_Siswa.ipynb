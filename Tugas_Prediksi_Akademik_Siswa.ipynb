{
  "nbformat": 4,
  "nbformat_minor": 0,
  "metadata": {
    "colab": {
      "name": "Tugas Prediksi Akademik Siswa.ipynb",
      "provenance": [],
      "collapsed_sections": []
    },
    "kernelspec": {
      "name": "python3",
      "display_name": "Python 3"
    },
    "language_info": {
      "name": "python"
    }
  },
  "cells": [
    {
      "cell_type": "markdown",
      "metadata": {
        "id": "q-9_PWKYC7uY"
      },
      "source": [
        "Data Source: https://www.kaggle.com/aljarah/xAPI-Edu-Data"
      ]
    },
    {
      "cell_type": "markdown",
      "metadata": {
        "id": "3AnarGmZ8SVc"
      },
      "source": [
        "Anggota:\n",
        "*   064092100005 - ADINDA AYU AZZAHRA\n",
        "*   064092100004 - ASYRIE CHAERANIE\n",
        "*   064092100003 - SHAFA SALSABILA PRIBADI\n",
        "*   064092100002 - STEVEN CHRIST PINANTYO ARWIDARASTO"
      ]
    },
    {
      "cell_type": "markdown",
      "metadata": {
        "id": "xefJuF-HbhTa"
      },
      "source": [
        "Metode pendapatan data:\n",
        "Dataset ini diambil dari Learning Management System (LMS) yang dinamakan Kalboard 360 yang menggunakan activity tracker tool yang dinamakan xAPI untuk memonitor progress pembelajaran seperti membaca website edukasi, dll\n",
        "\n",
        "Dataset memiliki jumlah 480 rekord dengan 16 fitur yang diklasifikasikan sebagai fitur demografi, akademik serta fitur behavioral"
      ]
    },
    {
      "cell_type": "markdown",
      "metadata": {
        "id": "C59oOspCa0yv"
      },
      "source": [
        "Atribut Data:\n",
        "1.   Gender - student's gender (nominal: 'Male' or 'Female’)\n",
        "2.   Nationality- student's nationality (nominal:’ Kuwait’,’ Lebanon’,’ Egypt’,’ SaudiArabia’,’ USA’,’ Jordan’,’\n",
        "Venezuela’,’ Iran’,’ Tunis’,’ Morocco’,’ Syria’,’ Palestine’,’ Iraq’,’ Lybia’)\n",
        "1.   Place of birth- student's Place of birth (nominal:’ Kuwait’,’ Lebanon’,’ Egypt’,’ SaudiArabia’,’ USA’,’ Jordan’,’\n",
        "Venezuela’,’ Iran’,’ Tunis’,’ Morocco’,’ Syria’,’ Palestine’,’ Iraq’,’ Lybia’)\n",
        "1.   Educational Stages- educational level student belongs (nominal: ‘lowerlevel’,’MiddleSchool’,’HighSchool’)\n",
        "1.   Grade Levels- grade student belongs (nominal: ‘G-01’, ‘G-02’, ‘G-03’, ‘G-04’, ‘G-05’, ‘G-06’, ‘G-07’, ‘G-08’, ‘G-09’, ‘G-10’, ‘G-11’, ‘G-12 ‘)\n",
        "2.   Section ID- classroom student belongs (nominal:’A’,’B’,’C’)\n",
        "2.   Topic- course topic (nominal:’ English’,’ Spanish’, ‘French’,’ Arabic’,’ IT’,’ Math’,’ Chemistry’, ‘Biology’, ‘Science’,’ History’,’ Quran’,’ Geology’)\n",
        "2.   Semester- school year semester (nominal:’ First’,’ Second’)\n",
        "1.   Parent responsible for student (nominal:’mom’,’father’)\n",
        "2.   Raised hand- how many times the student raises his/her hand on classroom (numeric:0-100)\n",
        "1.   Visited resources- how many times the student visits a course content(numeric:0-100)\n",
        "1.   Viewing announcements-how many times the student checks the new announcements(numeric:0-100)\n",
        "1.   Discussion groups- how many times the student participate on discussion groups (numeric:0-100)\n",
        "2.   Parent Answering Survey- parent answered the surveys which are provided from school or not\n",
        "(nominal:’Yes’,’No’)\n",
        "2.   Parent School Satisfaction- the Degree of parent satisfaction from school(nominal:’Yes’,’No’)\n",
        "2.   Student Absence Days-the number of absence days for each student (nominal: above-7, under-7)"
      ]
    },
    {
      "cell_type": "markdown",
      "metadata": {
        "id": "jCL7AIhVcVbI"
      },
      "source": [
        "Tujuan: Melakukan pengklasifikasian rekord performa siswa kedalam tiga jenis skor akhir H(high), L(low), M(middle) berdasarkan keaktifan siswa serta progress pembelajaran yang dilakukan oleh siswa"
      ]
    },
    {
      "cell_type": "markdown",
      "metadata": {
        "id": "olkglhWB9y1e"
      },
      "source": [
        "# **Import lib yang akan digunakan**"
      ]
    },
    {
      "cell_type": "code",
      "metadata": {
        "id": "AvULua7bXAZe"
      },
      "source": [
        "import numpy as np\n",
        "import matplotlib.pyplot as plt\n",
        "import pandas as pd\n",
        "import seaborn as sns\n",
        "from sklearn.model_selection import train_test_split\n",
        "from sklearn.preprocessing import LabelEncoder"
      ],
      "execution_count": null,
      "outputs": []
    },
    {
      "cell_type": "markdown",
      "metadata": {
        "id": "TR_cgj09949w"
      },
      "source": [
        "# **Mengambil dataset**"
      ]
    },
    {
      "cell_type": "code",
      "metadata": {
        "colab": {
          "base_uri": "https://localhost:8080/",
          "height": 270
        },
        "id": "lf3-bHp9Xv-l",
        "outputId": "102dbf09-6f03-4613-b271-62ce3e07e75b"
      },
      "source": [
        "df = pd.read_csv(\"/content/xAPI-Edu-Data.csv\")\n",
        "df.head() "
      ],
      "execution_count": null,
      "outputs": [
        {
          "output_type": "execute_result",
          "data": {
            "text/html": [
              "\n",
              "  <div id=\"df-d8b14c1f-51da-4307-9ee6-b2a575e921ee\">\n",
              "    <div class=\"colab-df-container\">\n",
              "      <div>\n",
              "<style scoped>\n",
              "    .dataframe tbody tr th:only-of-type {\n",
              "        vertical-align: middle;\n",
              "    }\n",
              "\n",
              "    .dataframe tbody tr th {\n",
              "        vertical-align: top;\n",
              "    }\n",
              "\n",
              "    .dataframe thead th {\n",
              "        text-align: right;\n",
              "    }\n",
              "</style>\n",
              "<table border=\"1\" class=\"dataframe\">\n",
              "  <thead>\n",
              "    <tr style=\"text-align: right;\">\n",
              "      <th></th>\n",
              "      <th>gender</th>\n",
              "      <th>NationalITy</th>\n",
              "      <th>PlaceofBirth</th>\n",
              "      <th>StageID</th>\n",
              "      <th>GradeID</th>\n",
              "      <th>SectionID</th>\n",
              "      <th>Topic</th>\n",
              "      <th>Semester</th>\n",
              "      <th>Relation</th>\n",
              "      <th>raisedhands</th>\n",
              "      <th>VisITedResources</th>\n",
              "      <th>AnnouncementsView</th>\n",
              "      <th>Discussion</th>\n",
              "      <th>ParentAnsweringSurvey</th>\n",
              "      <th>ParentschoolSatisfaction</th>\n",
              "      <th>StudentAbsenceDays</th>\n",
              "      <th>Class</th>\n",
              "    </tr>\n",
              "  </thead>\n",
              "  <tbody>\n",
              "    <tr>\n",
              "      <th>0</th>\n",
              "      <td>M</td>\n",
              "      <td>KW</td>\n",
              "      <td>KuwaIT</td>\n",
              "      <td>lowerlevel</td>\n",
              "      <td>G-04</td>\n",
              "      <td>A</td>\n",
              "      <td>IT</td>\n",
              "      <td>F</td>\n",
              "      <td>Father</td>\n",
              "      <td>15</td>\n",
              "      <td>16</td>\n",
              "      <td>2</td>\n",
              "      <td>20</td>\n",
              "      <td>Yes</td>\n",
              "      <td>Good</td>\n",
              "      <td>Under-7</td>\n",
              "      <td>M</td>\n",
              "    </tr>\n",
              "    <tr>\n",
              "      <th>1</th>\n",
              "      <td>M</td>\n",
              "      <td>KW</td>\n",
              "      <td>KuwaIT</td>\n",
              "      <td>lowerlevel</td>\n",
              "      <td>G-04</td>\n",
              "      <td>A</td>\n",
              "      <td>IT</td>\n",
              "      <td>F</td>\n",
              "      <td>Father</td>\n",
              "      <td>20</td>\n",
              "      <td>20</td>\n",
              "      <td>3</td>\n",
              "      <td>25</td>\n",
              "      <td>Yes</td>\n",
              "      <td>Good</td>\n",
              "      <td>Under-7</td>\n",
              "      <td>M</td>\n",
              "    </tr>\n",
              "    <tr>\n",
              "      <th>2</th>\n",
              "      <td>M</td>\n",
              "      <td>KW</td>\n",
              "      <td>KuwaIT</td>\n",
              "      <td>lowerlevel</td>\n",
              "      <td>G-04</td>\n",
              "      <td>A</td>\n",
              "      <td>IT</td>\n",
              "      <td>F</td>\n",
              "      <td>Father</td>\n",
              "      <td>10</td>\n",
              "      <td>7</td>\n",
              "      <td>0</td>\n",
              "      <td>30</td>\n",
              "      <td>No</td>\n",
              "      <td>Bad</td>\n",
              "      <td>Above-7</td>\n",
              "      <td>L</td>\n",
              "    </tr>\n",
              "    <tr>\n",
              "      <th>3</th>\n",
              "      <td>M</td>\n",
              "      <td>KW</td>\n",
              "      <td>KuwaIT</td>\n",
              "      <td>lowerlevel</td>\n",
              "      <td>G-04</td>\n",
              "      <td>A</td>\n",
              "      <td>IT</td>\n",
              "      <td>F</td>\n",
              "      <td>Father</td>\n",
              "      <td>30</td>\n",
              "      <td>25</td>\n",
              "      <td>5</td>\n",
              "      <td>35</td>\n",
              "      <td>No</td>\n",
              "      <td>Bad</td>\n",
              "      <td>Above-7</td>\n",
              "      <td>L</td>\n",
              "    </tr>\n",
              "    <tr>\n",
              "      <th>4</th>\n",
              "      <td>M</td>\n",
              "      <td>KW</td>\n",
              "      <td>KuwaIT</td>\n",
              "      <td>lowerlevel</td>\n",
              "      <td>G-04</td>\n",
              "      <td>A</td>\n",
              "      <td>IT</td>\n",
              "      <td>F</td>\n",
              "      <td>Father</td>\n",
              "      <td>40</td>\n",
              "      <td>50</td>\n",
              "      <td>12</td>\n",
              "      <td>50</td>\n",
              "      <td>No</td>\n",
              "      <td>Bad</td>\n",
              "      <td>Above-7</td>\n",
              "      <td>M</td>\n",
              "    </tr>\n",
              "  </tbody>\n",
              "</table>\n",
              "</div>\n",
              "      <button class=\"colab-df-convert\" onclick=\"convertToInteractive('df-d8b14c1f-51da-4307-9ee6-b2a575e921ee')\"\n",
              "              title=\"Convert this dataframe to an interactive table.\"\n",
              "              style=\"display:none;\">\n",
              "        \n",
              "  <svg xmlns=\"http://www.w3.org/2000/svg\" height=\"24px\"viewBox=\"0 0 24 24\"\n",
              "       width=\"24px\">\n",
              "    <path d=\"M0 0h24v24H0V0z\" fill=\"none\"/>\n",
              "    <path d=\"M18.56 5.44l.94 2.06.94-2.06 2.06-.94-2.06-.94-.94-2.06-.94 2.06-2.06.94zm-11 1L8.5 8.5l.94-2.06 2.06-.94-2.06-.94L8.5 2.5l-.94 2.06-2.06.94zm10 10l.94 2.06.94-2.06 2.06-.94-2.06-.94-.94-2.06-.94 2.06-2.06.94z\"/><path d=\"M17.41 7.96l-1.37-1.37c-.4-.4-.92-.59-1.43-.59-.52 0-1.04.2-1.43.59L10.3 9.45l-7.72 7.72c-.78.78-.78 2.05 0 2.83L4 21.41c.39.39.9.59 1.41.59.51 0 1.02-.2 1.41-.59l7.78-7.78 2.81-2.81c.8-.78.8-2.07 0-2.86zM5.41 20L4 18.59l7.72-7.72 1.47 1.35L5.41 20z\"/>\n",
              "  </svg>\n",
              "      </button>\n",
              "      \n",
              "  <style>\n",
              "    .colab-df-container {\n",
              "      display:flex;\n",
              "      flex-wrap:wrap;\n",
              "      gap: 12px;\n",
              "    }\n",
              "\n",
              "    .colab-df-convert {\n",
              "      background-color: #E8F0FE;\n",
              "      border: none;\n",
              "      border-radius: 50%;\n",
              "      cursor: pointer;\n",
              "      display: none;\n",
              "      fill: #1967D2;\n",
              "      height: 32px;\n",
              "      padding: 0 0 0 0;\n",
              "      width: 32px;\n",
              "    }\n",
              "\n",
              "    .colab-df-convert:hover {\n",
              "      background-color: #E2EBFA;\n",
              "      box-shadow: 0px 1px 2px rgba(60, 64, 67, 0.3), 0px 1px 3px 1px rgba(60, 64, 67, 0.15);\n",
              "      fill: #174EA6;\n",
              "    }\n",
              "\n",
              "    [theme=dark] .colab-df-convert {\n",
              "      background-color: #3B4455;\n",
              "      fill: #D2E3FC;\n",
              "    }\n",
              "\n",
              "    [theme=dark] .colab-df-convert:hover {\n",
              "      background-color: #434B5C;\n",
              "      box-shadow: 0px 1px 3px 1px rgba(0, 0, 0, 0.15);\n",
              "      filter: drop-shadow(0px 1px 2px rgba(0, 0, 0, 0.3));\n",
              "      fill: #FFFFFF;\n",
              "    }\n",
              "  </style>\n",
              "\n",
              "      <script>\n",
              "        const buttonEl =\n",
              "          document.querySelector('#df-d8b14c1f-51da-4307-9ee6-b2a575e921ee button.colab-df-convert');\n",
              "        buttonEl.style.display =\n",
              "          google.colab.kernel.accessAllowed ? 'block' : 'none';\n",
              "\n",
              "        async function convertToInteractive(key) {\n",
              "          const element = document.querySelector('#df-d8b14c1f-51da-4307-9ee6-b2a575e921ee');\n",
              "          const dataTable =\n",
              "            await google.colab.kernel.invokeFunction('convertToInteractive',\n",
              "                                                     [key], {});\n",
              "          if (!dataTable) return;\n",
              "\n",
              "          const docLinkHtml = 'Like what you see? Visit the ' +\n",
              "            '<a target=\"_blank\" href=https://colab.research.google.com/notebooks/data_table.ipynb>data table notebook</a>'\n",
              "            + ' to learn more about interactive tables.';\n",
              "          element.innerHTML = '';\n",
              "          dataTable['output_type'] = 'display_data';\n",
              "          await google.colab.output.renderOutput(dataTable, element);\n",
              "          const docLink = document.createElement('div');\n",
              "          docLink.innerHTML = docLinkHtml;\n",
              "          element.appendChild(docLink);\n",
              "        }\n",
              "      </script>\n",
              "    </div>\n",
              "  </div>\n",
              "  "
            ],
            "text/plain": [
              "  gender NationalITy  ... StudentAbsenceDays Class\n",
              "0      M          KW  ...            Under-7     M\n",
              "1      M          KW  ...            Under-7     M\n",
              "2      M          KW  ...            Above-7     L\n",
              "3      M          KW  ...            Above-7     L\n",
              "4      M          KW  ...            Above-7     M\n",
              "\n",
              "[5 rows x 17 columns]"
            ]
          },
          "metadata": {},
          "execution_count": 2
        }
      ]
    },
    {
      "cell_type": "markdown",
      "metadata": {
        "id": "KeICEX_0cNh0"
      },
      "source": [
        "# **EDA**"
      ]
    },
    {
      "cell_type": "markdown",
      "metadata": {
        "id": "eOSy4FiE32rT"
      },
      "source": [
        "> Mengembalikan nilai statistik dari data. Nilai yang dapat dilihat adalah penyebaran percentile dan nilai min max dari kolum dataframe untuk mengetahui besaran data tiap kolumnnya"
      ]
    },
    {
      "cell_type": "code",
      "metadata": {
        "colab": {
          "base_uri": "https://localhost:8080/",
          "height": 300
        },
        "id": "dxiA9Y1wY2-c",
        "outputId": "bdd95575-bbde-4f0a-8895-996278c503df"
      },
      "source": [
        "df.describe()"
      ],
      "execution_count": null,
      "outputs": [
        {
          "output_type": "execute_result",
          "data": {
            "text/html": [
              "\n",
              "  <div id=\"df-807e6197-5c63-4f9b-b5e8-e3675ce32787\">\n",
              "    <div class=\"colab-df-container\">\n",
              "      <div>\n",
              "<style scoped>\n",
              "    .dataframe tbody tr th:only-of-type {\n",
              "        vertical-align: middle;\n",
              "    }\n",
              "\n",
              "    .dataframe tbody tr th {\n",
              "        vertical-align: top;\n",
              "    }\n",
              "\n",
              "    .dataframe thead th {\n",
              "        text-align: right;\n",
              "    }\n",
              "</style>\n",
              "<table border=\"1\" class=\"dataframe\">\n",
              "  <thead>\n",
              "    <tr style=\"text-align: right;\">\n",
              "      <th></th>\n",
              "      <th>raisedhands</th>\n",
              "      <th>VisITedResources</th>\n",
              "      <th>AnnouncementsView</th>\n",
              "      <th>Discussion</th>\n",
              "    </tr>\n",
              "  </thead>\n",
              "  <tbody>\n",
              "    <tr>\n",
              "      <th>count</th>\n",
              "      <td>480.000000</td>\n",
              "      <td>480.000000</td>\n",
              "      <td>480.000000</td>\n",
              "      <td>480.000000</td>\n",
              "    </tr>\n",
              "    <tr>\n",
              "      <th>mean</th>\n",
              "      <td>46.775000</td>\n",
              "      <td>54.797917</td>\n",
              "      <td>37.918750</td>\n",
              "      <td>43.283333</td>\n",
              "    </tr>\n",
              "    <tr>\n",
              "      <th>std</th>\n",
              "      <td>30.779223</td>\n",
              "      <td>33.080007</td>\n",
              "      <td>26.611244</td>\n",
              "      <td>27.637735</td>\n",
              "    </tr>\n",
              "    <tr>\n",
              "      <th>min</th>\n",
              "      <td>0.000000</td>\n",
              "      <td>0.000000</td>\n",
              "      <td>0.000000</td>\n",
              "      <td>1.000000</td>\n",
              "    </tr>\n",
              "    <tr>\n",
              "      <th>25%</th>\n",
              "      <td>15.750000</td>\n",
              "      <td>20.000000</td>\n",
              "      <td>14.000000</td>\n",
              "      <td>20.000000</td>\n",
              "    </tr>\n",
              "    <tr>\n",
              "      <th>50%</th>\n",
              "      <td>50.000000</td>\n",
              "      <td>65.000000</td>\n",
              "      <td>33.000000</td>\n",
              "      <td>39.000000</td>\n",
              "    </tr>\n",
              "    <tr>\n",
              "      <th>75%</th>\n",
              "      <td>75.000000</td>\n",
              "      <td>84.000000</td>\n",
              "      <td>58.000000</td>\n",
              "      <td>70.000000</td>\n",
              "    </tr>\n",
              "    <tr>\n",
              "      <th>max</th>\n",
              "      <td>100.000000</td>\n",
              "      <td>99.000000</td>\n",
              "      <td>98.000000</td>\n",
              "      <td>99.000000</td>\n",
              "    </tr>\n",
              "  </tbody>\n",
              "</table>\n",
              "</div>\n",
              "      <button class=\"colab-df-convert\" onclick=\"convertToInteractive('df-807e6197-5c63-4f9b-b5e8-e3675ce32787')\"\n",
              "              title=\"Convert this dataframe to an interactive table.\"\n",
              "              style=\"display:none;\">\n",
              "        \n",
              "  <svg xmlns=\"http://www.w3.org/2000/svg\" height=\"24px\"viewBox=\"0 0 24 24\"\n",
              "       width=\"24px\">\n",
              "    <path d=\"M0 0h24v24H0V0z\" fill=\"none\"/>\n",
              "    <path d=\"M18.56 5.44l.94 2.06.94-2.06 2.06-.94-2.06-.94-.94-2.06-.94 2.06-2.06.94zm-11 1L8.5 8.5l.94-2.06 2.06-.94-2.06-.94L8.5 2.5l-.94 2.06-2.06.94zm10 10l.94 2.06.94-2.06 2.06-.94-2.06-.94-.94-2.06-.94 2.06-2.06.94z\"/><path d=\"M17.41 7.96l-1.37-1.37c-.4-.4-.92-.59-1.43-.59-.52 0-1.04.2-1.43.59L10.3 9.45l-7.72 7.72c-.78.78-.78 2.05 0 2.83L4 21.41c.39.39.9.59 1.41.59.51 0 1.02-.2 1.41-.59l7.78-7.78 2.81-2.81c.8-.78.8-2.07 0-2.86zM5.41 20L4 18.59l7.72-7.72 1.47 1.35L5.41 20z\"/>\n",
              "  </svg>\n",
              "      </button>\n",
              "      \n",
              "  <style>\n",
              "    .colab-df-container {\n",
              "      display:flex;\n",
              "      flex-wrap:wrap;\n",
              "      gap: 12px;\n",
              "    }\n",
              "\n",
              "    .colab-df-convert {\n",
              "      background-color: #E8F0FE;\n",
              "      border: none;\n",
              "      border-radius: 50%;\n",
              "      cursor: pointer;\n",
              "      display: none;\n",
              "      fill: #1967D2;\n",
              "      height: 32px;\n",
              "      padding: 0 0 0 0;\n",
              "      width: 32px;\n",
              "    }\n",
              "\n",
              "    .colab-df-convert:hover {\n",
              "      background-color: #E2EBFA;\n",
              "      box-shadow: 0px 1px 2px rgba(60, 64, 67, 0.3), 0px 1px 3px 1px rgba(60, 64, 67, 0.15);\n",
              "      fill: #174EA6;\n",
              "    }\n",
              "\n",
              "    [theme=dark] .colab-df-convert {\n",
              "      background-color: #3B4455;\n",
              "      fill: #D2E3FC;\n",
              "    }\n",
              "\n",
              "    [theme=dark] .colab-df-convert:hover {\n",
              "      background-color: #434B5C;\n",
              "      box-shadow: 0px 1px 3px 1px rgba(0, 0, 0, 0.15);\n",
              "      filter: drop-shadow(0px 1px 2px rgba(0, 0, 0, 0.3));\n",
              "      fill: #FFFFFF;\n",
              "    }\n",
              "  </style>\n",
              "\n",
              "      <script>\n",
              "        const buttonEl =\n",
              "          document.querySelector('#df-807e6197-5c63-4f9b-b5e8-e3675ce32787 button.colab-df-convert');\n",
              "        buttonEl.style.display =\n",
              "          google.colab.kernel.accessAllowed ? 'block' : 'none';\n",
              "\n",
              "        async function convertToInteractive(key) {\n",
              "          const element = document.querySelector('#df-807e6197-5c63-4f9b-b5e8-e3675ce32787');\n",
              "          const dataTable =\n",
              "            await google.colab.kernel.invokeFunction('convertToInteractive',\n",
              "                                                     [key], {});\n",
              "          if (!dataTable) return;\n",
              "\n",
              "          const docLinkHtml = 'Like what you see? Visit the ' +\n",
              "            '<a target=\"_blank\" href=https://colab.research.google.com/notebooks/data_table.ipynb>data table notebook</a>'\n",
              "            + ' to learn more about interactive tables.';\n",
              "          element.innerHTML = '';\n",
              "          dataTable['output_type'] = 'display_data';\n",
              "          await google.colab.output.renderOutput(dataTable, element);\n",
              "          const docLink = document.createElement('div');\n",
              "          docLink.innerHTML = docLinkHtml;\n",
              "          element.appendChild(docLink);\n",
              "        }\n",
              "      </script>\n",
              "    </div>\n",
              "  </div>\n",
              "  "
            ],
            "text/plain": [
              "       raisedhands  VisITedResources  AnnouncementsView  Discussion\n",
              "count   480.000000        480.000000         480.000000  480.000000\n",
              "mean     46.775000         54.797917          37.918750   43.283333\n",
              "std      30.779223         33.080007          26.611244   27.637735\n",
              "min       0.000000          0.000000           0.000000    1.000000\n",
              "25%      15.750000         20.000000          14.000000   20.000000\n",
              "50%      50.000000         65.000000          33.000000   39.000000\n",
              "75%      75.000000         84.000000          58.000000   70.000000\n",
              "max     100.000000         99.000000          98.000000   99.000000"
            ]
          },
          "metadata": {},
          "execution_count": 3
        }
      ]
    },
    {
      "cell_type": "markdown",
      "metadata": {
        "id": "XZ0O9NhU5xyj"
      },
      "source": [
        "\n",
        "\n",
        "> Melakukan pengecekan korelasi setiap fieldnya. Jika dibandingkan dengan kolum discussion maka kolum annoucement view, visited resources dan raisehands memiliki relasi yang lebih signifikan\n",
        "\n"
      ]
    },
    {
      "cell_type": "code",
      "metadata": {
        "colab": {
          "base_uri": "https://localhost:8080/",
          "height": 721
        },
        "id": "DzruehG651_k",
        "outputId": "25107251-3b03-41d6-9931-792c12d83de6"
      },
      "source": [
        "plt.figure(figsize=(12, 12))\n",
        "sns.heatmap(df.corr(), cmap='Blues', annot=True, fmt='.2f')"
      ],
      "execution_count": null,
      "outputs": [
        {
          "output_type": "execute_result",
          "data": {
            "text/plain": [
              "<matplotlib.axes._subplots.AxesSubplot at 0x7f5b99721750>"
            ]
          },
          "metadata": {},
          "execution_count": 4
        },
        {
          "output_type": "display_data",
          "data": {
            "image/png": "[encoded data removed]",
            "text/plain": [
              "<Figure size 864x864 with 2 Axes>"
            ]
          },
          "metadata": {
            "needs_background": "light"
          }
        }
      ]
    },
    {
      "cell_type": "markdown",
      "metadata": {
        "id": "yMMpk81FqGe_"
      },
      "source": [
        "> Disini kami menampilkan distribusi jumlah rekord berdasarkan nilai class yang telah didefinisikan yaitu L(Low), M(Middle), H(High). Dari visualisasi data tersebut jumlah sample terbanyak memiliki nilai class menengah atau M dan diikuti dengan class H lalu class L. "
      ]
    },
    {
      "cell_type": "code",
      "metadata": {
        "colab": {
          "base_uri": "https://localhost:8080/",
          "height": 279
        },
        "id": "wn_iX-7RPPL_",
        "outputId": "a5f74d6c-d2e7-4117-d958-d0864a867c40"
      },
      "source": [
        "sns.countplot(x = df['Class'])\n",
        "plt.show()"
      ],
      "execution_count": null,
      "outputs": [
        {
          "output_type": "display_data",
          "data": {
            "image/png": "[encoded data removed]",
            "text/plain": [
              "<Figure size 432x288 with 1 Axes>"
            ]
          },
          "metadata": {
            "needs_background": "light"
          }
        }
      ]
    },
    {
      "cell_type": "markdown",
      "metadata": {
        "id": "7-0kpfjUqK5U"
      },
      "source": [
        "> Disini kami menampilkan distribusi nilai class berdasarkan jenis jenjang pendidikannya yaitu lowerlevel, middleschool, highschool. Berdasarkan visualisasi data tersebut setiap jenjang pendidikan memiliki jumlah sample terbanyak dengan nilai class menengah. Untuk nilai class H maka hanya jenjang pendidikan middleschool dan highschool yang memiliki jumlah sample lebih banyak dibandingkan nilai class L\n",
        "\n",
        ">Selain menampilkan distribusi sample dengan nilai classnya pada jenjang pendidikan, kami menampilkan distribusinya pada tiap jenjang kelasnya."
      ]
    },
    {
      "cell_type": "code",
      "metadata": {
        "colab": {
          "base_uri": "https://localhost:8080/",
          "height": 577
        },
        "id": "CBCG8TNsPnuK",
        "outputId": "1f5f2f35-7bd0-4a6b-d0b7-00f56c9c86a8"
      },
      "source": [
        "for i in ['StageID', 'GradeID']:\n",
        "  sns.countplot(x = i, data = df, hue = 'Class')\n",
        "  print(plt.show())"
      ],
      "execution_count": null,
      "outputs": [
        {
          "output_type": "display_data",
          "data": {
            "image/png": "[encoded data removed]",
            "text/plain": [
              "<Figure size 432x288 with 1 Axes>"
            ]
          },
          "metadata": {
            "needs_background": "light"
          }
        },
        {
          "output_type": "stream",
          "name": "stdout",
          "text": [
            "None\n"
          ]
        },
        {
          "output_type": "display_data",
          "data": {
            "image/png": "[encoded data removed]",
            "text/plain": [
              "<Figure size 432x288 with 1 Axes>"
            ]
          },
          "metadata": {
            "needs_background": "light"
          }
        },
        {
          "output_type": "stream",
          "name": "stdout",
          "text": [
            "None\n"
          ]
        }
      ]
    },
    {
      "cell_type": "markdown",
      "metadata": {
        "id": "J8XRfCr10ej6"
      },
      "source": [
        "> Disini kami memisahkan setiap kolum kedalam dua variable untuk menampung berdasarkan tipedatanya untuk mempermudah pengambilan data serta visualisasi data lebih lanjut.\n",
        "\n",
        "\n"
      ]
    },
    {
      "cell_type": "code",
      "metadata": {
        "id": "oBV27XiTwMwW",
        "colab": {
          "base_uri": "https://localhost:8080/"
        },
        "outputId": "dda6024e-4e7d-49cc-bc01-c044ab68f9a3"
      },
      "source": [
        "category = []\n",
        "numeric = []\n",
        "for i in df.columns:\n",
        "  if(df[i].dtype == 'object'):\n",
        "    category.append(i)\n",
        "  else:\n",
        "    numeric.append(i)\n",
        "\n",
        "print(\"Kolum category berisi {}\".format(category))\n",
        "print(\"Kolum numeric berisi {}\".format(numeric))"
      ],
      "execution_count": null,
      "outputs": [
        {
          "output_type": "stream",
          "name": "stdout",
          "text": [
            "Kolum category berisi ['gender', 'NationalITy', 'PlaceofBirth', 'StageID', 'GradeID', 'SectionID', 'Topic', 'Semester', 'Relation', 'ParentAnsweringSurvey', 'ParentschoolSatisfaction', 'StudentAbsenceDays', 'Class']\n",
            "Kolum numeric berisi ['raisedhands', 'VisITedResources', 'AnnouncementsView', 'Discussion']\n"
          ]
        }
      ]
    },
    {
      "cell_type": "markdown",
      "metadata": {
        "id": "C9Mbv82H3gep"
      },
      "source": [
        "> Disini kami melakukan visualisasi data untuk setiap kolum yang bertipe object atau kategori"
      ]
    },
    {
      "cell_type": "code",
      "metadata": {
        "colab": {
          "base_uri": "https://localhost:8080/",
          "height": 636
        },
        "id": "FrXgb3YQ_nJw",
        "outputId": "9f4a61d3-f5bc-4d5e-b825-443a14810f50"
      },
      "source": [
        "plt.figure(figsize = (20,10))\n",
        "for i in range (0, len(category)):\n",
        "  plt.subplot(4, len(category)/3, i+1)\n",
        "  sns.countplot(x = df[category[i]], color='blue')\n",
        "  plt.tight_layout()"
      ],
      "execution_count": null,
      "outputs": [
        {
          "output_type": "display_data",
          "data": {
            "image/png": "[encoded data removed]",
            "text/plain": [
              "<Figure size 1440x720 with 13 Axes>"
            ]
          },
          "metadata": {
            "needs_background": "light"
          }
        }
      ]
    },
    {
      "cell_type": "markdown",
      "metadata": {
        "id": "T2ZpsqQo3oHu"
      },
      "source": [
        "> Visualisasi kolum dengan tipedata numerik dengan menggunakan histogram"
      ]
    },
    {
      "cell_type": "code",
      "metadata": {
        "colab": {
          "base_uri": "https://localhost:8080/",
          "height": 695
        },
        "id": "jJ_7n0nCwqPx",
        "outputId": "1b7e5781-1153-4a5a-e13d-ddbf0d50f538"
      },
      "source": [
        "df[numeric].hist(figsize=(10,10))"
      ],
      "execution_count": null,
      "outputs": [
        {
          "output_type": "execute_result",
          "data": {
            "text/plain": [
              "array([[<matplotlib.axes._subplots.AxesSubplot object at 0x7f5b81753850>,\n",
              "        <matplotlib.axes._subplots.AxesSubplot object at 0x7f5b8193cb10>],\n",
              "       [<matplotlib.axes._subplots.AxesSubplot object at 0x7f5b819c7750>,\n",
              "        <matplotlib.axes._subplots.AxesSubplot object at 0x7f5b8171b490>]],\n",
              "      dtype=object)"
            ]
          },
          "metadata": {},
          "execution_count": 9
        },
        {
          "output_type": "display_data",
          "data": {
            "image/png": "[encoded data removed]",
            "text/plain": [
              "<Figure size 720x720 with 4 Axes>"
            ]
          },
          "metadata": {
            "needs_background": "light"
          }
        }
      ]
    },
    {
      "cell_type": "markdown",
      "metadata": {
        "id": "E4VgybyJqjbT"
      },
      "source": [
        "> Pengecekan adanya outlier atau tidak pada kolum yang dinyatakan dengan titik diluar interval garis boxplot. Dalam hal ini data yang diekstrak dapat dinyatakan bersih dari outlier yang membuat penulis tidak memerlukan untuk membersihkan data yang diolah dari outlier"
      ]
    },
    {
      "cell_type": "code",
      "metadata": {
        "colab": {
          "base_uri": "https://localhost:8080/",
          "height": 260
        },
        "id": "JayGqR6v6qSy",
        "outputId": "8cf5da77-829a-49b1-a1d4-e6cccf0b7e88"
      },
      "source": [
        "plt.figure(figsize=(20,4))\n",
        "for i in range (0, len(numeric)):\n",
        "  plt.subplot(2, len(numeric)/2, i+1)\n",
        "  sns.boxplot(x = df[numeric[i]],color='blue')\n",
        "  plt.tight_layout()"
      ],
      "execution_count": null,
      "outputs": [
        {
          "output_type": "display_data",
          "data": {
            "image/png": "[encoded data removed]",
            "text/plain": [
              "<Figure size 1440x288 with 4 Axes>"
            ]
          },
          "metadata": {
            "needs_background": "light"
          }
        }
      ]
    },
    {
      "cell_type": "markdown",
      "metadata": {
        "id": "_Fuu6QppC4qm"
      },
      "source": [
        "# **Data Preprocessing**"
      ]
    },
    {
      "cell_type": "markdown",
      "source": [
        "> Dalam kasus ini, kami akan mengolah data siswa sekolah menengah"
      ],
      "metadata": {
        "id": "_rahQmEQBN0w"
      }
    },
    {
      "cell_type": "code",
      "source": [
        "df = df[df['StageID']=='MiddleSchool']"
      ],
      "metadata": {
        "id": "mpQAkKOQ49d_"
      },
      "execution_count": null,
      "outputs": []
    },
    {
      "cell_type": "markdown",
      "metadata": {
        "id": "LxRTWR4yNpLq"
      },
      "source": [
        "> Melakukan pengecekan tipa data untuk setiap kolum beserta nilai null yang ada.\n",
        "\n",
        "> Berdasarkan deskripsi fungsi dibawah total rekord dari data yang telah diimport berjumlah 248 / 480 dengan nilai non-null untuk setiap kolum sebesar 248 / 480. Hal ini bermakna tidak adanya nilai null maka tidak memerlukan pembersihan data dengan melakukan penghapusan baris yang bernilai null\n"
      ]
    },
    {
      "cell_type": "code",
      "metadata": {
        "colab": {
          "base_uri": "https://localhost:8080/"
        },
        "id": "4fsrEXTqNm-L",
        "outputId": "31d73cad-97f6-4cf2-bf94-8b673b26adb5"
      },
      "source": [
        "df.info()"
      ],
      "execution_count": null,
      "outputs": [
        {
          "output_type": "stream",
          "name": "stdout",
          "text": [
            "<class 'pandas.core.frame.DataFrame'>\n",
            "Int64Index: 248 entries, 6 to 479\n",
            "Data columns (total 17 columns):\n",
            " #   Column                    Non-Null Count  Dtype \n",
            "---  ------                    --------------  ----- \n",
            " 0   gender                    248 non-null    object\n",
            " 1   NationalITy               248 non-null    object\n",
            " 2   PlaceofBirth              248 non-null    object\n",
            " 3   StageID                   248 non-null    object\n",
            " 4   GradeID                   248 non-null    object\n",
            " 5   SectionID                 248 non-null    object\n",
            " 6   Topic                     248 non-null    object\n",
            " 7   Semester                  248 non-null    object\n",
            " 8   Relation                  248 non-null    object\n",
            " 9   raisedhands               248 non-null    int64 \n",
            " 10  VisITedResources          248 non-null    int64 \n",
            " 11  AnnouncementsView         248 non-null    int64 \n",
            " 12  Discussion                248 non-null    int64 \n",
            " 13  ParentAnsweringSurvey     248 non-null    object\n",
            " 14  ParentschoolSatisfaction  248 non-null    object\n",
            " 15  StudentAbsenceDays        248 non-null    object\n",
            " 16  Class                     248 non-null    object\n",
            "dtypes: int64(4), object(13)\n",
            "memory usage: 34.9+ KB\n"
          ]
        }
      ]
    },
    {
      "cell_type": "markdown",
      "metadata": {
        "id": "nANpC_pHq1bL"
      },
      "source": [
        "> Menampilkan nilai unik dari kolum non-numerik. Jika kolum-kolum tersebut digunakan sebagai predictors atau nilai *explanatory* maka akan dijadikan sebagai kategori dengan dibuatkan variable dummy"
      ]
    },
    {
      "cell_type": "code",
      "metadata": {
        "id": "gW36kdDdhQXw",
        "colab": {
          "base_uri": "https://localhost:8080/"
        },
        "outputId": "61e2f06c-86d1-4b30-ab99-b8cf9e3e3b54"
      },
      "source": [
        "for i in df.columns:\n",
        "  if(df[i].dtype != 'int64'):\n",
        "    print(\"Kolum {} dengan nilai unik {}\".format(i,df[i].unique()))"
      ],
      "execution_count": null,
      "outputs": [
        {
          "output_type": "stream",
          "name": "stdout",
          "text": [
            "Kolum gender dengan nilai unik ['M' 'F']\n",
            "Kolum NationalITy dengan nilai unik ['KW' 'lebanon' 'Egypt' 'SaudiArabia' 'USA' 'Jordan' 'Tunis' 'Morocco'\n",
            " 'Iran' 'Syria' 'Palestine' 'Iraq' 'Lybia']\n",
            "Kolum PlaceofBirth dengan nilai unik ['KuwaIT' 'lebanon' 'Egypt' 'SaudiArabia' 'USA' 'Jordan' 'Tunis' 'Morocco'\n",
            " 'Iran' 'Syria' 'Iraq' 'Palestine' 'Lybia']\n",
            "Kolum StageID dengan nilai unik ['MiddleSchool']\n",
            "Kolum GradeID dengan nilai unik ['G-07' 'G-08' 'G-06']\n",
            "Kolum SectionID dengan nilai unik ['A' 'B' 'C']\n",
            "Kolum Topic dengan nilai unik ['Math' 'IT' 'Arabic' 'Science' 'English' 'Quran' 'Spanish' 'Biology'\n",
            " 'Chemistry' 'Geology' 'History']\n",
            "Kolum Semester dengan nilai unik ['F' 'S']\n",
            "Kolum Relation dengan nilai unik ['Father' 'Mum']\n",
            "Kolum ParentAnsweringSurvey dengan nilai unik ['No' 'Yes']\n",
            "Kolum ParentschoolSatisfaction dengan nilai unik ['Bad' 'Good']\n",
            "Kolum StudentAbsenceDays dengan nilai unik ['Above-7' 'Under-7']\n",
            "Kolum Class dengan nilai unik ['L' 'M' 'H']\n"
          ]
        }
      ]
    },
    {
      "cell_type": "markdown",
      "metadata": {
        "id": "GMmvlU-B4hAZ"
      },
      "source": [
        "> Pemilihan kolum yang akan digunakan akan menggunakan kolum pada list numeric dan ditambahkan dengan kolum class"
      ]
    },
    {
      "cell_type": "code",
      "metadata": {
        "colab": {
          "base_uri": "https://localhost:8080/"
        },
        "id": "R0TyNQ5Q4xCo",
        "outputId": "4931e112-1de2-446a-83d1-b5c0404764be"
      },
      "source": [
        "numeric.append('Class')\n",
        "print(\"Kolum yang akan diolah adalah {}\".format(numeric))"
      ],
      "execution_count": null,
      "outputs": [
        {
          "output_type": "stream",
          "name": "stdout",
          "text": [
            "Kolum yang akan diolah adalah ['raisedhands', 'VisITedResources', 'AnnouncementsView', 'Discussion', 'Class']\n"
          ]
        }
      ]
    },
    {
      "cell_type": "markdown",
      "metadata": {
        "id": "rTnA7mo75TZ1"
      },
      "source": [
        "> Memasukkan data kolum kedalam variable data berdasarkan list kolum numeric"
      ]
    },
    {
      "cell_type": "code",
      "metadata": {
        "colab": {
          "base_uri": "https://localhost:8080/",
          "height": 206
        },
        "id": "VFClR1bi5RBV",
        "outputId": "27c158c4-3dcd-42dd-83b0-b57d41c2da1f"
      },
      "source": [
        "data = df[numeric]\n",
        "data.head()"
      ],
      "execution_count": null,
      "outputs": [
        {
          "output_type": "execute_result",
          "data": {
            "text/html": [
              "\n",
              "  <div id=\"df-c3aa3c88-38b8-4641-b8dd-286b8401fbf9\">\n",
              "    <div class=\"colab-df-container\">\n",
              "      <div>\n",
              "<style scoped>\n",
              "    .dataframe tbody tr th:only-of-type {\n",
              "        vertical-align: middle;\n",
              "    }\n",
              "\n",
              "    .dataframe tbody tr th {\n",
              "        vertical-align: top;\n",
              "    }\n",
              "\n",
              "    .dataframe thead th {\n",
              "        text-align: right;\n",
              "    }\n",
              "</style>\n",
              "<table border=\"1\" class=\"dataframe\">\n",
              "  <thead>\n",
              "    <tr style=\"text-align: right;\">\n",
              "      <th></th>\n",
              "      <th>raisedhands</th>\n",
              "      <th>VisITedResources</th>\n",
              "      <th>AnnouncementsView</th>\n",
              "      <th>Discussion</th>\n",
              "      <th>Class</th>\n",
              "    </tr>\n",
              "  </thead>\n",
              "  <tbody>\n",
              "    <tr>\n",
              "      <th>6</th>\n",
              "      <td>35</td>\n",
              "      <td>12</td>\n",
              "      <td>0</td>\n",
              "      <td>17</td>\n",
              "      <td>L</td>\n",
              "    </tr>\n",
              "    <tr>\n",
              "      <th>7</th>\n",
              "      <td>50</td>\n",
              "      <td>10</td>\n",
              "      <td>15</td>\n",
              "      <td>22</td>\n",
              "      <td>M</td>\n",
              "    </tr>\n",
              "    <tr>\n",
              "      <th>8</th>\n",
              "      <td>12</td>\n",
              "      <td>21</td>\n",
              "      <td>16</td>\n",
              "      <td>50</td>\n",
              "      <td>M</td>\n",
              "    </tr>\n",
              "    <tr>\n",
              "      <th>9</th>\n",
              "      <td>70</td>\n",
              "      <td>80</td>\n",
              "      <td>25</td>\n",
              "      <td>70</td>\n",
              "      <td>M</td>\n",
              "    </tr>\n",
              "    <tr>\n",
              "      <th>10</th>\n",
              "      <td>50</td>\n",
              "      <td>88</td>\n",
              "      <td>30</td>\n",
              "      <td>80</td>\n",
              "      <td>H</td>\n",
              "    </tr>\n",
              "  </tbody>\n",
              "</table>\n",
              "</div>\n",
              "      <button class=\"colab-df-convert\" onclick=\"convertToInteractive('df-c3aa3c88-38b8-4641-b8dd-286b8401fbf9')\"\n",
              "              title=\"Convert this dataframe to an interactive table.\"\n",
              "              style=\"display:none;\">\n",
              "        \n",
              "  <svg xmlns=\"http://www.w3.org/2000/svg\" height=\"24px\"viewBox=\"0 0 24 24\"\n",
              "       width=\"24px\">\n",
              "    <path d=\"M0 0h24v24H0V0z\" fill=\"none\"/>\n",
              "    <path d=\"M18.56 5.44l.94 2.06.94-2.06 2.06-.94-2.06-.94-.94-2.06-.94 2.06-2.06.94zm-11 1L8.5 8.5l.94-2.06 2.06-.94-2.06-.94L8.5 2.5l-.94 2.06-2.06.94zm10 10l.94 2.06.94-2.06 2.06-.94-2.06-.94-.94-2.06-.94 2.06-2.06.94z\"/><path d=\"M17.41 7.96l-1.37-1.37c-.4-.4-.92-.59-1.43-.59-.52 0-1.04.2-1.43.59L10.3 9.45l-7.72 7.72c-.78.78-.78 2.05 0 2.83L4 21.41c.39.39.9.59 1.41.59.51 0 1.02-.2 1.41-.59l7.78-7.78 2.81-2.81c.8-.78.8-2.07 0-2.86zM5.41 20L4 18.59l7.72-7.72 1.47 1.35L5.41 20z\"/>\n",
              "  </svg>\n",
              "      </button>\n",
              "      \n",
              "  <style>\n",
              "    .colab-df-container {\n",
              "      display:flex;\n",
              "      flex-wrap:wrap;\n",
              "      gap: 12px;\n",
              "    }\n",
              "\n",
              "    .colab-df-convert {\n",
              "      background-color: #E8F0FE;\n",
              "      border: none;\n",
              "      border-radius: 50%;\n",
              "      cursor: pointer;\n",
              "      display: none;\n",
              "      fill: #1967D2;\n",
              "      height: 32px;\n",
              "      padding: 0 0 0 0;\n",
              "      width: 32px;\n",
              "    }\n",
              "\n",
              "    .colab-df-convert:hover {\n",
              "      background-color: #E2EBFA;\n",
              "      box-shadow: 0px 1px 2px rgba(60, 64, 67, 0.3), 0px 1px 3px 1px rgba(60, 64, 67, 0.15);\n",
              "      fill: #174EA6;\n",
              "    }\n",
              "\n",
              "    [theme=dark] .colab-df-convert {\n",
              "      background-color: #3B4455;\n",
              "      fill: #D2E3FC;\n",
              "    }\n",
              "\n",
              "    [theme=dark] .colab-df-convert:hover {\n",
              "      background-color: #434B5C;\n",
              "      box-shadow: 0px 1px 3px 1px rgba(0, 0, 0, 0.15);\n",
              "      filter: drop-shadow(0px 1px 2px rgba(0, 0, 0, 0.3));\n",
              "      fill: #FFFFFF;\n",
              "    }\n",
              "  </style>\n",
              "\n",
              "      <script>\n",
              "        const buttonEl =\n",
              "          document.querySelector('#df-c3aa3c88-38b8-4641-b8dd-286b8401fbf9 button.colab-df-convert');\n",
              "        buttonEl.style.display =\n",
              "          google.colab.kernel.accessAllowed ? 'block' : 'none';\n",
              "\n",
              "        async function convertToInteractive(key) {\n",
              "          const element = document.querySelector('#df-c3aa3c88-38b8-4641-b8dd-286b8401fbf9');\n",
              "          const dataTable =\n",
              "            await google.colab.kernel.invokeFunction('convertToInteractive',\n",
              "                                                     [key], {});\n",
              "          if (!dataTable) return;\n",
              "\n",
              "          const docLinkHtml = 'Like what you see? Visit the ' +\n",
              "            '<a target=\"_blank\" href=https://colab.research.google.com/notebooks/data_table.ipynb>data table notebook</a>'\n",
              "            + ' to learn more about interactive tables.';\n",
              "          element.innerHTML = '';\n",
              "          dataTable['output_type'] = 'display_data';\n",
              "          await google.colab.output.renderOutput(dataTable, element);\n",
              "          const docLink = document.createElement('div');\n",
              "          docLink.innerHTML = docLinkHtml;\n",
              "          element.appendChild(docLink);\n",
              "        }\n",
              "      </script>\n",
              "    </div>\n",
              "  </div>\n",
              "  "
            ],
            "text/plain": [
              "    raisedhands  VisITedResources  AnnouncementsView  Discussion Class\n",
              "6            35                12                  0          17     L\n",
              "7            50                10                 15          22     M\n",
              "8            12                21                 16          50     M\n",
              "9            70                80                 25          70     M\n",
              "10           50                88                 30          80     H"
            ]
          },
          "metadata": {},
          "execution_count": 15
        }
      ]
    },
    {
      "cell_type": "markdown",
      "metadata": {
        "id": "IsBt0JdEryBn"
      },
      "source": [
        "> Dikarenakan tidak ada variable yang digunakan memiliki tipe data object maka pembuatan variable dummy tidak dibutuhkan. Maka proses dibawah ini tidak akan memberi perubahan pada dataframe yang akan digunakan\n",
        "\n",
        "\n"
      ]
    },
    {
      "cell_type": "code",
      "metadata": {
        "id": "MbgRyeDxr0fl"
      },
      "source": [
        "category_dummy = []\n",
        "for i in data.columns:\n",
        "  try:\n",
        "    if(data[i].dtype == 'object' and i != 'Class'):\n",
        "      data[i] = pd.Categorical(data[i], categories=data[i].unique())\n",
        "      category_dummy.append(i)\n",
        "  except:\n",
        "    print(\"Exception occured!\")\n",
        "try:\n",
        "  data = pd.get_dummies(data, columns=category_dummy)\n",
        "except:\n",
        "  print(\"Exception occured!\")"
      ],
      "execution_count": null,
      "outputs": []
    },
    {
      "cell_type": "code",
      "metadata": {
        "colab": {
          "base_uri": "https://localhost:8080/"
        },
        "id": "dNfD2QJOLCgh",
        "outputId": "d532fac0-f57f-41cc-fa04-d670b9e80a75"
      },
      "source": [
        "data.shape"
      ],
      "execution_count": null,
      "outputs": [
        {
          "output_type": "execute_result",
          "data": {
            "text/plain": [
              "(248, 5)"
            ]
          },
          "metadata": {},
          "execution_count": 17
        }
      ]
    },
    {
      "cell_type": "markdown",
      "metadata": {
        "id": "kL01a5ABdxSa"
      },
      "source": [
        "> Berdasarkan interval dataset, kolum VisitedResources, AnnouncementView, dan Discussion memiliki nilai maksimal sebesar 100. Oleh karena itu, kami akan menggunakan MinMaxScaler dengan interval 0-100 pada kolum-kolum tersebut."
      ]
    },
    {
      "cell_type": "code",
      "metadata": {
        "colab": {
          "base_uri": "https://localhost:8080/",
          "height": 300
        },
        "id": "v-OCRpEEeCsH",
        "outputId": "74782cf7-dcae-4ade-c317-23e2430d7898"
      },
      "source": [
        "data.describe()"
      ],
      "execution_count": null,
      "outputs": [
        {
          "output_type": "execute_result",
          "data": {
            "text/html": [
              "\n",
              "  <div id=\"df-218b6a5a-e378-4199-8bd0-d7ac99b61827\">\n",
              "    <div class=\"colab-df-container\">\n",
              "      <div>\n",
              "<style scoped>\n",
              "    .dataframe tbody tr th:only-of-type {\n",
              "        vertical-align: middle;\n",
              "    }\n",
              "\n",
              "    .dataframe tbody tr th {\n",
              "        vertical-align: top;\n",
              "    }\n",
              "\n",
              "    .dataframe thead th {\n",
              "        text-align: right;\n",
              "    }\n",
              "</style>\n",
              "<table border=\"1\" class=\"dataframe\">\n",
              "  <thead>\n",
              "    <tr style=\"text-align: right;\">\n",
              "      <th></th>\n",
              "      <th>raisedhands</th>\n",
              "      <th>VisITedResources</th>\n",
              "      <th>AnnouncementsView</th>\n",
              "      <th>Discussion</th>\n",
              "    </tr>\n",
              "  </thead>\n",
              "  <tbody>\n",
              "    <tr>\n",
              "      <th>count</th>\n",
              "      <td>248.000000</td>\n",
              "      <td>248.000000</td>\n",
              "      <td>248.000000</td>\n",
              "      <td>248.000000</td>\n",
              "    </tr>\n",
              "    <tr>\n",
              "      <th>mean</th>\n",
              "      <td>53.939516</td>\n",
              "      <td>58.568548</td>\n",
              "      <td>43.274194</td>\n",
              "      <td>45.875000</td>\n",
              "    </tr>\n",
              "    <tr>\n",
              "      <th>std</th>\n",
              "      <td>31.086278</td>\n",
              "      <td>31.658018</td>\n",
              "      <td>26.796078</td>\n",
              "      <td>27.835049</td>\n",
              "    </tr>\n",
              "    <tr>\n",
              "      <th>min</th>\n",
              "      <td>0.000000</td>\n",
              "      <td>0.000000</td>\n",
              "      <td>0.000000</td>\n",
              "      <td>1.000000</td>\n",
              "    </tr>\n",
              "    <tr>\n",
              "      <th>25%</th>\n",
              "      <td>22.000000</td>\n",
              "      <td>24.250000</td>\n",
              "      <td>19.000000</td>\n",
              "      <td>20.000000</td>\n",
              "    </tr>\n",
              "    <tr>\n",
              "      <th>50%</th>\n",
              "      <td>69.000000</td>\n",
              "      <td>73.000000</td>\n",
              "      <td>42.000000</td>\n",
              "      <td>41.000000</td>\n",
              "    </tr>\n",
              "    <tr>\n",
              "      <th>75%</th>\n",
              "      <td>80.000000</td>\n",
              "      <td>84.000000</td>\n",
              "      <td>64.000000</td>\n",
              "      <td>70.000000</td>\n",
              "    </tr>\n",
              "    <tr>\n",
              "      <th>max</th>\n",
              "      <td>100.000000</td>\n",
              "      <td>99.000000</td>\n",
              "      <td>98.000000</td>\n",
              "      <td>99.000000</td>\n",
              "    </tr>\n",
              "  </tbody>\n",
              "</table>\n",
              "</div>\n",
              "      <button class=\"colab-df-convert\" onclick=\"convertToInteractive('df-218b6a5a-e378-4199-8bd0-d7ac99b61827')\"\n",
              "              title=\"Convert this dataframe to an interactive table.\"\n",
              "              style=\"display:none;\">\n",
              "        \n",
              "  <svg xmlns=\"http://www.w3.org/2000/svg\" height=\"24px\"viewBox=\"0 0 24 24\"\n",
              "       width=\"24px\">\n",
              "    <path d=\"M0 0h24v24H0V0z\" fill=\"none\"/>\n",
              "    <path d=\"M18.56 5.44l.94 2.06.94-2.06 2.06-.94-2.06-.94-.94-2.06-.94 2.06-2.06.94zm-11 1L8.5 8.5l.94-2.06 2.06-.94-2.06-.94L8.5 2.5l-.94 2.06-2.06.94zm10 10l.94 2.06.94-2.06 2.06-.94-2.06-.94-.94-2.06-.94 2.06-2.06.94z\"/><path d=\"M17.41 7.96l-1.37-1.37c-.4-.4-.92-.59-1.43-.59-.52 0-1.04.2-1.43.59L10.3 9.45l-7.72 7.72c-.78.78-.78 2.05 0 2.83L4 21.41c.39.39.9.59 1.41.59.51 0 1.02-.2 1.41-.59l7.78-7.78 2.81-2.81c.8-.78.8-2.07 0-2.86zM5.41 20L4 18.59l7.72-7.72 1.47 1.35L5.41 20z\"/>\n",
              "  </svg>\n",
              "      </button>\n",
              "      \n",
              "  <style>\n",
              "    .colab-df-container {\n",
              "      display:flex;\n",
              "      flex-wrap:wrap;\n",
              "      gap: 12px;\n",
              "    }\n",
              "\n",
              "    .colab-df-convert {\n",
              "      background-color: #E8F0FE;\n",
              "      border: none;\n",
              "      border-radius: 50%;\n",
              "      cursor: pointer;\n",
              "      display: none;\n",
              "      fill: #1967D2;\n",
              "      height: 32px;\n",
              "      padding: 0 0 0 0;\n",
              "      width: 32px;\n",
              "    }\n",
              "\n",
              "    .colab-df-convert:hover {\n",
              "      background-color: #E2EBFA;\n",
              "      box-shadow: 0px 1px 2px rgba(60, 64, 67, 0.3), 0px 1px 3px 1px rgba(60, 64, 67, 0.15);\n",
              "      fill: #174EA6;\n",
              "    }\n",
              "\n",
              "    [theme=dark] .colab-df-convert {\n",
              "      background-color: #3B4455;\n",
              "      fill: #D2E3FC;\n",
              "    }\n",
              "\n",
              "    [theme=dark] .colab-df-convert:hover {\n",
              "      background-color: #434B5C;\n",
              "      box-shadow: 0px 1px 3px 1px rgba(0, 0, 0, 0.15);\n",
              "      filter: drop-shadow(0px 1px 2px rgba(0, 0, 0, 0.3));\n",
              "      fill: #FFFFFF;\n",
              "    }\n",
              "  </style>\n",
              "\n",
              "      <script>\n",
              "        const buttonEl =\n",
              "          document.querySelector('#df-218b6a5a-e378-4199-8bd0-d7ac99b61827 button.colab-df-convert');\n",
              "        buttonEl.style.display =\n",
              "          google.colab.kernel.accessAllowed ? 'block' : 'none';\n",
              "\n",
              "        async function convertToInteractive(key) {\n",
              "          const element = document.querySelector('#df-218b6a5a-e378-4199-8bd0-d7ac99b61827');\n",
              "          const dataTable =\n",
              "            await google.colab.kernel.invokeFunction('convertToInteractive',\n",
              "                                                     [key], {});\n",
              "          if (!dataTable) return;\n",
              "\n",
              "          const docLinkHtml = 'Like what you see? Visit the ' +\n",
              "            '<a target=\"_blank\" href=https://colab.research.google.com/notebooks/data_table.ipynb>data table notebook</a>'\n",
              "            + ' to learn more about interactive tables.';\n",
              "          element.innerHTML = '';\n",
              "          dataTable['output_type'] = 'display_data';\n",
              "          await google.colab.output.renderOutput(dataTable, element);\n",
              "          const docLink = document.createElement('div');\n",
              "          docLink.innerHTML = docLinkHtml;\n",
              "          element.appendChild(docLink);\n",
              "        }\n",
              "      </script>\n",
              "    </div>\n",
              "  </div>\n",
              "  "
            ],
            "text/plain": [
              "       raisedhands  VisITedResources  AnnouncementsView  Discussion\n",
              "count   248.000000        248.000000         248.000000  248.000000\n",
              "mean     53.939516         58.568548          43.274194   45.875000\n",
              "std      31.086278         31.658018          26.796078   27.835049\n",
              "min       0.000000          0.000000           0.000000    1.000000\n",
              "25%      22.000000         24.250000          19.000000   20.000000\n",
              "50%      69.000000         73.000000          42.000000   41.000000\n",
              "75%      80.000000         84.000000          64.000000   70.000000\n",
              "max     100.000000         99.000000          98.000000   99.000000"
            ]
          },
          "metadata": {},
          "execution_count": 18
        }
      ]
    },
    {
      "cell_type": "code",
      "metadata": {
        "id": "ZNTOJ8J2d84r"
      },
      "source": [
        "from sklearn.preprocessing import MinMaxScaler\n",
        "mm = MinMaxScaler(feature_range=(0,100))\n",
        "\n",
        "data[['VisITedResources','AnnouncementsView','Discussion']] = mm.fit_transform(data[['VisITedResources','AnnouncementsView','Discussion']])"
      ],
      "execution_count": null,
      "outputs": []
    },
    {
      "cell_type": "markdown",
      "metadata": {
        "id": "SU7Pw1TBfbY3"
      },
      "source": [
        "> Selanjutnya, kolum atau fitur pada data yang telah diseleksi akan dipisahkan menjadi variable independen (x) dan variable dependen (y). Variable independen dalam hal ini yang akan dijadikan predictors sedangkan variable dependen akan dijadikan hasil prediksi data prediction"
      ]
    },
    {
      "cell_type": "code",
      "metadata": {
        "id": "KY9ouo7i8yZX",
        "colab": {
          "base_uri": "https://localhost:8080/"
        },
        "outputId": "a1337de7-0b19-4551-b85b-dc472e0b57bf"
      },
      "source": [
        "x = data.iloc[:,:data.shape[1]-1]\n",
        "y = data.iloc[:,data.shape[1]-1]\n",
        "y.head()"
      ],
      "execution_count": null,
      "outputs": [
        {
          "output_type": "execute_result",
          "data": {
            "text/plain": [
              "6     L\n",
              "7     M\n",
              "8     M\n",
              "9     M\n",
              "10    H\n",
              "Name: Class, dtype: object"
            ]
          },
          "metadata": {},
          "execution_count": 20
        }
      ]
    },
    {
      "cell_type": "markdown",
      "metadata": {
        "id": "ea9V_MeXjR3i"
      },
      "source": [
        "> Dikarenakan variable y adalah kolum Class dengan tipe data object maka akan dikonversi menjadi nilai numerik dengan menggunakan library LabelEncoder. Alternatif metode yang dapat dilakukan adalah dengan menggunakan .replace()"
      ]
    },
    {
      "cell_type": "code",
      "metadata": {
        "id": "GoD9X73sjSA4"
      },
      "source": [
        "le = LabelEncoder()\n",
        "y = le.fit_transform(y)"
      ],
      "execution_count": null,
      "outputs": []
    },
    {
      "cell_type": "markdown",
      "metadata": {
        "id": "Fs2J989EfwI4"
      },
      "source": [
        "> Kami menggunakan train_test_split untuk membagi data yang akan digunakan pada model training dan model testing sebesar 35%"
      ]
    },
    {
      "cell_type": "code",
      "metadata": {
        "id": "T-dVylPO86Yc",
        "colab": {
          "base_uri": "https://localhost:8080/"
        },
        "outputId": "b2688803-9c16-4b31-ea3f-816facc7e1b0"
      },
      "source": [
        "x_train, x_test, y_train, y_test = train_test_split(x, y, test_size=0.35, random_state=0)\n",
        "print(x_train.shape)\n",
        "print(x_test.shape)\n",
        "print(y_train.shape)\n",
        "print(y_test.shape)"
      ],
      "execution_count": null,
      "outputs": [
        {
          "output_type": "stream",
          "name": "stdout",
          "text": [
            "(161, 4)\n",
            "(87, 4)\n",
            "(161,)\n",
            "(87,)\n"
          ]
        }
      ]
    },
    {
      "cell_type": "markdown",
      "metadata": {
        "id": "Nfhau20Q9yp4"
      },
      "source": [
        "# **Model Building 1**"
      ]
    },
    {
      "cell_type": "markdown",
      "metadata": {
        "id": "8pYzeFBa91SU"
      },
      "source": [
        "> Inisialisasi model untuk klasifikasi menggunakan [LogisticRegression]\n",
        "\n",
        "> Disini akan dilakukan inisialisasi model *LogisticRegression* dengan variable *random_state* sebesar 0 untuk mencocokan dengan pengambilan sampel data secara acak pada pembagian distribusi data untuk pelatihan model dan pengujian model\n"
      ]
    },
    {
      "cell_type": "code",
      "metadata": {
        "id": "9ICETn4G94sF"
      },
      "source": [
        "from sklearn.linear_model import LogisticRegression\n",
        "#Inisialisasi\n",
        "lr = LogisticRegression(random_state=0)"
      ],
      "execution_count": null,
      "outputs": []
    },
    {
      "cell_type": "code",
      "metadata": {
        "colab": {
          "base_uri": "https://localhost:8080/"
        },
        "id": "E51HhUyH7hv0",
        "outputId": "1eaba99a-9546-44be-dd3a-d751f2e0448b"
      },
      "source": [
        "#Fitting\n",
        "lr.fit(x_train, y_train)"
      ],
      "execution_count": null,
      "outputs": [
        {
          "output_type": "execute_result",
          "data": {
            "text/plain": [
              "LogisticRegression(random_state=0)"
            ]
          },
          "metadata": {},
          "execution_count": 24
        }
      ]
    },
    {
      "cell_type": "markdown",
      "metadata": {
        "id": "5q1A92cS-OPk"
      },
      "source": [
        "> Disini akan dilakukan data testing dengan menggunakan variable test dimana prediksi akan dimasukan kedalam variable y_predict. Setelah itu, akan ditampilkan akurasi training dan testing"
      ]
    },
    {
      "cell_type": "code",
      "metadata": {
        "id": "TK4EVxrp-YiU",
        "colab": {
          "base_uri": "https://localhost:8080/"
        },
        "outputId": "3a761b2d-a811-49ea-a74b-402f9a6ceb2e"
      },
      "source": [
        "#Data testing\n",
        "y_lr_predict = lr.predict(x_test)\n",
        "\n",
        "#Menampilkan nilai akurasi data training\n",
        "print(\"Train Accuracy Score {}\".format(lr.score(x_train, y_train)))\n",
        "print(\"Test Accuracy Score {}\".format(lr.score(x_test, y_test)))"
      ],
      "execution_count": null,
      "outputs": [
        {
          "output_type": "stream",
          "name": "stdout",
          "text": [
            "Train Accuracy Score 0.6770186335403726\n",
            "Test Accuracy Score 0.6551724137931034\n"
          ]
        }
      ]
    },
    {
      "cell_type": "markdown",
      "metadata": {
        "id": "Dx_mEmYkCKkV"
      },
      "source": [
        "> Menampilkan rata-rata performa klasifikasi"
      ]
    },
    {
      "cell_type": "code",
      "metadata": {
        "id": "WAiGcO7XCOgS",
        "colab": {
          "base_uri": "https://localhost:8080/"
        },
        "outputId": "30bcb649-60da-4151-aa08-78d7f8424a41"
      },
      "source": [
        "from sklearn.metrics import classification_report\n",
        "print(\"Classification Report LR Test \\n\",classification_report(y_test, y_lr_predict),\"\\n==========================================================\")"
      ],
      "execution_count": null,
      "outputs": [
        {
          "output_type": "stream",
          "name": "stdout",
          "text": [
            "Classification Report LR Test \n",
            "               precision    recall  f1-score   support\n",
            "\n",
            "           0       0.59      0.68      0.63        28\n",
            "           1       0.85      0.65      0.73        17\n",
            "           2       0.64      0.64      0.64        42\n",
            "\n",
            "    accuracy                           0.66        87\n",
            "   macro avg       0.69      0.66      0.67        87\n",
            "weighted avg       0.67      0.66      0.66        87\n",
            " \n",
            "==========================================================\n"
          ]
        }
      ]
    },
    {
      "cell_type": "markdown",
      "source": [
        "> Kami menggunakan confusion matrix untuk mengetahui jumlah kesalahan dengan membandingkan hasil klasifikasi model dengan nilai aslinya. Berdasarkan confusion matrix jumlah total kesalahan 30 rekord dengan jumlah benar 57 untuk Logistic Regression"
      ],
      "metadata": {
        "id": "5jMrhXOAUId5"
      }
    },
    {
      "cell_type": "code",
      "metadata": {
        "colab": {
          "base_uri": "https://localhost:8080/",
          "height": 334
        },
        "id": "WQJukWcPgNwJ",
        "outputId": "2e99c2bd-c6dd-4310-ee80-f3d51f12b9cc"
      },
      "source": [
        "from sklearn import metrics\n",
        "for i in [y_lr_predict]:\n",
        "  f, ax = plt.subplots(figsize=(8,5))\n",
        "  sns.heatmap(metrics.confusion_matrix(y_test, i), annot=True, fmt=\".0f\", ax=ax)\n",
        "  plt.xlabel(\"Predicted\")\n",
        "  plt.ylabel(\"Actual\")\n",
        "  plt.show()"
      ],
      "execution_count": null,
      "outputs": [
        {
          "output_type": "display_data",
          "data": {
            "image/png": "[encoded data removed]",
            "text/plain": [
              "<Figure size 576x360 with 2 Axes>"
            ]
          },
          "metadata": {
            "needs_background": "light"
          }
        }
      ]
    },
    {
      "cell_type": "markdown",
      "metadata": {
        "id": "yRHVMZz_kI3b"
      },
      "source": [
        "> Untuk melakukan visualisasi *decision boundary* atau marginal keputusan yang dibentuk oleh model, maka kami mengubah dimensi dataframe menjadi 2 dimensi dengan menggunakan PCA (Principal Component Analysis) dan StandardScaler untuk menormalisasikan data."
      ]
    },
    {
      "cell_type": "markdown",
      "metadata": {
        "id": "8iDDF0G6z7xt"
      },
      "source": [
        "> LR"
      ]
    },
    {
      "cell_type": "code",
      "metadata": {
        "id": "9eMNgAvBz8uc",
        "colab": {
          "base_uri": "https://localhost:8080/",
          "height": 281
        },
        "outputId": "090f1af1-6616-4b8d-85d6-bfa496b3b91d"
      },
      "source": [
        "from sklearn.preprocessing import StandardScaler\n",
        "from sklearn.decomposition import PCA\n",
        "ss = StandardScaler()\n",
        "pca = PCA(n_components=2).fit(ss.fit_transform(x_train))\n",
        "pca_2d = pca.transform(ss.transform(x_train))\n",
        "lr_pca = LogisticRegression(random_state=0).fit(pca_2d, y_train)\n",
        "\n",
        "i = 0\n",
        "for count in le.inverse_transform(y_train):\n",
        "  if(count == 'H'):\n",
        "    c1 = plt.scatter(pca_2d[i,0],pca_2d[i,1],c='r',s=50,marker='o')\n",
        "  elif(count == 'L'):\n",
        "    c2 = plt.scatter(pca_2d[i,0],pca_2d[i,1],c='b',s=50,marker='+')\n",
        "  elif(count == 'M'):\n",
        "    c3 = plt.scatter(pca_2d[i,0],pca_2d[i,1],c='g',s=50,marker='p')\n",
        "  i+= 1\n",
        "\n",
        "plt.legend([c1, c2, c3], ['H', 'L', 'M'])\n",
        "x_min, x_max = pca_2d[:, 0].min() - 1,   pca_2d[:,0].max() + 1\n",
        "y_min, y_max = pca_2d[:, 1].min() - 1,   pca_2d[:, 1].max() + 1\n",
        "xx, yy = np.meshgrid(np.arange(x_min, x_max, .01),   np.arange(y_min, y_max, .01))\n",
        "Z = lr_pca.predict(np.c_[xx.ravel(),  yy.ravel()])\n",
        "Z = Z.reshape(xx.shape)\n",
        "plt.contour(xx, yy, Z)\n",
        "plt.title('Logistic Regression Decision Surface')\n",
        "plt.axis('on')\n",
        "plt.show()"
      ],
      "execution_count": null,
      "outputs": [
        {
          "output_type": "display_data",
          "data": {
            "image/png": "[encoded data removed]",
            "text/plain": [
              "<Figure size 432x288 with 1 Axes>"
            ]
          },
          "metadata": {
            "needs_background": "light"
          }
        }
      ]
    },
    {
      "cell_type": "markdown",
      "metadata": {
        "id": "6QKUV4oLgH-P"
      },
      "source": [
        "# **Pengklasifikasian Data Baru 1**"
      ]
    },
    {
      "cell_type": "markdown",
      "source": [
        "> Disini kami akan membuat 2 data baru untuk diklasifikan hasilnya oleh model"
      ],
      "metadata": {
        "id": "ztzfyCGvVSNS"
      }
    },
    {
      "cell_type": "code",
      "metadata": {
        "id": "YfOM4IWjzq84"
      },
      "source": [
        "new_data = pd.DataFrame({\n",
        "    'raisedhands' \t    : [80,22],\n",
        "    'VisITedResources' \t: [90,20],\n",
        "    'AnnouncementsView' :\t[80,20],\n",
        "    'Discussion'        : [33,44]\n",
        "})"
      ],
      "execution_count": null,
      "outputs": []
    },
    {
      "cell_type": "markdown",
      "source": [
        "> Kami menggunakan CalibratedClassifierCV untuk mendapatkan probabilitas kemungkinan suatu rekord jatuh kedalam klasifikasi rekord tertentu. Perlu dicatat bahwa penggunaan CalibratedClassifierCV tidak dapat sepenuhnya akurat dikarenakan perbedaan metode yang digunakan dengan prediksi hasil oleh model."
      ],
      "metadata": {
        "id": "b_E7DTkZVYVj"
      }
    },
    {
      "cell_type": "code",
      "source": [
        "from sklearn.calibration import CalibratedClassifierCV\n",
        "\n",
        "cc = CalibratedClassifierCV(base_estimator=lr).fit(x_train, y_train)"
      ],
      "metadata": {
        "id": "CcnqHbpeGc5K"
      },
      "execution_count": null,
      "outputs": []
    },
    {
      "cell_type": "markdown",
      "source": [
        "> Akan didapatkan hasil probabilitas hasil klasifikasi dari data baru"
      ],
      "metadata": {
        "id": "U9YXoh1ZVtYX"
      }
    },
    {
      "cell_type": "code",
      "source": [
        "new_data_pred_proba = cc.predict_proba(new_data)"
      ],
      "metadata": {
        "id": "JjWMRkF9IGdd"
      },
      "execution_count": null,
      "outputs": []
    },
    {
      "cell_type": "markdown",
      "source": [
        "> Dikarenakan variable new_data_pred_proba memiliki bentuk nested list. Oleh karena itu kami memisahkan setiap nilainya berdasarkan label nilai aslinya dan dibulatkan 3 decimal dibelakang koma."
      ],
      "metadata": {
        "id": "RmRn4L3CVzwY"
      }
    },
    {
      "cell_type": "code",
      "source": [
        "H_proba = []\n",
        "L_proba = []\n",
        "M_proba = []\n",
        "for i in new_data_pred_proba:\n",
        "  for j in range(0,len(i)):\n",
        "    if(j==0):\n",
        "      H_proba.append(round(i[j],3)*100)\n",
        "    elif(j==1):\n",
        "      L_proba.append(round(i[j],3)*100)\n",
        "    else:\n",
        "      M_proba.append(round(i[j],3)*100)"
      ],
      "metadata": {
        "id": "4-P3pZheJHXN"
      },
      "execution_count": null,
      "outputs": []
    },
    {
      "cell_type": "markdown",
      "source": [
        "> Untuk nilai hasil klasifikasinya maka model akan melakukan prediksi biasa pada data baru. Hasil klasifikasi akan dimasukan ke kolum baru yaitu class_score dan pembuatan kolum probabilitas jatuhnya rekord kedalam suatu klasifikasi menggunakan list nilai yang telah dibuat sebelumnya."
      ],
      "metadata": {
        "id": "vT43wQkPWGZX"
      }
    },
    {
      "cell_type": "code",
      "metadata": {
        "id": "Ew_nBkNGzozg"
      },
      "source": [
        "new_predict = lr.predict(new_data)\n",
        "new_data['Class_score'] = le.inverse_transform(new_predict)\n",
        "new_data['Probability_L'] = L_proba\n",
        "new_data['Probability_M'] = M_proba\n",
        "new_data['Probability_H'] = H_proba"
      ],
      "execution_count": null,
      "outputs": []
    },
    {
      "cell_type": "markdown",
      "source": [
        "> Maka didapatkannya hasil akhir rekord 1 dengan hasil klasifikasi score H dan rekord 2 dengan hasil klasifikasi skor L"
      ],
      "metadata": {
        "id": "mdrL-XpIWahJ"
      }
    },
    {
      "cell_type": "code",
      "source": [
        "new_data.head()"
      ],
      "metadata": {
        "colab": {
          "base_uri": "https://localhost:8080/",
          "height": 112
        },
        "id": "xEjWHtkWEwTl",
        "outputId": "38613791-c3a9-4a62-9e4d-7ae2b7692327"
      },
      "execution_count": null,
      "outputs": [
        {
          "output_type": "execute_result",
          "data": {
            "text/html": [
              "\n",
              "  <div id=\"df-9353ff31-041a-4c7f-a78b-0a7f796ba29d\">\n",
              "    <div class=\"colab-df-container\">\n",
              "      <div>\n",
              "<style scoped>\n",
              "    .dataframe tbody tr th:only-of-type {\n",
              "        vertical-align: middle;\n",
              "    }\n",
              "\n",
              "    .dataframe tbody tr th {\n",
              "        vertical-align: top;\n",
              "    }\n",
              "\n",
              "    .dataframe thead th {\n",
              "        text-align: right;\n",
              "    }\n",
              "</style>\n",
              "<table border=\"1\" class=\"dataframe\">\n",
              "  <thead>\n",
              "    <tr style=\"text-align: right;\">\n",
              "      <th></th>\n",
              "      <th>raisedhands</th>\n",
              "      <th>VisITedResources</th>\n",
              "      <th>AnnouncementsView</th>\n",
              "      <th>Discussion</th>\n",
              "      <th>Class_score</th>\n",
              "      <th>Probability_L</th>\n",
              "      <th>Probability_M</th>\n",
              "      <th>Probability_H</th>\n",
              "    </tr>\n",
              "  </thead>\n",
              "  <tbody>\n",
              "    <tr>\n",
              "      <th>0</th>\n",
              "      <td>80</td>\n",
              "      <td>90</td>\n",
              "      <td>80</td>\n",
              "      <td>33</td>\n",
              "      <td>H</td>\n",
              "      <td>2.8</td>\n",
              "      <td>47.5</td>\n",
              "      <td>49.6</td>\n",
              "    </tr>\n",
              "    <tr>\n",
              "      <th>1</th>\n",
              "      <td>22</td>\n",
              "      <td>20</td>\n",
              "      <td>20</td>\n",
              "      <td>44</td>\n",
              "      <td>M</td>\n",
              "      <td>46.4</td>\n",
              "      <td>47.3</td>\n",
              "      <td>6.3</td>\n",
              "    </tr>\n",
              "  </tbody>\n",
              "</table>\n",
              "</div>\n",
              "      <button class=\"colab-df-convert\" onclick=\"convertToInteractive('df-9353ff31-041a-4c7f-a78b-0a7f796ba29d')\"\n",
              "              title=\"Convert this dataframe to an interactive table.\"\n",
              "              style=\"display:none;\">\n",
              "        \n",
              "  <svg xmlns=\"http://www.w3.org/2000/svg\" height=\"24px\"viewBox=\"0 0 24 24\"\n",
              "       width=\"24px\">\n",
              "    <path d=\"M0 0h24v24H0V0z\" fill=\"none\"/>\n",
              "    <path d=\"M18.56 5.44l.94 2.06.94-2.06 2.06-.94-2.06-.94-.94-2.06-.94 2.06-2.06.94zm-11 1L8.5 8.5l.94-2.06 2.06-.94-2.06-.94L8.5 2.5l-.94 2.06-2.06.94zm10 10l.94 2.06.94-2.06 2.06-.94-2.06-.94-.94-2.06-.94 2.06-2.06.94z\"/><path d=\"M17.41 7.96l-1.37-1.37c-.4-.4-.92-.59-1.43-.59-.52 0-1.04.2-1.43.59L10.3 9.45l-7.72 7.72c-.78.78-.78 2.05 0 2.83L4 21.41c.39.39.9.59 1.41.59.51 0 1.02-.2 1.41-.59l7.78-7.78 2.81-2.81c.8-.78.8-2.07 0-2.86zM5.41 20L4 18.59l7.72-7.72 1.47 1.35L5.41 20z\"/>\n",
              "  </svg>\n",
              "      </button>\n",
              "      \n",
              "  <style>\n",
              "    .colab-df-container {\n",
              "      display:flex;\n",
              "      flex-wrap:wrap;\n",
              "      gap: 12px;\n",
              "    }\n",
              "\n",
              "    .colab-df-convert {\n",
              "      background-color: #E8F0FE;\n",
              "      border: none;\n",
              "      border-radius: 50%;\n",
              "      cursor: pointer;\n",
              "      display: none;\n",
              "      fill: #1967D2;\n",
              "      height: 32px;\n",
              "      padding: 0 0 0 0;\n",
              "      width: 32px;\n",
              "    }\n",
              "\n",
              "    .colab-df-convert:hover {\n",
              "      background-color: #E2EBFA;\n",
              "      box-shadow: 0px 1px 2px rgba(60, 64, 67, 0.3), 0px 1px 3px 1px rgba(60, 64, 67, 0.15);\n",
              "      fill: #174EA6;\n",
              "    }\n",
              "\n",
              "    [theme=dark] .colab-df-convert {\n",
              "      background-color: #3B4455;\n",
              "      fill: #D2E3FC;\n",
              "    }\n",
              "\n",
              "    [theme=dark] .colab-df-convert:hover {\n",
              "      background-color: #434B5C;\n",
              "      box-shadow: 0px 1px 3px 1px rgba(0, 0, 0, 0.15);\n",
              "      filter: drop-shadow(0px 1px 2px rgba(0, 0, 0, 0.3));\n",
              "      fill: #FFFFFF;\n",
              "    }\n",
              "  </style>\n",
              "\n",
              "      <script>\n",
              "        const buttonEl =\n",
              "          document.querySelector('#df-9353ff31-041a-4c7f-a78b-0a7f796ba29d button.colab-df-convert');\n",
              "        buttonEl.style.display =\n",
              "          google.colab.kernel.accessAllowed ? 'block' : 'none';\n",
              "\n",
              "        async function convertToInteractive(key) {\n",
              "          const element = document.querySelector('#df-9353ff31-041a-4c7f-a78b-0a7f796ba29d');\n",
              "          const dataTable =\n",
              "            await google.colab.kernel.invokeFunction('convertToInteractive',\n",
              "                                                     [key], {});\n",
              "          if (!dataTable) return;\n",
              "\n",
              "          const docLinkHtml = 'Like what you see? Visit the ' +\n",
              "            '<a target=\"_blank\" href=https://colab.research.google.com/notebooks/data_table.ipynb>data table notebook</a>'\n",
              "            + ' to learn more about interactive tables.';\n",
              "          element.innerHTML = '';\n",
              "          dataTable['output_type'] = 'display_data';\n",
              "          await google.colab.output.renderOutput(dataTable, element);\n",
              "          const docLink = document.createElement('div');\n",
              "          docLink.innerHTML = docLinkHtml;\n",
              "          element.appendChild(docLink);\n",
              "        }\n",
              "      </script>\n",
              "    </div>\n",
              "  </div>\n",
              "  "
            ],
            "text/plain": [
              "   raisedhands  VisITedResources  ...  Probability_M  Probability_H\n",
              "0           80                90  ...           47.5           49.6\n",
              "1           22                20  ...           47.3            6.3\n",
              "\n",
              "[2 rows x 8 columns]"
            ]
          },
          "metadata": {},
          "execution_count": 34
        }
      ]
    },
    {
      "cell_type": "markdown",
      "metadata": {
        "id": "GoJ5FhHuHjeE"
      },
      "source": [
        "# **Model Building 2**"
      ]
    },
    {
      "cell_type": "markdown",
      "source": [
        "> Disini kami akan menambahkan beberapa kolum feedback orang tua dalam pembelajaran model ini"
      ],
      "metadata": {
        "id": "djfVPjzCWkl6"
      }
    },
    {
      "cell_type": "markdown",
      "metadata": {
        "id": "s6QtMzpiH2Tt"
      },
      "source": [
        "**Data Preprocessing**\n",
        "\n",
        "> Disini kami akan memilih kolum yang akan digunakan dan dimasukan kedalam variable data2"
      ]
    },
    {
      "cell_type": "code",
      "metadata": {
        "id": "msSkSleIIHYG"
      },
      "source": [
        "column_selected = ['raisedhands','VisITedResources','AnnouncementsView','Discussion','ParentAnsweringSurvey','ParentschoolSatisfaction','Class']"
      ],
      "execution_count": null,
      "outputs": []
    },
    {
      "cell_type": "code",
      "metadata": {
        "id": "cPjOwhwCIDL5",
        "colab": {
          "base_uri": "https://localhost:8080/",
          "height": 206
        },
        "outputId": "ee3a6eb6-3715-44d6-f507-90723ce33463"
      },
      "source": [
        "data2 = df[column_selected]\n",
        "data2.head()"
      ],
      "execution_count": null,
      "outputs": [
        {
          "output_type": "execute_result",
          "data": {
            "text/html": [
              "\n",
              "  <div id=\"df-8ade60e1-1a6c-4a98-8127-b06286c29b1a\">\n",
              "    <div class=\"colab-df-container\">\n",
              "      <div>\n",
              "<style scoped>\n",
              "    .dataframe tbody tr th:only-of-type {\n",
              "        vertical-align: middle;\n",
              "    }\n",
              "\n",
              "    .dataframe tbody tr th {\n",
              "        vertical-align: top;\n",
              "    }\n",
              "\n",
              "    .dataframe thead th {\n",
              "        text-align: right;\n",
              "    }\n",
              "</style>\n",
              "<table border=\"1\" class=\"dataframe\">\n",
              "  <thead>\n",
              "    <tr style=\"text-align: right;\">\n",
              "      <th></th>\n",
              "      <th>raisedhands</th>\n",
              "      <th>VisITedResources</th>\n",
              "      <th>AnnouncementsView</th>\n",
              "      <th>Discussion</th>\n",
              "      <th>ParentAnsweringSurvey</th>\n",
              "      <th>ParentschoolSatisfaction</th>\n",
              "      <th>Class</th>\n",
              "    </tr>\n",
              "  </thead>\n",
              "  <tbody>\n",
              "    <tr>\n",
              "      <th>6</th>\n",
              "      <td>35</td>\n",
              "      <td>12</td>\n",
              "      <td>0</td>\n",
              "      <td>17</td>\n",
              "      <td>No</td>\n",
              "      <td>Bad</td>\n",
              "      <td>L</td>\n",
              "    </tr>\n",
              "    <tr>\n",
              "      <th>7</th>\n",
              "      <td>50</td>\n",
              "      <td>10</td>\n",
              "      <td>15</td>\n",
              "      <td>22</td>\n",
              "      <td>Yes</td>\n",
              "      <td>Good</td>\n",
              "      <td>M</td>\n",
              "    </tr>\n",
              "    <tr>\n",
              "      <th>8</th>\n",
              "      <td>12</td>\n",
              "      <td>21</td>\n",
              "      <td>16</td>\n",
              "      <td>50</td>\n",
              "      <td>Yes</td>\n",
              "      <td>Good</td>\n",
              "      <td>M</td>\n",
              "    </tr>\n",
              "    <tr>\n",
              "      <th>9</th>\n",
              "      <td>70</td>\n",
              "      <td>80</td>\n",
              "      <td>25</td>\n",
              "      <td>70</td>\n",
              "      <td>Yes</td>\n",
              "      <td>Good</td>\n",
              "      <td>M</td>\n",
              "    </tr>\n",
              "    <tr>\n",
              "      <th>10</th>\n",
              "      <td>50</td>\n",
              "      <td>88</td>\n",
              "      <td>30</td>\n",
              "      <td>80</td>\n",
              "      <td>Yes</td>\n",
              "      <td>Good</td>\n",
              "      <td>H</td>\n",
              "    </tr>\n",
              "  </tbody>\n",
              "</table>\n",
              "</div>\n",
              "      <button class=\"colab-df-convert\" onclick=\"convertToInteractive('df-8ade60e1-1a6c-4a98-8127-b06286c29b1a')\"\n",
              "              title=\"Convert this dataframe to an interactive table.\"\n",
              "              style=\"display:none;\">\n",
              "        \n",
              "  <svg xmlns=\"http://www.w3.org/2000/svg\" height=\"24px\"viewBox=\"0 0 24 24\"\n",
              "       width=\"24px\">\n",
              "    <path d=\"M0 0h24v24H0V0z\" fill=\"none\"/>\n",
              "    <path d=\"M18.56 5.44l.94 2.06.94-2.06 2.06-.94-2.06-.94-.94-2.06-.94 2.06-2.06.94zm-11 1L8.5 8.5l.94-2.06 2.06-.94-2.06-.94L8.5 2.5l-.94 2.06-2.06.94zm10 10l.94 2.06.94-2.06 2.06-.94-2.06-.94-.94-2.06-.94 2.06-2.06.94z\"/><path d=\"M17.41 7.96l-1.37-1.37c-.4-.4-.92-.59-1.43-.59-.52 0-1.04.2-1.43.59L10.3 9.45l-7.72 7.72c-.78.78-.78 2.05 0 2.83L4 21.41c.39.39.9.59 1.41.59.51 0 1.02-.2 1.41-.59l7.78-7.78 2.81-2.81c.8-.78.8-2.07 0-2.86zM5.41 20L4 18.59l7.72-7.72 1.47 1.35L5.41 20z\"/>\n",
              "  </svg>\n",
              "      </button>\n",
              "      \n",
              "  <style>\n",
              "    .colab-df-container {\n",
              "      display:flex;\n",
              "      flex-wrap:wrap;\n",
              "      gap: 12px;\n",
              "    }\n",
              "\n",
              "    .colab-df-convert {\n",
              "      background-color: #E8F0FE;\n",
              "      border: none;\n",
              "      border-radius: 50%;\n",
              "      cursor: pointer;\n",
              "      display: none;\n",
              "      fill: #1967D2;\n",
              "      height: 32px;\n",
              "      padding: 0 0 0 0;\n",
              "      width: 32px;\n",
              "    }\n",
              "\n",
              "    .colab-df-convert:hover {\n",
              "      background-color: #E2EBFA;\n",
              "      box-shadow: 0px 1px 2px rgba(60, 64, 67, 0.3), 0px 1px 3px 1px rgba(60, 64, 67, 0.15);\n",
              "      fill: #174EA6;\n",
              "    }\n",
              "\n",
              "    [theme=dark] .colab-df-convert {\n",
              "      background-color: #3B4455;\n",
              "      fill: #D2E3FC;\n",
              "    }\n",
              "\n",
              "    [theme=dark] .colab-df-convert:hover {\n",
              "      background-color: #434B5C;\n",
              "      box-shadow: 0px 1px 3px 1px rgba(0, 0, 0, 0.15);\n",
              "      filter: drop-shadow(0px 1px 2px rgba(0, 0, 0, 0.3));\n",
              "      fill: #FFFFFF;\n",
              "    }\n",
              "  </style>\n",
              "\n",
              "      <script>\n",
              "        const buttonEl =\n",
              "          document.querySelector('#df-8ade60e1-1a6c-4a98-8127-b06286c29b1a button.colab-df-convert');\n",
              "        buttonEl.style.display =\n",
              "          google.colab.kernel.accessAllowed ? 'block' : 'none';\n",
              "\n",
              "        async function convertToInteractive(key) {\n",
              "          const element = document.querySelector('#df-8ade60e1-1a6c-4a98-8127-b06286c29b1a');\n",
              "          const dataTable =\n",
              "            await google.colab.kernel.invokeFunction('convertToInteractive',\n",
              "                                                     [key], {});\n",
              "          if (!dataTable) return;\n",
              "\n",
              "          const docLinkHtml = 'Like what you see? Visit the ' +\n",
              "            '<a target=\"_blank\" href=https://colab.research.google.com/notebooks/data_table.ipynb>data table notebook</a>'\n",
              "            + ' to learn more about interactive tables.';\n",
              "          element.innerHTML = '';\n",
              "          dataTable['output_type'] = 'display_data';\n",
              "          await google.colab.output.renderOutput(dataTable, element);\n",
              "          const docLink = document.createElement('div');\n",
              "          docLink.innerHTML = docLinkHtml;\n",
              "          element.appendChild(docLink);\n",
              "        }\n",
              "      </script>\n",
              "    </div>\n",
              "  </div>\n",
              "  "
            ],
            "text/plain": [
              "    raisedhands  VisITedResources  ...  ParentschoolSatisfaction  Class\n",
              "6            35                12  ...                       Bad      L\n",
              "7            50                10  ...                      Good      M\n",
              "8            12                21  ...                      Good      M\n",
              "9            70                80  ...                      Good      M\n",
              "10           50                88  ...                      Good      H\n",
              "\n",
              "[5 rows x 7 columns]"
            ]
          },
          "metadata": {},
          "execution_count": 36
        }
      ]
    },
    {
      "cell_type": "markdown",
      "source": [
        "> Penggunaan labelencoder akan dilakukan kembali untuk mengubah nilai string menjadi nilai numerik"
      ],
      "metadata": {
        "id": "Bk2FblNsW3UP"
      }
    },
    {
      "cell_type": "code",
      "metadata": {
        "id": "auO_FChlIi1H",
        "colab": {
          "base_uri": "https://localhost:8080/"
        },
        "outputId": "09eed093-182c-4f7c-f67f-eae1d4b8f8f5"
      },
      "source": [
        "le = LabelEncoder()\n",
        "data2['Class'] = le.fit_transform(data2['Class'])"
      ],
      "execution_count": null,
      "outputs": [
        {
          "output_type": "stream",
          "name": "stderr",
          "text": [
            "/usr/local/lib/python3.7/dist-packages/ipykernel_launcher.py:2: SettingWithCopyWarning: \n",
            "A value is trying to be set on a copy of a slice from a DataFrame.\n",
            "Try using .loc[row_indexer,col_indexer] = value instead\n",
            "\n",
            "See the caveats in the documentation: https://pandas.pydata.org/pandas-docs/stable/user_guide/indexing.html#returning-a-view-versus-a-copy\n",
            "  \n"
          ]
        }
      ]
    },
    {
      "cell_type": "markdown",
      "source": [
        "> Pembuatan variable dummy untuk fitur yang memiliki tipe data kategorial dengan pengecualian kolum target yaitu Class"
      ],
      "metadata": {
        "id": "93J_xOalW_cv"
      }
    },
    {
      "cell_type": "code",
      "metadata": {
        "id": "uFKpKIs5Ihwe"
      },
      "source": [
        "category_dummy = []\n",
        "for i in data2.columns:\n",
        "  try:\n",
        "    if(data2[i].dtype == 'object' and i != 'Class'):\n",
        "      # data2[i] = pd.Categorical(data2[i], categories=data2[i].unique())\n",
        "      category_dummy.append(i)\n",
        "  except:\n",
        "    print(\"Exception occured!\")\n",
        "try:\n",
        "  data2 = pd.get_dummies(data2, columns=category_dummy)\n",
        "except:\n",
        "  print(\"Exception occured!\")"
      ],
      "execution_count": null,
      "outputs": []
    },
    {
      "cell_type": "code",
      "metadata": {
        "id": "ML9VEIBDJcaE",
        "colab": {
          "base_uri": "https://localhost:8080/",
          "height": 270
        },
        "outputId": "b46a5d21-0f07-4e6a-b112-ebd8b7fae249"
      },
      "source": [
        "data2['Class_score'] = data2['Class']\n",
        "data2 = data2.drop(['Class'],axis=1)\n",
        "data2.head()"
      ],
      "execution_count": null,
      "outputs": [
        {
          "output_type": "execute_result",
          "data": {
            "text/html": [
              "\n",
              "  <div id=\"df-4c2ac952-fce4-492c-bdb1-dd25b26cd956\">\n",
              "    <div class=\"colab-df-container\">\n",
              "      <div>\n",
              "<style scoped>\n",
              "    .dataframe tbody tr th:only-of-type {\n",
              "        vertical-align: middle;\n",
              "    }\n",
              "\n",
              "    .dataframe tbody tr th {\n",
              "        vertical-align: top;\n",
              "    }\n",
              "\n",
              "    .dataframe thead th {\n",
              "        text-align: right;\n",
              "    }\n",
              "</style>\n",
              "<table border=\"1\" class=\"dataframe\">\n",
              "  <thead>\n",
              "    <tr style=\"text-align: right;\">\n",
              "      <th></th>\n",
              "      <th>raisedhands</th>\n",
              "      <th>VisITedResources</th>\n",
              "      <th>AnnouncementsView</th>\n",
              "      <th>Discussion</th>\n",
              "      <th>ParentAnsweringSurvey_No</th>\n",
              "      <th>ParentAnsweringSurvey_Yes</th>\n",
              "      <th>ParentschoolSatisfaction_Bad</th>\n",
              "      <th>ParentschoolSatisfaction_Good</th>\n",
              "      <th>Class_score</th>\n",
              "    </tr>\n",
              "  </thead>\n",
              "  <tbody>\n",
              "    <tr>\n",
              "      <th>6</th>\n",
              "      <td>35</td>\n",
              "      <td>12</td>\n",
              "      <td>0</td>\n",
              "      <td>17</td>\n",
              "      <td>1</td>\n",
              "      <td>0</td>\n",
              "      <td>1</td>\n",
              "      <td>0</td>\n",
              "      <td>1</td>\n",
              "    </tr>\n",
              "    <tr>\n",
              "      <th>7</th>\n",
              "      <td>50</td>\n",
              "      <td>10</td>\n",
              "      <td>15</td>\n",
              "      <td>22</td>\n",
              "      <td>0</td>\n",
              "      <td>1</td>\n",
              "      <td>0</td>\n",
              "      <td>1</td>\n",
              "      <td>2</td>\n",
              "    </tr>\n",
              "    <tr>\n",
              "      <th>8</th>\n",
              "      <td>12</td>\n",
              "      <td>21</td>\n",
              "      <td>16</td>\n",
              "      <td>50</td>\n",
              "      <td>0</td>\n",
              "      <td>1</td>\n",
              "      <td>0</td>\n",
              "      <td>1</td>\n",
              "      <td>2</td>\n",
              "    </tr>\n",
              "    <tr>\n",
              "      <th>9</th>\n",
              "      <td>70</td>\n",
              "      <td>80</td>\n",
              "      <td>25</td>\n",
              "      <td>70</td>\n",
              "      <td>0</td>\n",
              "      <td>1</td>\n",
              "      <td>0</td>\n",
              "      <td>1</td>\n",
              "      <td>2</td>\n",
              "    </tr>\n",
              "    <tr>\n",
              "      <th>10</th>\n",
              "      <td>50</td>\n",
              "      <td>88</td>\n",
              "      <td>30</td>\n",
              "      <td>80</td>\n",
              "      <td>0</td>\n",
              "      <td>1</td>\n",
              "      <td>0</td>\n",
              "      <td>1</td>\n",
              "      <td>0</td>\n",
              "    </tr>\n",
              "  </tbody>\n",
              "</table>\n",
              "</div>\n",
              "      <button class=\"colab-df-convert\" onclick=\"convertToInteractive('df-4c2ac952-fce4-492c-bdb1-dd25b26cd956')\"\n",
              "              title=\"Convert this dataframe to an interactive table.\"\n",
              "              style=\"display:none;\">\n",
              "        \n",
              "  <svg xmlns=\"http://www.w3.org/2000/svg\" height=\"24px\"viewBox=\"0 0 24 24\"\n",
              "       width=\"24px\">\n",
              "    <path d=\"M0 0h24v24H0V0z\" fill=\"none\"/>\n",
              "    <path d=\"M18.56 5.44l.94 2.06.94-2.06 2.06-.94-2.06-.94-.94-2.06-.94 2.06-2.06.94zm-11 1L8.5 8.5l.94-2.06 2.06-.94-2.06-.94L8.5 2.5l-.94 2.06-2.06.94zm10 10l.94 2.06.94-2.06 2.06-.94-2.06-.94-.94-2.06-.94 2.06-2.06.94z\"/><path d=\"M17.41 7.96l-1.37-1.37c-.4-.4-.92-.59-1.43-.59-.52 0-1.04.2-1.43.59L10.3 9.45l-7.72 7.72c-.78.78-.78 2.05 0 2.83L4 21.41c.39.39.9.59 1.41.59.51 0 1.02-.2 1.41-.59l7.78-7.78 2.81-2.81c.8-.78.8-2.07 0-2.86zM5.41 20L4 18.59l7.72-7.72 1.47 1.35L5.41 20z\"/>\n",
              "  </svg>\n",
              "      </button>\n",
              "      \n",
              "  <style>\n",
              "    .colab-df-container {\n",
              "      display:flex;\n",
              "      flex-wrap:wrap;\n",
              "      gap: 12px;\n",
              "    }\n",
              "\n",
              "    .colab-df-convert {\n",
              "      background-color: #E8F0FE;\n",
              "      border: none;\n",
              "      border-radius: 50%;\n",
              "      cursor: pointer;\n",
              "      display: none;\n",
              "      fill: #1967D2;\n",
              "      height: 32px;\n",
              "      padding: 0 0 0 0;\n",
              "      width: 32px;\n",
              "    }\n",
              "\n",
              "    .colab-df-convert:hover {\n",
              "      background-color: #E2EBFA;\n",
              "      box-shadow: 0px 1px 2px rgba(60, 64, 67, 0.3), 0px 1px 3px 1px rgba(60, 64, 67, 0.15);\n",
              "      fill: #174EA6;\n",
              "    }\n",
              "\n",
              "    [theme=dark] .colab-df-convert {\n",
              "      background-color: #3B4455;\n",
              "      fill: #D2E3FC;\n",
              "    }\n",
              "\n",
              "    [theme=dark] .colab-df-convert:hover {\n",
              "      background-color: #434B5C;\n",
              "      box-shadow: 0px 1px 3px 1px rgba(0, 0, 0, 0.15);\n",
              "      filter: drop-shadow(0px 1px 2px rgba(0, 0, 0, 0.3));\n",
              "      fill: #FFFFFF;\n",
              "    }\n",
              "  </style>\n",
              "\n",
              "      <script>\n",
              "        const buttonEl =\n",
              "          document.querySelector('#df-4c2ac952-fce4-492c-bdb1-dd25b26cd956 button.colab-df-convert');\n",
              "        buttonEl.style.display =\n",
              "          google.colab.kernel.accessAllowed ? 'block' : 'none';\n",
              "\n",
              "        async function convertToInteractive(key) {\n",
              "          const element = document.querySelector('#df-4c2ac952-fce4-492c-bdb1-dd25b26cd956');\n",
              "          const dataTable =\n",
              "            await google.colab.kernel.invokeFunction('convertToInteractive',\n",
              "                                                     [key], {});\n",
              "          if (!dataTable) return;\n",
              "\n",
              "          const docLinkHtml = 'Like what you see? Visit the ' +\n",
              "            '<a target=\"_blank\" href=https://colab.research.google.com/notebooks/data_table.ipynb>data table notebook</a>'\n",
              "            + ' to learn more about interactive tables.';\n",
              "          element.innerHTML = '';\n",
              "          dataTable['output_type'] = 'display_data';\n",
              "          await google.colab.output.renderOutput(dataTable, element);\n",
              "          const docLink = document.createElement('div');\n",
              "          docLink.innerHTML = docLinkHtml;\n",
              "          element.appendChild(docLink);\n",
              "        }\n",
              "      </script>\n",
              "    </div>\n",
              "  </div>\n",
              "  "
            ],
            "text/plain": [
              "    raisedhands  VisITedResources  ...  ParentschoolSatisfaction_Good  Class_score\n",
              "6            35                12  ...                              0            1\n",
              "7            50                10  ...                              1            2\n",
              "8            12                21  ...                              1            2\n",
              "9            70                80  ...                              1            2\n",
              "10           50                88  ...                              1            0\n",
              "\n",
              "[5 rows x 9 columns]"
            ]
          },
          "metadata": {},
          "execution_count": 39
        }
      ]
    },
    {
      "cell_type": "markdown",
      "source": [
        "> Pemisahan kolum fitur dan kolum target menggunakan iloc dan normalisasi nilai dengan MinMaxScaler"
      ],
      "metadata": {
        "id": "jtg7W9lAXMcc"
      }
    },
    {
      "cell_type": "code",
      "metadata": {
        "id": "dEz3vNGUJsag",
        "colab": {
          "base_uri": "https://localhost:8080/",
          "height": 364
        },
        "outputId": "b5f78b1b-6b46-4e0e-9253-daf0b801010f"
      },
      "source": [
        "x = data2.iloc[:,:data2.shape[1]-1]\n",
        "y = data2.iloc[:,data2.shape[1]-1]\n",
        "\n",
        "from sklearn.preprocessing import MinMaxScaler\n",
        "mm = MinMaxScaler(feature_range=(0,100))\n",
        "\n",
        "x[['VisITedResources','AnnouncementsView','Discussion']] = mm.fit_transform(x[['VisITedResources','AnnouncementsView','Discussion']])\n",
        "x.describe()"
      ],
      "execution_count": null,
      "outputs": [
        {
          "output_type": "execute_result",
          "data": {
            "text/html": [
              "\n",
              "  <div id=\"df-3a1c519a-3392-4d58-983b-6af8af831f85\">\n",
              "    <div class=\"colab-df-container\">\n",
              "      <div>\n",
              "<style scoped>\n",
              "    .dataframe tbody tr th:only-of-type {\n",
              "        vertical-align: middle;\n",
              "    }\n",
              "\n",
              "    .dataframe tbody tr th {\n",
              "        vertical-align: top;\n",
              "    }\n",
              "\n",
              "    .dataframe thead th {\n",
              "        text-align: right;\n",
              "    }\n",
              "</style>\n",
              "<table border=\"1\" class=\"dataframe\">\n",
              "  <thead>\n",
              "    <tr style=\"text-align: right;\">\n",
              "      <th></th>\n",
              "      <th>raisedhands</th>\n",
              "      <th>VisITedResources</th>\n",
              "      <th>AnnouncementsView</th>\n",
              "      <th>Discussion</th>\n",
              "      <th>ParentAnsweringSurvey_No</th>\n",
              "      <th>ParentAnsweringSurvey_Yes</th>\n",
              "      <th>ParentschoolSatisfaction_Bad</th>\n",
              "      <th>ParentschoolSatisfaction_Good</th>\n",
              "    </tr>\n",
              "  </thead>\n",
              "  <tbody>\n",
              "    <tr>\n",
              "      <th>count</th>\n",
              "      <td>248.000000</td>\n",
              "      <td>248.000000</td>\n",
              "      <td>248.000000</td>\n",
              "      <td>248.000000</td>\n",
              "      <td>248.000000</td>\n",
              "      <td>248.000000</td>\n",
              "      <td>248.000000</td>\n",
              "      <td>248.000000</td>\n",
              "    </tr>\n",
              "    <tr>\n",
              "      <th>mean</th>\n",
              "      <td>53.939516</td>\n",
              "      <td>59.160150</td>\n",
              "      <td>44.157340</td>\n",
              "      <td>45.790816</td>\n",
              "      <td>0.383065</td>\n",
              "      <td>0.616935</td>\n",
              "      <td>0.391129</td>\n",
              "      <td>0.608871</td>\n",
              "    </tr>\n",
              "    <tr>\n",
              "      <th>std</th>\n",
              "      <td>31.086278</td>\n",
              "      <td>31.977796</td>\n",
              "      <td>27.342936</td>\n",
              "      <td>28.403112</td>\n",
              "      <td>0.487117</td>\n",
              "      <td>0.487117</td>\n",
              "      <td>0.488990</td>\n",
              "      <td>0.488990</td>\n",
              "    </tr>\n",
              "    <tr>\n",
              "      <th>min</th>\n",
              "      <td>0.000000</td>\n",
              "      <td>0.000000</td>\n",
              "      <td>0.000000</td>\n",
              "      <td>0.000000</td>\n",
              "      <td>0.000000</td>\n",
              "      <td>0.000000</td>\n",
              "      <td>0.000000</td>\n",
              "      <td>0.000000</td>\n",
              "    </tr>\n",
              "    <tr>\n",
              "      <th>25%</th>\n",
              "      <td>22.000000</td>\n",
              "      <td>24.494949</td>\n",
              "      <td>19.387755</td>\n",
              "      <td>19.387755</td>\n",
              "      <td>0.000000</td>\n",
              "      <td>0.000000</td>\n",
              "      <td>0.000000</td>\n",
              "      <td>0.000000</td>\n",
              "    </tr>\n",
              "    <tr>\n",
              "      <th>50%</th>\n",
              "      <td>69.000000</td>\n",
              "      <td>73.737374</td>\n",
              "      <td>42.857143</td>\n",
              "      <td>40.816327</td>\n",
              "      <td>0.000000</td>\n",
              "      <td>1.000000</td>\n",
              "      <td>0.000000</td>\n",
              "      <td>1.000000</td>\n",
              "    </tr>\n",
              "    <tr>\n",
              "      <th>75%</th>\n",
              "      <td>80.000000</td>\n",
              "      <td>84.848485</td>\n",
              "      <td>65.306122</td>\n",
              "      <td>70.408163</td>\n",
              "      <td>1.000000</td>\n",
              "      <td>1.000000</td>\n",
              "      <td>1.000000</td>\n",
              "      <td>1.000000</td>\n",
              "    </tr>\n",
              "    <tr>\n",
              "      <th>max</th>\n",
              "      <td>100.000000</td>\n",
              "      <td>100.000000</td>\n",
              "      <td>100.000000</td>\n",
              "      <td>100.000000</td>\n",
              "      <td>1.000000</td>\n",
              "      <td>1.000000</td>\n",
              "      <td>1.000000</td>\n",
              "      <td>1.000000</td>\n",
              "    </tr>\n",
              "  </tbody>\n",
              "</table>\n",
              "</div>\n",
              "      <button class=\"colab-df-convert\" onclick=\"convertToInteractive('df-3a1c519a-3392-4d58-983b-6af8af831f85')\"\n",
              "              title=\"Convert this dataframe to an interactive table.\"\n",
              "              style=\"display:none;\">\n",
              "        \n",
              "  <svg xmlns=\"http://www.w3.org/2000/svg\" height=\"24px\"viewBox=\"0 0 24 24\"\n",
              "       width=\"24px\">\n",
              "    <path d=\"M0 0h24v24H0V0z\" fill=\"none\"/>\n",
              "    <path d=\"M18.56 5.44l.94 2.06.94-2.06 2.06-.94-2.06-.94-.94-2.06-.94 2.06-2.06.94zm-11 1L8.5 8.5l.94-2.06 2.06-.94-2.06-.94L8.5 2.5l-.94 2.06-2.06.94zm10 10l.94 2.06.94-2.06 2.06-.94-2.06-.94-.94-2.06-.94 2.06-2.06.94z\"/><path d=\"M17.41 7.96l-1.37-1.37c-.4-.4-.92-.59-1.43-.59-.52 0-1.04.2-1.43.59L10.3 9.45l-7.72 7.72c-.78.78-.78 2.05 0 2.83L4 21.41c.39.39.9.59 1.41.59.51 0 1.02-.2 1.41-.59l7.78-7.78 2.81-2.81c.8-.78.8-2.07 0-2.86zM5.41 20L4 18.59l7.72-7.72 1.47 1.35L5.41 20z\"/>\n",
              "  </svg>\n",
              "      </button>\n",
              "      \n",
              "  <style>\n",
              "    .colab-df-container {\n",
              "      display:flex;\n",
              "      flex-wrap:wrap;\n",
              "      gap: 12px;\n",
              "    }\n",
              "\n",
              "    .colab-df-convert {\n",
              "      background-color: #E8F0FE;\n",
              "      border: none;\n",
              "      border-radius: 50%;\n",
              "      cursor: pointer;\n",
              "      display: none;\n",
              "      fill: #1967D2;\n",
              "      height: 32px;\n",
              "      padding: 0 0 0 0;\n",
              "      width: 32px;\n",
              "    }\n",
              "\n",
              "    .colab-df-convert:hover {\n",
              "      background-color: #E2EBFA;\n",
              "      box-shadow: 0px 1px 2px rgba(60, 64, 67, 0.3), 0px 1px 3px 1px rgba(60, 64, 67, 0.15);\n",
              "      fill: #174EA6;\n",
              "    }\n",
              "\n",
              "    [theme=dark] .colab-df-convert {\n",
              "      background-color: #3B4455;\n",
              "      fill: #D2E3FC;\n",
              "    }\n",
              "\n",
              "    [theme=dark] .colab-df-convert:hover {\n",
              "      background-color: #434B5C;\n",
              "      box-shadow: 0px 1px 3px 1px rgba(0, 0, 0, 0.15);\n",
              "      filter: drop-shadow(0px 1px 2px rgba(0, 0, 0, 0.3));\n",
              "      fill: #FFFFFF;\n",
              "    }\n",
              "  </style>\n",
              "\n",
              "      <script>\n",
              "        const buttonEl =\n",
              "          document.querySelector('#df-3a1c519a-3392-4d58-983b-6af8af831f85 button.colab-df-convert');\n",
              "        buttonEl.style.display =\n",
              "          google.colab.kernel.accessAllowed ? 'block' : 'none';\n",
              "\n",
              "        async function convertToInteractive(key) {\n",
              "          const element = document.querySelector('#df-3a1c519a-3392-4d58-983b-6af8af831f85');\n",
              "          const dataTable =\n",
              "            await google.colab.kernel.invokeFunction('convertToInteractive',\n",
              "                                                     [key], {});\n",
              "          if (!dataTable) return;\n",
              "\n",
              "          const docLinkHtml = 'Like what you see? Visit the ' +\n",
              "            '<a target=\"_blank\" href=https://colab.research.google.com/notebooks/data_table.ipynb>data table notebook</a>'\n",
              "            + ' to learn more about interactive tables.';\n",
              "          element.innerHTML = '';\n",
              "          dataTable['output_type'] = 'display_data';\n",
              "          await google.colab.output.renderOutput(dataTable, element);\n",
              "          const docLink = document.createElement('div');\n",
              "          docLink.innerHTML = docLinkHtml;\n",
              "          element.appendChild(docLink);\n",
              "        }\n",
              "      </script>\n",
              "    </div>\n",
              "  </div>\n",
              "  "
            ],
            "text/plain": [
              "       raisedhands  ...  ParentschoolSatisfaction_Good\n",
              "count   248.000000  ...                     248.000000\n",
              "mean     53.939516  ...                       0.608871\n",
              "std      31.086278  ...                       0.488990\n",
              "min       0.000000  ...                       0.000000\n",
              "25%      22.000000  ...                       0.000000\n",
              "50%      69.000000  ...                       1.000000\n",
              "75%      80.000000  ...                       1.000000\n",
              "max     100.000000  ...                       1.000000\n",
              "\n",
              "[8 rows x 8 columns]"
            ]
          },
          "metadata": {},
          "execution_count": 40
        }
      ]
    },
    {
      "cell_type": "markdown",
      "source": [
        "> Disini kami akan membagi data kembali untuk model training dan model testing dengan data untuk testing sebesar 35% dan random_state = 0"
      ],
      "metadata": {
        "id": "Ttr4niyGXeES"
      }
    },
    {
      "cell_type": "code",
      "metadata": {
        "id": "Wj2wkwiZM372",
        "colab": {
          "base_uri": "https://localhost:8080/"
        },
        "outputId": "f561cb23-110c-4f41-f459-8cae96f6ece7"
      },
      "source": [
        "x_train, x_test, y_train, y_test = train_test_split(x,y,test_size=0.35, random_state=0)\n",
        "print(x_train.shape)\n",
        "print(x_test.shape)\n",
        "print(y_train.shape)\n",
        "print(y_test.shape)"
      ],
      "execution_count": null,
      "outputs": [
        {
          "output_type": "stream",
          "name": "stdout",
          "text": [
            "(161, 8)\n",
            "(87, 8)\n",
            "(161,)\n",
            "(87,)\n"
          ]
        }
      ]
    },
    {
      "cell_type": "markdown",
      "metadata": {
        "id": "5e8Xg-DZH3yk"
      },
      "source": [
        "**Model Training dan Testing**\n",
        "\n",
        "> Akan digunakan model yang sama seperti model pertama"
      ]
    },
    {
      "cell_type": "code",
      "metadata": {
        "id": "tycZEtj_Hnd-"
      },
      "source": [
        "from sklearn.linear_model import LogisticRegression\n",
        "\n",
        "#Inisialisasi\n",
        "lr = LogisticRegression(random_state=0, max_iter=1000)"
      ],
      "execution_count": null,
      "outputs": []
    },
    {
      "cell_type": "code",
      "metadata": {
        "id": "sPIzCXWhHqzD",
        "colab": {
          "base_uri": "https://localhost:8080/"
        },
        "outputId": "e12a4628-8b0a-41b2-f445-c5c1cac283f5"
      },
      "source": [
        "#Fitting\n",
        "lr.fit(x_train, y_train)"
      ],
      "execution_count": null,
      "outputs": [
        {
          "output_type": "execute_result",
          "data": {
            "text/plain": [
              "LogisticRegression(max_iter=1000, random_state=0)"
            ]
          },
          "metadata": {},
          "execution_count": 43
        }
      ]
    },
    {
      "cell_type": "code",
      "metadata": {
        "id": "W3YSGaNkHtlb",
        "colab": {
          "base_uri": "https://localhost:8080/"
        },
        "outputId": "ee98dae9-206a-4980-9b62-0beeb0c817fa"
      },
      "source": [
        "y_lr_predict = lr.predict(x_test)\n",
        "print(\"Accuracy model training {}\".format(lr.score(x_train,y_train)))\n",
        "print(\"Accuracy model testing {}\".format(lr.score(x_test,y_test)))"
      ],
      "execution_count": null,
      "outputs": [
        {
          "output_type": "stream",
          "name": "stdout",
          "text": [
            "Accuracy model training 0.7142857142857143\n",
            "Accuracy model testing 0.632183908045977\n"
          ]
        }
      ]
    },
    {
      "cell_type": "code",
      "metadata": {
        "id": "Onw2z5ryHwGU",
        "colab": {
          "base_uri": "https://localhost:8080/"
        },
        "outputId": "fb7922eb-9541-4ce3-ea8c-07f14cec6069"
      },
      "source": [
        "from sklearn.metrics import classification_report\n",
        "print(\"Classification Report Test \\n\",classification_report(y_test, y_lr_predict),\"\\n==========================================================\")"
      ],
      "execution_count": null,
      "outputs": [
        {
          "output_type": "stream",
          "name": "stdout",
          "text": [
            "Classification Report Test \n",
            "               precision    recall  f1-score   support\n",
            "\n",
            "           0       0.56      0.64      0.60        28\n",
            "           1       0.80      0.71      0.75        17\n",
            "           2       0.62      0.60      0.61        42\n",
            "\n",
            "    accuracy                           0.63        87\n",
            "   macro avg       0.66      0.65      0.65        87\n",
            "weighted avg       0.64      0.63      0.63        87\n",
            " \n",
            "==========================================================\n"
          ]
        }
      ]
    },
    {
      "cell_type": "markdown",
      "source": [
        "Berdasarkan *confusion matrix* dibawah ini, hasil pengujian model *Logistic Regression* mendapat kesalahan sebesar 32 rekord dengan jumlah benar sebesar 55"
      ],
      "metadata": {
        "id": "XltAz3tvYMCn"
      }
    },
    {
      "cell_type": "code",
      "metadata": {
        "id": "_HdaHyKgH0qd",
        "colab": {
          "base_uri": "https://localhost:8080/",
          "height": 338
        },
        "outputId": "e54075d2-0091-4387-c603-a3c1bfd8333a"
      },
      "source": [
        "from sklearn import metrics\n",
        "for i in [y_lr_predict]:\n",
        "  f, ax = plt.subplots(figsize=(8,5))\n",
        "  sns.heatmap(metrics.confusion_matrix(y_test, i), annot=True, fmt=\".0f\", ax=ax)\n",
        "  plt.xlabel(\"Predicted\")\n",
        "  plt.ylabel(\"Actual\")\n",
        "  plt.show()"
      ],
      "execution_count": null,
      "outputs": [
        {
          "output_type": "display_data",
          "data": {
            "image/png": "[encoded data removed]",
            "text/plain": [
              "<Figure size 576x360 with 2 Axes>"
            ]
          },
          "metadata": {
            "needs_background": "light"
          }
        }
      ]
    },
    {
      "cell_type": "markdown",
      "metadata": {
        "id": "z0za3Fg9Lc_w"
      },
      "source": [
        "# **Pengklasifikasian Data Baru 2**"
      ]
    },
    {
      "cell_type": "markdown",
      "source": [
        "> Disini akan dilakukannya percobaan klasifikasi terbaru dengan jumlah rekord 3"
      ],
      "metadata": {
        "id": "Nn_wfzYGYh9n"
      }
    },
    {
      "cell_type": "code",
      "metadata": {
        "id": "HUOBgTDYLidE"
      },
      "source": [
        "new_data = pd.DataFrame({\n",
        "    'raisedhands' \t    : [30,25,70],\n",
        "    'VisITedResources' \t: [30,25,80],\n",
        "    'AnnouncementsView' :\t[35,25,90],\n",
        "    'Discussion'        : [30,25,80],\n",
        "    'ParentAnsweringSurvey_No':[1,0,1],\n",
        "    'ParentAnsweringSurvey_Yes':[1,0,1],\n",
        "    'ParentschoolSatisfaction_Bad':[0,0,1],\n",
        "    'ParentschoolSatisfaction_Good':[1,0,1]\n",
        "})"
      ],
      "execution_count": null,
      "outputs": []
    },
    {
      "cell_type": "markdown",
      "source": [
        "> Penggabungan hasil kedalam dataframe data baru"
      ],
      "metadata": {
        "id": "y8vD_n-leRY7"
      }
    },
    {
      "cell_type": "code",
      "metadata": {
        "id": "GoNdO9lROoLu"
      },
      "source": [
        "new_data_pred = lr.predict(new_data)\n",
        "new_data['Class_score'] = le.inverse_transform(new_data_pred)"
      ],
      "execution_count": null,
      "outputs": []
    },
    {
      "cell_type": "code",
      "source": [
        "new_data.head()"
      ],
      "metadata": {
        "colab": {
          "base_uri": "https://localhost:8080/",
          "height": 207
        },
        "id": "kjxNKfShEo0Z",
        "outputId": "05bccc7e-cd00-4ccc-e2f1-7c78b5bc9a8c"
      },
      "execution_count": null,
      "outputs": [
        {
          "output_type": "execute_result",
          "data": {
            "text/html": [
              "\n",
              "  <div id=\"df-f23367f0-42fc-4169-8c63-52bf29492bb0\">\n",
              "    <div class=\"colab-df-container\">\n",
              "      <div>\n",
              "<style scoped>\n",
              "    .dataframe tbody tr th:only-of-type {\n",
              "        vertical-align: middle;\n",
              "    }\n",
              "\n",
              "    .dataframe tbody tr th {\n",
              "        vertical-align: top;\n",
              "    }\n",
              "\n",
              "    .dataframe thead th {\n",
              "        text-align: right;\n",
              "    }\n",
              "</style>\n",
              "<table border=\"1\" class=\"dataframe\">\n",
              "  <thead>\n",
              "    <tr style=\"text-align: right;\">\n",
              "      <th></th>\n",
              "      <th>raisedhands</th>\n",
              "      <th>VisITedResources</th>\n",
              "      <th>AnnouncementsView</th>\n",
              "      <th>Discussion</th>\n",
              "      <th>ParentAnsweringSurvey_No</th>\n",
              "      <th>ParentAnsweringSurvey_Yes</th>\n",
              "      <th>ParentschoolSatisfaction_Bad</th>\n",
              "      <th>ParentschoolSatisfaction_Good</th>\n",
              "      <th>Class_score</th>\n",
              "    </tr>\n",
              "  </thead>\n",
              "  <tbody>\n",
              "    <tr>\n",
              "      <th>0</th>\n",
              "      <td>30</td>\n",
              "      <td>30</td>\n",
              "      <td>35</td>\n",
              "      <td>30</td>\n",
              "      <td>1</td>\n",
              "      <td>1</td>\n",
              "      <td>0</td>\n",
              "      <td>1</td>\n",
              "      <td>M</td>\n",
              "    </tr>\n",
              "    <tr>\n",
              "      <th>1</th>\n",
              "      <td>25</td>\n",
              "      <td>25</td>\n",
              "      <td>25</td>\n",
              "      <td>25</td>\n",
              "      <td>0</td>\n",
              "      <td>0</td>\n",
              "      <td>0</td>\n",
              "      <td>0</td>\n",
              "      <td>L</td>\n",
              "    </tr>\n",
              "    <tr>\n",
              "      <th>2</th>\n",
              "      <td>70</td>\n",
              "      <td>80</td>\n",
              "      <td>90</td>\n",
              "      <td>80</td>\n",
              "      <td>1</td>\n",
              "      <td>1</td>\n",
              "      <td>1</td>\n",
              "      <td>1</td>\n",
              "      <td>H</td>\n",
              "    </tr>\n",
              "  </tbody>\n",
              "</table>\n",
              "</div>\n",
              "      <button class=\"colab-df-convert\" onclick=\"convertToInteractive('df-f23367f0-42fc-4169-8c63-52bf29492bb0')\"\n",
              "              title=\"Convert this dataframe to an interactive table.\"\n",
              "              style=\"display:none;\">\n",
              "        \n",
              "  <svg xmlns=\"http://www.w3.org/2000/svg\" height=\"24px\"viewBox=\"0 0 24 24\"\n",
              "       width=\"24px\">\n",
              "    <path d=\"M0 0h24v24H0V0z\" fill=\"none\"/>\n",
              "    <path d=\"M18.56 5.44l.94 2.06.94-2.06 2.06-.94-2.06-.94-.94-2.06-.94 2.06-2.06.94zm-11 1L8.5 8.5l.94-2.06 2.06-.94-2.06-.94L8.5 2.5l-.94 2.06-2.06.94zm10 10l.94 2.06.94-2.06 2.06-.94-2.06-.94-.94-2.06-.94 2.06-2.06.94z\"/><path d=\"M17.41 7.96l-1.37-1.37c-.4-.4-.92-.59-1.43-.59-.52 0-1.04.2-1.43.59L10.3 9.45l-7.72 7.72c-.78.78-.78 2.05 0 2.83L4 21.41c.39.39.9.59 1.41.59.51 0 1.02-.2 1.41-.59l7.78-7.78 2.81-2.81c.8-.78.8-2.07 0-2.86zM5.41 20L4 18.59l7.72-7.72 1.47 1.35L5.41 20z\"/>\n",
              "  </svg>\n",
              "      </button>\n",
              "      \n",
              "  <style>\n",
              "    .colab-df-container {\n",
              "      display:flex;\n",
              "      flex-wrap:wrap;\n",
              "      gap: 12px;\n",
              "    }\n",
              "\n",
              "    .colab-df-convert {\n",
              "      background-color: #E8F0FE;\n",
              "      border: none;\n",
              "      border-radius: 50%;\n",
              "      cursor: pointer;\n",
              "      display: none;\n",
              "      fill: #1967D2;\n",
              "      height: 32px;\n",
              "      padding: 0 0 0 0;\n",
              "      width: 32px;\n",
              "    }\n",
              "\n",
              "    .colab-df-convert:hover {\n",
              "      background-color: #E2EBFA;\n",
              "      box-shadow: 0px 1px 2px rgba(60, 64, 67, 0.3), 0px 1px 3px 1px rgba(60, 64, 67, 0.15);\n",
              "      fill: #174EA6;\n",
              "    }\n",
              "\n",
              "    [theme=dark] .colab-df-convert {\n",
              "      background-color: #3B4455;\n",
              "      fill: #D2E3FC;\n",
              "    }\n",
              "\n",
              "    [theme=dark] .colab-df-convert:hover {\n",
              "      background-color: #434B5C;\n",
              "      box-shadow: 0px 1px 3px 1px rgba(0, 0, 0, 0.15);\n",
              "      filter: drop-shadow(0px 1px 2px rgba(0, 0, 0, 0.3));\n",
              "      fill: #FFFFFF;\n",
              "    }\n",
              "  </style>\n",
              "\n",
              "      <script>\n",
              "        const buttonEl =\n",
              "          document.querySelector('#df-f23367f0-42fc-4169-8c63-52bf29492bb0 button.colab-df-convert');\n",
              "        buttonEl.style.display =\n",
              "          google.colab.kernel.accessAllowed ? 'block' : 'none';\n",
              "\n",
              "        async function convertToInteractive(key) {\n",
              "          const element = document.querySelector('#df-f23367f0-42fc-4169-8c63-52bf29492bb0');\n",
              "          const dataTable =\n",
              "            await google.colab.kernel.invokeFunction('convertToInteractive',\n",
              "                                                     [key], {});\n",
              "          if (!dataTable) return;\n",
              "\n",
              "          const docLinkHtml = 'Like what you see? Visit the ' +\n",
              "            '<a target=\"_blank\" href=https://colab.research.google.com/notebooks/data_table.ipynb>data table notebook</a>'\n",
              "            + ' to learn more about interactive tables.';\n",
              "          element.innerHTML = '';\n",
              "          dataTable['output_type'] = 'display_data';\n",
              "          await google.colab.output.renderOutput(dataTable, element);\n",
              "          const docLink = document.createElement('div');\n",
              "          docLink.innerHTML = docLinkHtml;\n",
              "          element.appendChild(docLink);\n",
              "        }\n",
              "      </script>\n",
              "    </div>\n",
              "  </div>\n",
              "  "
            ],
            "text/plain": [
              "   raisedhands  VisITedResources  ...  ParentschoolSatisfaction_Good  Class_score\n",
              "0           30                30  ...                              1            M\n",
              "1           25                25  ...                              0            L\n",
              "2           70                80  ...                              1            H\n",
              "\n",
              "[3 rows x 9 columns]"
            ]
          },
          "metadata": {},
          "execution_count": 49
        }
      ]
    },
    {
      "cell_type": "markdown",
      "source": [
        "# **RFE**"
      ],
      "metadata": {
        "id": "MZdnBgwPNPv8"
      }
    },
    {
      "cell_type": "markdown",
      "source": [
        "> Kami menggunakan *RFE (Recursive Feature Elimination)* untuk melakukan seleksi fitur terbaik yang memberikan dampak signifikan terhadap performa model."
      ],
      "metadata": {
        "id": "Ws8mCCLAXg8d"
      }
    },
    {
      "cell_type": "code",
      "source": [
        "from sklearn.feature_selection import RFE"
      ],
      "metadata": {
        "id": "tt-lcl8jNRjs"
      },
      "execution_count": null,
      "outputs": []
    },
    {
      "cell_type": "markdown",
      "source": [
        "> Kami memilih kolum fitur dan target yang akan digunakan pada pembuatan model pertama ['raisedhands','VisITedResources','AnnouncementsView',\\\n",
        "'Discussion'] dan pembuatan model kedua ['ParentAnsweringSurvey','ParentschoolSatisfaction','StudentAbsenceDays']"
      ],
      "metadata": {
        "id": "Zcc8bWPOXZV3"
      }
    },
    {
      "cell_type": "code",
      "source": [
        "data_rfe = df[['raisedhands','VisITedResources','AnnouncementsView',\\\n",
        "'Discussion','ParentAnsweringSurvey','ParentschoolSatisfaction','StudentAbsenceDays','Class']]"
      ],
      "metadata": {
        "id": "4kPv8HreUDWu"
      },
      "execution_count": null,
      "outputs": []
    },
    {
      "cell_type": "markdown",
      "source": [
        "> Kami menggunakan iloc untuk memisahkan fitur dan target dari dataframe."
      ],
      "metadata": {
        "id": "5wUNYFDGYAF-"
      }
    },
    {
      "cell_type": "code",
      "source": [
        "fitur = data_rfe.iloc[:,:data_rfe.shape[1]-1]\n",
        "target= data_rfe.iloc[:,data_rfe.shape[1]-1]"
      ],
      "metadata": {
        "id": "DPVIILUfUFl4"
      },
      "execution_count": null,
      "outputs": []
    },
    {
      "cell_type": "markdown",
      "source": [
        "> Dikarenakan *RFE* memerlukan tipe data numerik atau vektor, oleh karena itu dibutuhkannya transformasi data string menjadi numerik dengan menggunakan LabelEncoder"
      ],
      "metadata": {
        "id": "HntVMpQeYHwo"
      }
    },
    {
      "cell_type": "code",
      "source": [
        "target = le.fit_transform(target)\n",
        "fitur['ParentAnsweringSurvey'] = le.fit_transform(fitur['ParentAnsweringSurvey'])\n",
        "fitur['ParentschoolSatisfaction'] = le.fit_transform(fitur['ParentschoolSatisfaction'])\n",
        "fitur['StudentAbsenceDays'] = le.fit_transform(fitur['StudentAbsenceDays'])"
      ],
      "metadata": {
        "id": "eiNArufvUlUF"
      },
      "execution_count": null,
      "outputs": []
    },
    {
      "cell_type": "markdown",
      "source": [
        "> Setelah transformasi data, kami melakukan uji korelasi dengan menggunakan *RFE* dan menampilkan hasil peringkat fitur.\n",
        "\n",
        "> Mula-mula model perlu diinisialisasi dengan menggunakan LogisticRegression dan max_iter sebesar 1000 untuk menghindari peringatan iterasi, lalu melakukan fitting *dataset* terhadap pemilihan *RFE*."
      ],
      "metadata": {
        "id": "4YO-agmHYV9m"
      }
    },
    {
      "cell_type": "code",
      "source": [
        "model = LogisticRegression(random_state=0, max_iter=1000)\n",
        "rfe_model = RFE(model, n_features_to_select=4, step=1)\n",
        "rfe_model = rfe_model.fit(fitur, target)\n",
        "print(\"Pemilihan\\n\",rfe_model.support_)\n",
        "print(\"Fitur Ranking\\n\",rfe_model.ranking_)\n",
        "print(\"Fitur\\n\",fitur.columns)"
      ],
      "metadata": {
        "colab": {
          "base_uri": "https://localhost:8080/"
        },
        "id": "SMVpNqYtVA-X",
        "outputId": "2f7e0fc0-0a6a-4af8-8124-4c682f4142ff"
      },
      "execution_count": null,
      "outputs": [
        {
          "output_type": "stream",
          "name": "stdout",
          "text": [
            "Pemilihan\n",
            " [False  True False False  True  True  True]\n",
            "Fitur Ranking\n",
            " [2 1 4 3 1 1 1]\n",
            "Fitur\n",
            " Index(['raisedhands', 'VisITedResources', 'AnnouncementsView', 'Discussion',\n",
            "       'ParentAnsweringSurvey', 'ParentschoolSatisfaction',\n",
            "       'StudentAbsenceDays'],\n",
            "      dtype='object')\n"
          ]
        }
      ]
    },
    {
      "cell_type": "markdown",
      "source": [
        "> Berdasarkan hasil dari *RFE* 4 fitur, fitur yang berdampak secara signifikan merupakan VisitedResources, ParentAnsweringSurvey, ParentSchoolSatisfaction, dan StudentAbsenceDays"
      ],
      "metadata": {
        "id": "XwgowKTEYkUk"
      }
    },
    {
      "cell_type": "markdown",
      "metadata": {
        "id": "0KV8uShpxVD9"
      },
      "source": [
        "# **Referensi**"
      ]
    },
    {
      "cell_type": "markdown",
      "metadata": {
        "id": "IUhNAxcrxW_U"
      },
      "source": [
        "* https://medium.com/@adiptamartulandi/tuning-hyperparameters-logistic-regression-menggunakan-grid-search-ucupstory-fb1ab9db082a\n",
        "\n",
        "* https://towardsdatascience.com/visualizing-support-vector-machine-decision-boundary-69e7591dacea"
      ]
    }
  ]
}